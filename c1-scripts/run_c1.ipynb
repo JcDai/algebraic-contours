{
 "cells": [
  {
   "cell_type": "code",
   "execution_count": null,
   "metadata": {},
   "outputs": [],
   "source": [
    "import json\n",
    "import sys\n",
    "import os\n",
    "import subprocess\n",
    "import traceback\n",
    "\n",
    "executables_json = \"executables.json\"\n",
    "normalized_path = \"normalized\"\n",
    "embedded_path = \"embedded\"\n",
    "offsets_path = \"offsets\"\n",
    "c1_path = \"c1\""
   ]
  },
  {
   "cell_type": "code",
   "execution_count": null,
   "metadata": {},
   "outputs": [],
   "source": [
    "with open(executables_json, \"r\") as f:\n",
    "    executables = json.load(f)\n",
    "\n",
    "seamless_parametrization_binary = executables[\"seamless_parametrization_binary\"]\n",
    "polyfem_binary = executables[\"polyfem_binary\"]\n",
    "smooth_contours_binary = executables[\"smooth_contours_binary\"]\n",
    "c1_meshing_script = executables[\"c1_meshing_script\"]"
   ]
  },
  {
   "cell_type": "code",
   "execution_count": null,
   "metadata": {},
   "outputs": [],
   "source": [
    "def run_command(command):\n",
    "    try:\n",
    "        subprocess.run(command, shell=True, check=True)\n",
    "    except subprocess.CalledProcessError as e:\n",
    "        print(f\"!!!!! Command '{command}' failed with error: {e} !!!!!\")"
   ]
  },
  {
   "cell_type": "code",
   "execution_count": null,
   "metadata": {},
   "outputs": [],
   "source": [
    "# gather files to run\n",
    "input_files = [\n",
    "    os.path.join(normalized_path, file)\n",
    "    for file in os.listdir(normalized_path)\n",
    "    if file.endswith(\".msh\")\n",
    "]\n",
    "input_files"
   ]
  },
  {
   "cell_type": "code",
   "execution_count": null,
   "metadata": {},
   "outputs": [],
   "source": [
    "# prepare directories and commands\n",
    "os.makedirs(c1_path, exist_ok=True)\n",
    "\n",
    "commands = []\n",
    "for input_file in input_files:\n",
    "    input_file_stem = os.path.splitext(input_file)[0]\n",
    "    input_file_basename = os.path.basename(input_file)\n",
    "    input_file_basename_stem = os.path.splitext(input_file_basename)[0]\n",
    "\n",
    "    input_file = os.path.abspath(input_file)\n",
    "    output_name = input_file_basename_stem\n",
    "    \n",
    "    output_folder = os.path.join(c1_path, output_name)\n",
    "\n",
    "    if not os.path.isfile(input_file):\n",
    "        print(\"Input file\", input_file, \" does not exist\")\n",
    "\n",
    "    os.makedirs(output_folder, exist_ok=True)\n",
    "    \n",
    "    command = \" \".join(\n",
    "        [\n",
    "            \"cd\",\n",
    "            output_folder,\n",
    "            \"; \",\n",
    "            \"python3\",\n",
    "            c1_meshing_script,\n",
    "            input_file,\n",
    "            output_name,\n",
    "            seamless_parametrization_binary,\n",
    "            smooth_contours_binary,\n",
    "            polyfem_binary,\n",
    "        ]\n",
    "    )\n",
    "    commands.append(command)\n",
    "    break\n",
    "\n",
    "commands"
   ]
  },
  {
   "cell_type": "code",
   "execution_count": null,
   "metadata": {},
   "outputs": [],
   "source": [
    "for command in commands:\n",
    "    run_command(command)"
   ]
  },
  {
   "cell_type": "code",
   "execution_count": null,
   "metadata": {},
   "outputs": [],
   "source": []
  }
 ],
 "metadata": {
  "kernelspec": {
   "display_name": "c1meshing",
   "language": "python",
   "name": "python3"
  },
  "language_info": {
   "codemirror_mode": {
    "name": "ipython",
    "version": 3
   },
   "file_extension": ".py",
   "mimetype": "text/x-python",
   "name": "python",
   "nbconvert_exporter": "python",
   "pygments_lexer": "ipython3",
   "version": "3.10.16"
  }
 },
 "nbformat": 4,
 "nbformat_minor": 2
}
