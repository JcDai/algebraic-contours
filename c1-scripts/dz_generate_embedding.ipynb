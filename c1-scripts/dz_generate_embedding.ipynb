{
 "cells": [
  {
   "cell_type": "code",
   "execution_count": null,
   "metadata": {},
   "outputs": [],
   "source": [
    "import meshio as mio\n",
    "import numpy as np\n",
    "import os\n",
    "import sys\n",
    "import json\n",
    "import subprocess\n",
    "import glob\n",
    "\n",
    "input_file_path = \"orig\"\n",
    "executables_json = \"executables.json\"\n",
    "normalized_path = \"normalized\"\n",
    "embedded_path = \"embedded\""
   ]
  },
  {
   "cell_type": "code",
   "execution_count": null,
   "metadata": {},
   "outputs": [],
   "source": [
    "def run_command(command):\n",
    "    print(\"===== Execute:\", command)\n",
    "    try:\n",
    "        subprocess.run(command, shell=True, check=True)\n",
    "    except subprocess.CalledProcessError as e:\n",
    "        print(f\"!!!!! Command '{command}' failed with error: {e} !!!!!\")"
   ]
  },
  {
   "cell_type": "code",
   "execution_count": null,
   "metadata": {},
   "outputs": [],
   "source": [
    "executables_json = \"executables.json\"\n",
    "\n",
    "# read executables json\n",
    "with open(executables_json, \"r\") as f:\n",
    "    executables = json.load(f)\n",
    "\n",
    "wmtk_tetwild_binary = executables[\"wmtk_tetwild_binary\"]\n",
    "wmtk_msh_converter_binary = executables[\"wmtk_msh_converter_binary\"]"
   ]
  },
  {
   "cell_type": "code",
   "execution_count": null,
   "metadata": {},
   "outputs": [],
   "source": [
    "# mesh file names\n",
    "input_files = [\n",
    "    os.path.join(input_file_path, file)\n",
    "    for file in os.listdir(input_file_path)\n",
    "    if file.endswith(\".off\")\n",
    "]\n",
    "input_files"
   ]
  },
  {
   "cell_type": "markdown",
   "metadata": {},
   "source": [
    "### Normalize Models"
   ]
  },
  {
   "cell_type": "code",
   "execution_count": null,
   "metadata": {},
   "outputs": [],
   "source": [
    "os.makedirs(normalized_path, exist_ok=True)\n",
    "\n",
    "for f in input_files:\n",
    "    f_no_ext = os.path.basename(f)\n",
    "    name = os.path.splitext(f_no_ext)[0]\n",
    "    \n",
    "    print(name)\n",
    "    m = mio.read(f)\n",
    "    pts = m.points\n",
    "    p0 = pts.min(axis=0)\n",
    "    p1 = pts.max(axis=0)\n",
    "    sf = (p1 - p0).max()\n",
    "    # print(\"Pts orig:\\n\", pts)\n",
    "    print(\"\\tMin:\", p0)\n",
    "    print(\"\\tMax:\", p1)\n",
    "    print(\"\\tScaling factor:\", sf)\n",
    "    pts -= p0\n",
    "    pts /= sf\n",
    "    # print(\"Pts:\\n\", pts)\n",
    "\n",
    "\n",
    "    m.write(\n",
    "        os.path.join(normalized_path, name + \".msh\"),\n",
    "        file_format=\"gmsh\",\n",
    "        binary=True,\n",
    "    )\n",
    "    m.write(os.path.join(normalized_path, name + \".obj\"))"
   ]
  },
  {
   "cell_type": "code",
   "execution_count": null,
   "metadata": {},
   "outputs": [],
   "source": [
    "# normalized mesh file names\n",
    "normalized_files = [\n",
    "    os.path.abspath(os.path.join(normalized_path, file))\n",
    "    for file in os.listdir(normalized_path)\n",
    "    if file.endswith(\".msh\")\n",
    "]\n",
    "normalized_files"
   ]
  },
  {
   "cell_type": "markdown",
   "metadata": {},
   "source": [
    "### TetWild"
   ]
  },
  {
   "cell_type": "code",
   "execution_count": null,
   "metadata": {},
   "outputs": [],
   "source": [
    "tetwild_base_json = {\n",
    "    \"input\": \"file\",\n",
    "    \"output\": \"out\",\n",
    "    \"envelope_size\": 1e-2,\n",
    "    \"target_edge_length\": 0.2,\n",
    "}"
   ]
  },
  {
   "cell_type": "code",
   "execution_count": null,
   "metadata": {},
   "outputs": [],
   "source": [
    "# Generate folders and JSON files\n",
    "os.makedirs(embedded_path, exist_ok=True)\n",
    "\n",
    "tetwild_jsons = []\n",
    "\n",
    "for f in normalized_files:\n",
    "    f_no_ext = os.path.basename(f)\n",
    "    name = os.path.splitext(f_no_ext)[0]\n",
    "    \n",
    "    os.makedirs(os.path.join(embedded_path, name), exist_ok=True)\n",
    "    \n",
    "    tw = tetwild_base_json.copy()\n",
    "    tw['input'] = f\n",
    "    tw['output'] = name\n",
    "    \n",
    "    tw_json = json.dumps(tw, indent=4)\n",
    "    \n",
    "    tw_json_file = os.path.join(embedded_path, name, name + \".json\")\n",
    "\n",
    "    with open(tw_json_file, \"w\") as j:\n",
    "        j.write(tw_json)\n",
    "    \n",
    "    tetwild_jsons.append(os.path.abspath(tw_json_file))\n",
    "\n",
    "tetwild_jsons"
   ]
  },
  {
   "cell_type": "code",
   "execution_count": null,
   "metadata": {},
   "outputs": [],
   "source": [
    "# Run tetwild\n",
    "commands = []\n",
    "\n",
    "for tw_json in tetwild_jsons:\n",
    "    exec_path = os.path.dirname(tw_json)\n",
    "    # print(exec_path)\n",
    "\n",
    "    command = \" \".join(\n",
    "        [\n",
    "            \"cd\",\n",
    "            exec_path,\n",
    "            \";\",\n",
    "            wmtk_tetwild_binary,\n",
    "            \"-j\",\n",
    "            tw_json,\n",
    "        ]\n",
    "    )\n",
    "    commands.append(command)\n",
    "\n",
    "commands"
   ]
  },
  {
   "cell_type": "code",
   "execution_count": null,
   "metadata": {},
   "outputs": [],
   "source": [
    "for command in commands:\n",
    "    run_command(command)"
   ]
  },
  {
   "cell_type": "code",
   "execution_count": 60,
   "metadata": {},
   "outputs": [
    {
     "name": "stdout",
     "output_type": "stream",
     "text": [
      "Write /Users/dz2425/projects/algebraic-contours/examples/input/input_stls/embedded/cube/cube_tets.msh\n"
     ]
    }
   ],
   "source": [
    "# clean up\n",
    "for tw_json in tetwild_jsons:\n",
    "    exec_path = os.path.dirname(tw_json)\n",
    "\n",
    "    f_no_ext = os.path.basename(tw_json)\n",
    "    name = os.path.splitext(f_no_ext)[0]\n",
    "\n",
    "    for f in glob.glob(os.path.join(exec_path, \"*.vtu\")):\n",
    "        if os.path.basename(f) != name + \"_tets.vtu\":\n",
    "            os.remove(f)\n",
    "\n",
    "    for f in glob.glob(os.path.join(exec_path, \"*.vtm\")):\n",
    "        os.remove(f)\n",
    "\n",
    "    m = mio.read(os.path.join(exec_path, name + \"_tets.vtu\"))\n",
    "\n",
    "    # make winding number positive\n",
    "    a = m.cell_data[\"winding_number\"][0].copy()\n",
    "    if np.max(a) > 0.5:\n",
    "        a = np.max(a) - a\n",
    "    else:\n",
    "        a = a - np.min(a)\n",
    "    m.cell_data[\"winding_number\"] = a[:, None]\n",
    "\n",
    "    msh_file_name = os.path.join(exec_path, name + \"_tets.msh\")\n",
    "    print(\"Write\", msh_file_name)\n",
    "    m.write(msh_file_name, file_format=\"gmsh\", binary=True)"
   ]
  },
  {
   "cell_type": "markdown",
   "metadata": {},
   "source": [
    "### Make Winding Number Positive"
   ]
  },
  {
   "cell_type": "code",
   "execution_count": null,
   "metadata": {},
   "outputs": [],
   "source": []
  }
 ],
 "metadata": {
  "kernelspec": {
   "display_name": "c1meshing",
   "language": "python",
   "name": "python3"
  },
  "language_info": {
   "codemirror_mode": {
    "name": "ipython",
    "version": 3
   },
   "file_extension": ".py",
   "mimetype": "text/x-python",
   "name": "python",
   "nbconvert_exporter": "python",
   "pygments_lexer": "ipython3",
   "version": "3.10.16"
  }
 },
 "nbformat": 4,
 "nbformat_minor": 2
}
