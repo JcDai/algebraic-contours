{
 "cells": [
  {
   "cell_type": "code",
   "execution_count": 22,
   "id": "7ab74e7e",
   "metadata": {},
   "outputs": [],
   "source": [
    "import igl\n",
    "import meshio as mio\n",
    "import numpy as np\n",
    "import math\n",
    "import sys\n",
    "import scipy"
   ]
  },
  {
   "cell_type": "code",
   "execution_count": 24,
   "id": "a10d431f",
   "metadata": {},
   "outputs": [],
   "source": [
    "init_file = \"icosphere_initial_tetmesh.msh\"\n",
    "solution_file = \"solution.txt\"\n",
    "target_file = \"CT/laplace_beltrami_mesh.msh\"\n",
    "local2global_file = \"icosphere_tri_to_tet_v_map.txt\"\n",
    "b2l_mat_file = \"CT_bezier_to_lag_convertion_matrix.txt\"\n",
    "output_name = \"test_deviation\""
   ]
  },
  {
   "cell_type": "code",
   "execution_count": 8,
   "id": "dccab82b",
   "metadata": {},
   "outputs": [
    {
     "name": "stdout",
     "output_type": "stream",
     "text": [
      "\n"
     ]
    }
   ],
   "source": [
    "# read initial mesh and solution\n",
    "init_mesh = mio.read(init_file)\n",
    "v_init = init_mesh.points\n",
    "t_init = init_mesh.cells_dict['tetra20']\n",
    "\n",
    "solution = np.loadtxt(solution_file)\n",
    "local2global = np.loadtxt(local2global_file).astype(np.int32)"
   ]
  },
  {
   "cell_type": "code",
   "execution_count": 9,
   "id": "f1d1f780",
   "metadata": {},
   "outputs": [],
   "source": [
    "# get result beizer control points\n",
    "v_res = v_init + solution"
   ]
  },
  {
   "cell_type": "code",
   "execution_count": 10,
   "id": "580e3945",
   "metadata": {},
   "outputs": [],
   "source": [
    "v_res_sf = v_res[local2global]"
   ]
  },
  {
   "cell_type": "code",
   "execution_count": 25,
   "id": "51d49255",
   "metadata": {},
   "outputs": [],
   "source": [
    "# convert to lagrange\n",
    "b2l_mat = scipy.io.mmread(b2l_mat_file)"
   ]
  },
  {
   "cell_type": "code",
   "execution_count": 26,
   "id": "c02cedb4",
   "metadata": {},
   "outputs": [],
   "source": [
    "v_res_sf_lag = b2l_mat @ v_res_sf"
   ]
  },
  {
   "cell_type": "code",
   "execution_count": 11,
   "id": "dfe2fe14",
   "metadata": {},
   "outputs": [
    {
     "name": "stdout",
     "output_type": "stream",
     "text": [
      "\n"
     ]
    }
   ],
   "source": [
    "# read target mesh\n",
    "target_mesh = mio.read(target_file)\n",
    "v_target = target_mesh.points"
   ]
  },
  {
   "cell_type": "code",
   "execution_count": 27,
   "id": "8673f4e2",
   "metadata": {},
   "outputs": [],
   "source": [
    "# compute deviation\n",
    "deviation = v_res_sf_lag - v_target"
   ]
  },
  {
   "cell_type": "code",
   "execution_count": 36,
   "id": "de7fc51e",
   "metadata": {},
   "outputs": [],
   "source": [
    "distance = np.array([np.linalg.norm(d) for d in deviation])"
   ]
  },
  {
   "cell_type": "code",
   "execution_count": 41,
   "id": "4e20117a",
   "metadata": {},
   "outputs": [],
   "source": [
    "max_distance = np.max(distance)\n",
    "avg_distance = np.average(distance)"
   ]
  },
  {
   "cell_type": "code",
   "execution_count": 44,
   "id": "1e43c4b5",
   "metadata": {},
   "outputs": [],
   "source": [
    "# write to file\n",
    "with open(output_name + \"_max_avg_deviation.txt\", \"w\") as file:\n",
    "    file.write(\"{}\\n\".format(max_distance))\n",
    "    file.write(\"{}\\n\".format(avg_distance))"
   ]
  },
  {
   "cell_type": "code",
   "execution_count": 35,
   "id": "9bf12ba5",
   "metadata": {},
   "outputs": [
    {
     "data": {
      "text/plain": [
       "3.496450526688195e-15"
      ]
     },
     "execution_count": 35,
     "metadata": {},
     "output_type": "execute_result"
    }
   ],
   "source": [
    "avg_deviation"
   ]
  },
  {
   "cell_type": "code",
   "execution_count": 33,
   "id": "b1b87d3e",
   "metadata": {},
   "outputs": [
    {
     "data": {
      "text/plain": [
       "2.7644553313166398e-14"
      ]
     },
     "execution_count": 33,
     "metadata": {},
     "output_type": "execute_result"
    }
   ],
   "source": [
    "max_deviation"
   ]
  },
  {
   "cell_type": "code",
   "execution_count": 30,
   "id": "1a3b1531",
   "metadata": {},
   "outputs": [
    {
     "data": {
      "text/plain": [
       "2.1371793224034263e-14"
      ]
     },
     "execution_count": 30,
     "metadata": {},
     "output_type": "execute_result"
    }
   ],
   "source": [
    "np.max(deviation)"
   ]
  },
  {
   "cell_type": "code",
   "execution_count": 31,
   "id": "24eb275f",
   "metadata": {},
   "outputs": [
    {
     "data": {
      "text/plain": [
       "-2.7644553313166398e-14"
      ]
     },
     "execution_count": 31,
     "metadata": {},
     "output_type": "execute_result"
    }
   ],
   "source": [
    "np.min(deviation)"
   ]
  },
  {
   "cell_type": "code",
   "execution_count": 28,
   "id": "ec867503",
   "metadata": {},
   "outputs": [],
   "source": [
    "test_mesh = mio.Mesh(v_res_sf_lag, [(\"triangle10\", target_mesh.cells_dict['triangle10'])])"
   ]
  },
  {
   "cell_type": "code",
   "execution_count": 29,
   "id": "47ead9ac",
   "metadata": {},
   "outputs": [],
   "source": [
    "test_mesh.write(\"test_deviation.msh\", file_format=\"gmsh\")"
   ]
  },
  {
   "cell_type": "code",
   "execution_count": null,
   "id": "71a4eaf2",
   "metadata": {},
   "outputs": [
    {
     "name": "stdout",
     "output_type": "stream",
     "text": [
      "[[ 1.88737914e-15  3.66373598e-15  3.16413562e-15]\n",
      " [ 1.88737914e-15  4.21884749e-15 -6.02295991e-15]\n",
      " [-8.32667268e-15 -3.33066907e-16  1.59941504e-15]\n",
      " ...\n",
      " [-1.87322987e-03 -6.53788285e-04 -4.17143791e-04]\n",
      " [-2.24558374e-03  2.60792234e-03  2.63412344e-04]\n",
      " [-4.55191440e-15 -4.53803661e-15  3.33066907e-16]]\n"
     ]
    }
   ],
   "source": []
  },
  {
   "cell_type": "code",
   "execution_count": null,
   "id": "468f4193",
   "metadata": {},
   "outputs": [],
   "source": []
  }
 ],
 "metadata": {
  "kernelspec": {
   "display_name": "base",
   "language": "python",
   "name": "python3"
  },
  "language_info": {
   "codemirror_mode": {
    "name": "ipython",
    "version": 3
   },
   "file_extension": ".py",
   "mimetype": "text/x-python",
   "name": "python",
   "nbconvert_exporter": "python",
   "pygments_lexer": "ipython3",
   "version": "3.11.5"
  }
 },
 "nbformat": 4,
 "nbformat_minor": 5
}
