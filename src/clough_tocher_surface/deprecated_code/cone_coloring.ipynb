{
 "cells": [
  {
   "cell_type": "code",
   "execution_count": 1,
   "metadata": {},
   "outputs": [],
   "source": [
    "import meshio as mio\n",
    "import igl\n",
    "import numpy as np\n",
    "import copy"
   ]
  },
  {
   "cell_type": "code",
   "execution_count": 2,
   "metadata": {},
   "outputs": [
    {
     "name": "stdout",
     "output_type": "stream",
     "text": [
      "cone cnt:  21\n"
     ]
    }
   ],
   "source": [
    "angles = np.loadtxt(\"../../build/test_coarse_duck/embedded_surface_Th_hat\")\n",
    "\n",
    "\n",
    "cone_vids = []\n",
    "for i, angle in enumerate(angles):\n",
    "    if angle < 6.0 or angle > 6.5:  # less or more than 2 * pi\n",
    "        cone_vids.append(i)\n",
    "print(\"cone cnt: \", len(cone_vids))\n",
    "\n"
   ]
  },
  {
   "cell_type": "code",
   "execution_count": 7,
   "metadata": {},
   "outputs": [],
   "source": [
    "# rearrange cones\n",
    "v_embd, _, _, f_embd, _, _ = igl.read_obj(\"../../build/test_coarse_duck/embedded_surface.obj\")\n",
    "\n",
    "adjlist = igl.adjacency_list(f_embd)\n",
    "colored = [False] * v_embd.shape[0]\n",
    "cone_list = copy.deepcopy(cone_vids)\n",
    "\n",
    "cannot_place_id = []\n",
    "placed_id = []\n",
    "for c in cone_list:\n",
    "    if not colored[c]:\n",
    "        placed_id.append(c)\n",
    "        colored[c] = True\n",
    "        for adjv in adjlist[c]:\n",
    "            colored[adjv] = True\n",
    "    else:\n",
    "        cannot_place_id.append(c)\n",
    "\n",
    "exchange_map = {}\n",
    "second_failed = []\n",
    "\n",
    "for c in cannot_place_id:\n",
    "    # try place in one ring\n",
    "    found = False\n",
    "    for adjv in adjlist[c]:\n",
    "        if not colored[adjv]:\n",
    "            exchange_map[c] = adjv\n",
    "            exchange_map[adjv] = c\n",
    "            colored[adjv] = True\n",
    "            for vv in adjlist[adjv]:\n",
    "                colored[vv] = True\n",
    "            found = True\n",
    "            break\n",
    "    if not found:\n",
    "        second_failed.append(c)\n",
    "\n",
    "third_failed = []\n",
    "for c in second_failed:\n",
    "    found = False\n",
    "    for vv in range(v_embd.shape[0]):\n",
    "        if not colored[vv]:\n",
    "            exchange_map[c] = vv\n",
    "            exchange_map[vv] = c\n",
    "            colored[vv] = True\n",
    "            for vvv in adjlist[vv]:\n",
    "                colored[vvv] = True\n",
    "            found = True\n",
    "            break\n",
    "    if not found:\n",
    "        third_failed.append(c)\n",
    "\n",
    "if len(third_failed) != 0:\n",
    "    print(\"cannot easily place cone! try make mesh denser\")\n",
    "    exit()\n",
    "\n",
    "reorder_vid = []\n",
    "for i in range(v_embd.shape[0]):\n",
    "    if i not in exchange_map:\n",
    "        reorder_vid.append(i)\n",
    "    else:\n",
    "        reorder_vid.append(exchange_map[i])\n",
    "\n",
    "assert len(reorder_vid) == v_embd.shape[0]\n",
    "\n",
    "with open(\"embedded_surface_Th_hat_reordered\", \"w\") as file:\n",
    "    for i in range(v_embd.shape[0]):\n",
    "        file.write(\"{}\\n\".format(angles[reorder_vid[i]]))\n",
    "\n",
    "angles_new = np.loadtxt(\"embedded_surface_Th_hat_reordered\")\n",
    "cone_vids_new = []\n",
    "for i, angle_new in enumerate(angles_new):\n",
    "    if angle_new < 6.0 or angle_new > 6.5:  # less or more than 2 * pi\n",
    "        cone_vids_new.append(i)\n",
    "\n",
    "assert len(cone_vids_new) == len(cone_vids)\n"
   ]
  },
  {
   "cell_type": "code",
   "execution_count": 13,
   "metadata": {},
   "outputs": [],
   "source": []
  },
  {
   "cell_type": "code",
   "execution_count": 11,
   "metadata": {},
   "outputs": [
    {
     "data": {
      "text/plain": [
       "[0,\n",
       " 1,\n",
       " 2,\n",
       " 3,\n",
       " 8,\n",
       " 9,\n",
       " 10,\n",
       " 34,\n",
       " 48,\n",
       " 55,\n",
       " 63,\n",
       " 74,\n",
       " 84,\n",
       " 89,\n",
       " 101,\n",
       " 110,\n",
       " 114,\n",
       " 118,\n",
       " 145,\n",
       " 167,\n",
       " 169]"
      ]
     },
     "execution_count": 11,
     "metadata": {},
     "output_type": "execute_result"
    }
   ],
   "source": []
  },
  {
   "cell_type": "code",
   "execution_count": null,
   "metadata": {},
   "outputs": [],
   "source": []
  }
 ],
 "metadata": {
  "kernelspec": {
   "display_name": "base",
   "language": "python",
   "name": "python3"
  },
  "language_info": {
   "codemirror_mode": {
    "name": "ipython",
    "version": 3
   },
   "file_extension": ".py",
   "mimetype": "text/x-python",
   "name": "python",
   "nbconvert_exporter": "python",
   "pygments_lexer": "ipython3",
   "version": "3.11.5"
  }
 },
 "nbformat": 4,
 "nbformat_minor": 2
}
