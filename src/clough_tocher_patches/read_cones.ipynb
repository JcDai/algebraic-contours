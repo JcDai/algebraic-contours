{
 "cells": [
  {
   "cell_type": "code",
   "execution_count": 3,
   "metadata": {},
   "outputs": [],
   "source": [
    "import igl\n",
    "import numpy as np\n",
    "import math"
   ]
  },
  {
   "cell_type": "code",
   "execution_count": 7,
   "metadata": {},
   "outputs": [
    {
     "name": "stderr",
     "output_type": "stream",
     "text": [
      "Warning: readOBJ() ignored non-comment line 982:\n",
      "  c 1 1.5\n",
      "Warning: readOBJ() ignored non-comment line 983:\n",
      "  c 37 4\n",
      "Warning: readOBJ() ignored non-comment line 984:\n",
      "  c 57 1.5\n",
      "Warning: readOBJ() ignored non-comment line 985:\n",
      "  c 111 1\n",
      "Warning: readOBJ() ignored non-comment line 986:\n",
      "  c 112 1.5\n",
      "Warning: readOBJ() ignored non-comment line 987:\n",
      "  c 115 1.5\n",
      "Warning: readOBJ() ignored non-comment line 988:\n",
      "  c 163 3.5\n",
      "Warning: readOBJ() ignored non-comment line 989:\n",
      "  c 166 1.5\n"
     ]
    }
   ],
   "source": [
    "cone_id = []\n",
    "cone_angle = []\n",
    "\n",
    "with open(\"duck_embedded.obj\", 'r') as f:\n",
    "    for line in f:\n",
    "        ss = line.split()\n",
    "        if ss[0] == 'c':\n",
    "            cone_id.append(int(ss[1])-1)\n",
    "            cone_angle.append(float(ss[2]))\n",
    "\n",
    "v, _, _, f, _, _ = igl.read_obj(\"duck_separated_cones.obj\")\n",
    "\n",
    "with open(\"cone_angles.txt\", 'w') as f:\n",
    "    for i in range(v.shape[0]):\n",
    "        if i in cone_id:\n",
    "            f.write(\"{}\\n\".format(cone_angle[cone_id.index(i)]*math.pi))\n",
    "        else:\n",
    "            f.write(\"{}\\n\".format(2*math.pi))\n",
    "\n"
   ]
  },
  {
   "cell_type": "code",
   "execution_count": 8,
   "metadata": {},
   "outputs": [
    {
     "data": {
      "text/plain": [
       "[0, 36, 56, 110, 111, 114, 162, 165]"
      ]
     },
     "execution_count": 8,
     "metadata": {},
     "output_type": "execute_result"
    }
   ],
   "source": [
    "cone_id"
   ]
  },
  {
   "cell_type": "code",
   "execution_count": 9,
   "metadata": {},
   "outputs": [
    {
     "data": {
      "text/plain": [
       "[1.5, 4.0, 1.5, 1.0, 1.5, 1.5, 3.5, 1.5]"
      ]
     },
     "execution_count": 9,
     "metadata": {},
     "output_type": "execute_result"
    }
   ],
   "source": [
    "cone_angle"
   ]
  },
  {
   "cell_type": "code",
   "execution_count": null,
   "metadata": {},
   "outputs": [],
   "source": []
  }
 ],
 "metadata": {
  "kernelspec": {
   "display_name": "base",
   "language": "python",
   "name": "python3"
  },
  "language_info": {
   "codemirror_mode": {
    "name": "ipython",
    "version": 3
   },
   "file_extension": ".py",
   "mimetype": "text/x-python",
   "name": "python",
   "nbconvert_exporter": "python",
   "pygments_lexer": "ipython3",
   "version": "3.11.5"
  }
 },
 "nbformat": 4,
 "nbformat_minor": 2
}
