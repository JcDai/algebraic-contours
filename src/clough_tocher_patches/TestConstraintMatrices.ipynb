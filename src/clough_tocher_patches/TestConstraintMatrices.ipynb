{
 "cells": [
  {
   "cell_type": "code",
   "execution_count": 1,
   "metadata": {},
   "outputs": [],
   "source": [
    "from Clough_Toucher_derivation import *\n",
    "import igl\n",
    "import meshio as mio\n",
    "import numpy as np\n",
    "import matplotlib.pyplot as plt\n",
    "from mpl_toolkits import mplot3d\n",
    "import subprocess\n",
    "import scipy\n",
    "import h5py\n",
    "from midpoint_constraint_validation import *"
   ]
  },
  {
   "cell_type": "code",
   "execution_count": 26,
   "metadata": {},
   "outputs": [],
   "source": [
    "def f0(x, y):\n",
    "    return 1\n",
    "\n",
    "def d0(x, y):\n",
    "    return np.array([0, 0])\n",
    "\n",
    "def f1(x, y):\n",
    "    return x\n",
    "\n",
    "def d1(x, y):\n",
    "    return np.array([1, 0])\n",
    "\n",
    "def f2(x, y):\n",
    "    return x ** 2\n",
    "\n",
    "def d2(x, y):\n",
    "    return np.array([2 * x, 0])\n",
    "\n",
    "def f3(x, y):\n",
    "    return x ** 3 + y ** 2\n",
    "\n",
    "def d3(x, y):\n",
    "    return np.array([3 * x * x, 2 * y])"
   ]
  },
  {
   "cell_type": "code",
   "execution_count": 27,
   "metadata": {},
   "outputs": [],
   "source": [
    "def build_boundary_data(_f, _d, _uv, _f_uv):\n",
    "    boundary_data = []\n",
    "\n",
    "    for fid in range(_f_uv.shape[0]):\n",
    "        fv = _f_uv[fid]\n",
    "        v0 = _uv[fv[0]]\n",
    "        v1 = _uv[fv[1]]\n",
    "        v2 = _uv[fv[2]]\n",
    "        m0 = (v0 + v1) / 2.0\n",
    "        m1 = (v1 + v2) / 2.0\n",
    "        m2 = (v2 + v0) / 2.0\n",
    "\n",
    "        e01 = v1 - v0\n",
    "        e12 = v2 - v1\n",
    "        e20 = v0 - v2\n",
    "\n",
    "        em0 = v2 - m0\n",
    "        em1 = v0 - m1\n",
    "        em2 = v1 - m2\n",
    "\n",
    "        f0 = _f(v0[0], v0[1])\n",
    "        f1 = _f(v1[0], v1[1])\n",
    "        f2 = _f(v2[0], v2[1])\n",
    "        # print (f0)\n",
    "\n",
    "        d0 = _d(v0[0], v0[1])\n",
    "        d1 = _d(v1[0], v1[1])\n",
    "        d2 = _d(v2[0], v2[1])\n",
    "        # print(d0)\n",
    "        \n",
    "        dm0 = _d(m0[0], m0[1])\n",
    "        dm1 = _d(m1[0], m1[1])\n",
    "        dm2 = _d(m2[0], m2[1])\n",
    "\n",
    "        d01 = d0 @ e01\n",
    "        d10 = d1 @ (-e01)\n",
    "        d12 = d1 @ e12\n",
    "        d21 = d2 @ (-e12)\n",
    "        d20 = d2 @ e20\n",
    "        d02 = d0 @ (-e20)\n",
    "\n",
    "        dm01 = dm0 @ em0\n",
    "        dm12 = dm1 @ em1\n",
    "        dm20 = dm2 @ em2\n",
    "\n",
    "        bd = [f0,f1,f2, d01, d10, d12, d21, d20, d02, dm01, dm12, dm20]\n",
    "        boundary_data.append(bd)\n",
    "\n",
    "    print(len(boundary_data))\n",
    "    return boundary_data"
   ]
  },
  {
   "cell_type": "code",
   "execution_count": 28,
   "metadata": {},
   "outputs": [],
   "source": [
    "def build_boundary_data_3d(_F, _dF, _uv, _f_uv, _v, _f):\n",
    "    boundary_data = []\n",
    "\n",
    "    for fid in range(_f_uv.shape[0]):\n",
    "        fv = _f[fid]\n",
    "        v0 = _v[fv[0]]\n",
    "        v1 = _v[fv[1]]\n",
    "        v2 = _v[fv[2]]\n",
    "        m0 = (v0 + v1) / 2.0\n",
    "        m1 = (v1 + v2) / 2.0\n",
    "        m2 = (v2 + v0) / 2.0\n",
    "\n",
    "        f0 = _F(v0[0], v0[1])\n",
    "        f1 = _F(v1[0], v1[1])\n",
    "        f2 = _F(v2[0], v2[1])\n",
    "        # print (f0)\n",
    "\n",
    "        d0 = _dF(v0[0], v0[1])\n",
    "        d1 = _dF(v1[0], v1[1])\n",
    "        d2 = _dF(v2[0], v2[1])\n",
    "        # print(d0)\n",
    "        \n",
    "        dm0 = _dF(m0[0], m0[1])\n",
    "        dm1 = _dF(m1[0], m1[1])\n",
    "        dm2 = _dF(m2[0], m2[1])\n",
    "\n",
    "        fv_uv = _f_uv[fid]\n",
    "        uv0 = _uv[fv_uv[0]]\n",
    "        uv1 = _uv[fv_uv[1]]\n",
    "        uv2 = _uv[fv_uv[2]]\n",
    "        m0_uv = (uv0 + uv1) / 2.0\n",
    "        m1_uv = (uv1 + uv2) / 2.0\n",
    "        m2_uv = (uv2 + uv0) / 2.0\n",
    "        \n",
    "        e01 = uv1 - uv0\n",
    "        e12 = uv2 - uv1\n",
    "        e20 = uv0 - uv2\n",
    "\n",
    "        em0 = uv2 - m0_uv\n",
    "        em1 = uv0 - m1_uv\n",
    "        em2 = uv1 - m2_uv\n",
    "\n",
    "        d01 = d0 @ e01\n",
    "        d10 = d1 @ (-e01)\n",
    "        d12 = d1 @ e12\n",
    "        d21 = d2 @ (-e12)\n",
    "        d20 = d2 @ e20\n",
    "        d02 = d0 @ (-e20)\n",
    "\n",
    "        dm01 = dm0 @ em0\n",
    "        dm12 = dm1 @ em1\n",
    "        dm20 = dm2 @ em2\n",
    "\n",
    "        bd = [f0,f1,f2, d01, d10, d12, d21, d20, d02, dm01, dm12, dm20]\n",
    "        boundary_data.append(bd)\n",
    "\n",
    "    print(len(boundary_data))\n",
    "    return boundary_data"
   ]
  },
  {
   "cell_type": "code",
   "execution_count": 41,
   "metadata": {},
   "outputs": [],
   "source": [
    "def generate_boundary_data(f, d, filename, uv, f_uv):\n",
    "    f1_bd = build_boundary_data(f, d, uv, f_uv)\n",
    "    with open(filename, \"w\") as file:\n",
    "        for line in f1_bd:\n",
    "            for value in line:\n",
    "                file.write(\"{} \".format(value))\n",
    "            file.write(\"\\n\")\n",
    "\n",
    "def generate_boundary_data_3d(f, d, filename, uv, f_uv, _v, _f):\n",
    "    f1_bd = build_boundary_data_3d(f, d, uv, f_uv, _v, _f)\n",
    "    with open(filename, \"w\") as file:\n",
    "        for line in f1_bd:\n",
    "            for value in line:\n",
    "                file.write(\"{} \".format(value))\n",
    "            file.write(\"\\n\")\n",
    "\n",
    "\n",
    "def check_constraint_matrice(ct_interp_file, interior_file, endpoint_file, midpoint_file, endpoint_elim_file):\n",
    "    ct_interpolants = []\n",
    "    with open(ct_interp_file, \"r\") as file:\n",
    "        for line in file:\n",
    "            value = float(line.split()[0])\n",
    "            ct_interpolants.append(value)\n",
    "    ct_interpolants = np.array(ct_interpolants)\n",
    "\n",
    "    interior_matix = np.loadtxt(interior_file) \n",
    "    edge_end_point_matrix = np.loadtxt(endpoint_file) \n",
    "    edge_mid_point_matrix = np.loadtxt(midpoint_file) \n",
    "    edge_end_point_elim_matrix = np.loadtxt(endpoint_elim_file) \n",
    "\n",
    "    r1 = interior_matix @ ct_interpolants\n",
    "    r2 = edge_end_point_matrix @ ct_interpolants\n",
    "    r3 = edge_mid_point_matrix @ ct_interpolants\n",
    "    r4 = edge_end_point_elim_matrix @ ct_interpolants\n",
    "\n",
    "    print(\"interior constraint max: \", np.max(np.abs(r1)))\n",
    "    print(\"interior constraint avg: \", np.average(np.abs(r1)))\n",
    "    print(\"edge endpoint constraint max: \", np.max(np.abs(r2)))\n",
    "    print(\"edge endpoint constraint avg: \", np.average(np.abs(r2)))\n",
    "    print(\"edge midpoint constraint max: \", np.max(np.abs(r3)))\n",
    "    print(\"edge midpoint constraint avg: \", np.average(np.abs(r3)))\n",
    "    print(\"edge endpoint eliminated constraint max: \", np.max(np.abs(r4)))\n",
    "    print(\"edge endpoint eliminated constraint avg: \", np.average(np.abs(r4)))\n",
    "\n",
    "def get_P_G2E_mul_nodes(p_g2e_file, ct_interp_file):\n",
    "    ct_interpolants = []\n",
    "    with open(ct_interp_file, \"r\") as file:\n",
    "        for line in file:\n",
    "            value = float(line.split()[0])\n",
    "            ct_interpolants.append(value)\n",
    "    ct_interpolants = np.array(ct_interpolants)\n",
    "\n",
    "    p_g2e = np.loadtxt(p_g2e_file)\n",
    "\n",
    "    values = p_g2e @ ct_interpolants\n",
    "\n",
    "    print(values)\n",
    "\n",
    "def plot_ct_interpolant(ct_interp_file, ct_uv_file, f):\n",
    "    ct_interpolants = []\n",
    "    with open(ct_interp_file, \"r\") as file:\n",
    "        for line in file:\n",
    "            value = float(line.split()[0])\n",
    "            ct_interpolants.append(value)\n",
    "    ct_interpolants = np.array(ct_interpolants)\n",
    "\n",
    "    ct_interpolants_uvs = []\n",
    "    with open(ct_uv_file, \"r\") as file:\n",
    "        for line in file:\n",
    "            s = line.split()\n",
    "            ct_interpolants_uvs.append([float(s[0]), float(s[1])])\n",
    "    ct_interpolants_uvs = np.array(ct_interpolants_uvs)\n",
    "    \n",
    "    # Create a grid of x and y values\n",
    "    X = ct_interpolants_uvs[:, 0]\n",
    "    Y = ct_interpolants_uvs[:, 1]\n",
    "\n",
    "    # get interpolants\n",
    "    Z = ct_interpolants\n",
    "\n",
    "    # compute real function values\n",
    "    Z_real = []\n",
    "    for i in range(X.shape[0]):\n",
    "        Z_real.append(f(X[i], Y[i]))\n",
    "    Z_real = np.array(Z_real)\n",
    "\n",
    "    print(\"Z - Z_real max:\", np.max(np.abs(Z-Z_real)))\n",
    "\n",
    "    fig = plt.figure()\n",
    "    ax = fig.add_subplot(111, projection='3d')\n",
    "\n",
    "    # Plot the values\n",
    "    ax.scatter(X, Y, Z, c = 'b', marker='o')\n",
    "    ax.set_xlabel('X-axis')\n",
    "    ax.set_ylabel('Y-axis')\n",
    "    ax.set_zlabel('Z-axis')\n",
    "\n",
    "    plt.show()"
   ]
  },
  {
   "cell_type": "code",
   "execution_count": 42,
   "metadata": {},
   "outputs": [],
   "source": [
    "build_path = '/Users/jiachengdai/Desktop/algebraic-contours/build/'\n",
    "\n",
    "# mesh_file = \"test_two_triangles.obj\"\n",
    "mesh_file = \"test_eight_triangles.obj\"\n",
    "# mesh_file = \"test_three_triangles.obj\"\n",
    "\n",
    "# mesh_file = \"parameterized_tet.obj\"\n",
    "# mesh_file = \"parameterized_icosphere.obj\"\n",
    "# mesh_file = \"parameterized_tet_prob.obj\"\n",
    "v, uv, _, f, f_uv, _ = igl.read_obj(build_path + mesh_file)"
   ]
  },
  {
   "cell_type": "code",
   "execution_count": 46,
   "metadata": {},
   "outputs": [
    {
     "name": "stdout",
     "output_type": "stream",
     "text": [
      "2\n",
      "#Cone: 0\n",
      "CHOLMOD warning: matrix not positive definite. file: /Users/jiachengdai/Desktop/algebraic-contours/build/_deps/suitesparse-src/CHOLMOD/Supernodal/t_cholmod_super_numeric.c line: 911\n",
      "#F: 2\n",
      "#E: 5\n",
      "#V: 4\n",
      "14 34\n",
      "14 34\n",
      "skip cnt: 2 v_cnt - cone_cnt: 4\n",
      "skipped a boundary\n",
      "skipped a boundary\n",
      "------------eid 2-------------\n",
      "edge: 0 1\n",
      "T: 3 0 1\n",
      "T': 1 0 2\n",
      "v0 pos: -0.5    0\n",
      "v1 pos: 0.5   0\n",
      "v2 pos: -0.7183242074230323  0.7183242074230326\n",
      "v0' pos: 0.5   0\n",
      "v1' pos: -0.5    0\n",
      "v2' pos: -0.7183242074230329 -0.7183242074230325\n",
      "u_01: 1 0\n",
      "u_01': -1  0\n",
      "m_01: -0.7183242074230323  0.7183242074230326\n",
      "m_01.: -0.7183242074230329 -0.7183242074230325\n",
      "u_01 prep: -0\n",
      " 1\n",
      "u_01' prep: -0\n",
      "-1\n",
      "g_M:  -1.499999999999999   1.499999999999999 -0.2499999999999999  0.2499999999999999   1.392129054911669\n",
      "g_M_prime  1.500000000000001  -1.500000000000001  0.2500000000000002 -0.2500000000000002   1.392129054911669\n",
      "lid_0, lid_1: 1 2\n",
      "lid_0_prime, lid_1_prime: 0 1\n",
      "T bd data: -0.05963257602600576  0.07265181092348216   0.9869807651025245  0.07847906842083788  -0.1953887824867313   0.8949478612243169  -0.9467975711355811   -1.153506400443802   0.8907077799964176   0.9244621997134772  -0.6520840786817188  -0.3606406155152121\n",
      "T' bd data:   0.9869807651025245  0.07265181092348216 -0.05963257602601314  -0.9467975711355811   0.8949478612243169   -0.195388782486742   0.0784790684208431     0.89070777999642   -1.153506400443815  -0.6520840786817305   0.9244621997134806  -0.3606406155152064\n",
      "T_P_dM_indices: 1 2 5 6 10 \n",
      "T_prime_P_dM_indices: 0 1 3 4 9 \n",
      "----------- col: 0 ------------\n",
      "g_M:  -1.499999999999999   1.499999999999999 -0.2499999999999999  0.2499999999999999   1.392129054911669\n",
      "g_M_prime  1.500000000000001  -1.500000000000001  0.2500000000000002 -0.2500000000000002   1.392129054911669\n",
      "r_dM: 0.07265181092348216  0.9869807651025245  0.8949478612243169 -0.9467975711355811 -0.6520840786817188\n",
      "r_dM_prime:  0.9869807651025245 0.07265181092348216 -0.9467975711355811  0.8949478612243169 -0.6520840786817305\n",
      "g_M dot r_dM: 0.003271881000460941\n",
      "g_M_prime dot r_dM_prime: 0.003271881000445731\n",
      "g_M dot r_dM + g_M_prime dot r_dM_prime: 0.006543762000906672\n",
      "----------- col: 1 ------------\n",
      "g_M:  -1.499999999999999   1.499999999999999 -0.2499999999999999  0.2499999999999999   1.392129054911669\n",
      "g_M_prime  1.500000000000001  -1.500000000000001  0.2500000000000002 -0.2500000000000002   1.392129054911669\n",
      "r_dM:   0.1663851475313266 -0.02981628801300628   -0.240587473133782   0.1218427161430667  -0.3482987078639407\n",
      "r_dM_prime: -0.02981628801300628   0.1663851475313266   0.1218427161430667   -0.240587473133782   0.6517012921360451\n",
      "g_M dot r_dM: -0.6885713570028703\n",
      "g_M_prime dot r_dM_prime: 0.7035576979087788\n",
      "g_M dot r_dM + g_M_prime dot r_dM_prime: 0.01498634090590845\n",
      "----------- col: 2 ------------\n",
      "g_M:  -1.499999999999999   1.499999999999999 -0.2499999999999999  0.2499999999999999   1.392129054911669\n",
      "g_M_prime  1.500000000000001  -1.500000000000001  0.2500000000000002 -0.2500000000000002   1.392129054911669\n",
      "r_dM:  0.1663851475313306 -0.0298162880130032 -0.2405874731337727   0.121842716143081   0.651701292136047\n",
      "r_dM_prime: -0.0298162880130032  0.1663851475313306   0.121842716143081 -0.2405874731337727 -0.3482987078639431\n",
      "g_M dot r_dM: 0.7035576979087814\n",
      "g_M_prime dot r_dM_prime: -0.6885713570028742\n",
      "g_M dot r_dM + g_M_prime dot r_dM_prime: 0.01498634090590723\n",
      "skipped a boundary\n",
      "skipped a boundary\n"
     ]
    },
    {
     "data": {
      "text/plain": [
       "CompletedProcess(args=['/Users/jiachengdai/Desktop/algebraic-contours/build/bin/generate_cubic_surface', '--input', '/Users/jiachengdai/Desktop/algebraic-contours/build/parameterized_tet_prob.obj', '-o', '/Users/jiachengdai/Desktop/algebraic-contours/build/f1', '--boundary-data', '/Users/jiachengdai/Desktop/algebraic-contours/build/f1_boundary_data.txt'], returncode=0)"
      ]
     },
     "execution_count": 46,
     "metadata": {},
     "output_type": "execute_result"
    }
   ],
   "source": [
    "# f1 d1\n",
    "boundary_data_file = 'f1_boundary_data.txt'\n",
    "output_name = \"f1\"\n",
    "\n",
    "# generate_boundary_data(f1, d1, \"../../build/\" + boundary_data_file, uv, f_uv)\n",
    "# generate_boundary_data_3d(f1, d1, \"../../build/\" + boundary_data_file, uv, f_uv, v, f)\n",
    "generate_boundary_data_3d(f0, d0, \"../../build/\" + boundary_data_file, uv, f_uv, v, f)\n",
    "\n",
    "build_path = '/Users/jiachengdai/Desktop/algebraic-contours/build/'\n",
    "command = build_path + 'bin/generate_cubic_surface --input ' + build_path + mesh_file + ' -o ' + build_path + output_name + ' --boundary-data ' + build_path + boundary_data_file\n",
    "subprocess.run(command.split(\" \"))"
   ]
  },
  {
   "cell_type": "code",
   "execution_count": 47,
   "metadata": {},
   "outputs": [
    {
     "data": {
      "text/plain": [
       "'/Users/jiachengdai/Desktop/algebraic-contours/build/bin/generate_cubic_surface --input /Users/jiachengdai/Desktop/algebraic-contours/build/parameterized_tet_prob.obj -o /Users/jiachengdai/Desktop/algebraic-contours/build/f1 --boundary-data /Users/jiachengdai/Desktop/algebraic-contours/build/f1_boundary_data.txt'"
      ]
     },
     "execution_count": 47,
     "metadata": {},
     "output_type": "execute_result"
    }
   ],
   "source": [
    "command"
   ]
  },
  {
   "cell_type": "code",
   "execution_count": 48,
   "metadata": {},
   "outputs": [
    {
     "name": "stdout",
     "output_type": "stream",
     "text": [
      "interior constraint max:  4.440892098500626e-16\n",
      "interior constraint avg:  2.061842760018148e-16\n",
      "edge endpoint constraint max:  3.552713678800501e-15\n",
      "edge endpoint constraint avg:  4.440892098500626e-16\n",
      "edge midpoint constraint max:  3.9968028886505635e-15\n",
      "edge midpoint constraint avg:  7.993605777301127e-16\n",
      "edge endpoint eliminated constraint max:  0.0\n",
      "edge endpoint eliminated constraint avg:  0.0\n",
      "Z - Z_real max: 1.81779\n"
     ]
    },
    {
     "data": {
      "image/png": "[encoded data removed]",
      "text/plain": [
       "<Figure size 640x480 with 1 Axes>"
      ]
     },
     "metadata": {},
     "output_type": "display_data"
    }
   ],
   "source": [
    "ct_interp_file = \"../../build/f1_function_values_from_lagrange_nodes.txt\"\n",
    "ct_uv_file = \"../../build/f1_function_values_from_lagrange_nodes_uvs.txt\"\n",
    "interior_file = '../../build/f1_interior_constraint_matrix.txt'\n",
    "endpoint_file = '../../build/f1_edge_endpoint_constraint_matrix.txt'\n",
    "midpoint_file = '../../build/f1_edge_midpoint_constraint_matrix.txt'\n",
    "endpoint_elim_file = '../../build/f1_edge_endpoint_constraint_matrix_eliminated.txt'\n",
    "check_constraint_matrice(ct_interp_file, interior_file, endpoint_file, midpoint_file, endpoint_elim_file)\n",
    "plot_ct_interpolant(ct_interp_file, ct_uv_file, f1)"
   ]
  },
  {
   "cell_type": "code",
   "execution_count": 49,
   "metadata": {},
   "outputs": [
    {
     "name": "stdout",
     "output_type": "stream",
     "text": [
      "2\n",
      "#Cone: 0\n",
      "CHOLMOD warning: matrix not positive definite. file: /Users/jiachengdai/Desktop/algebraic-contours/build/_deps/suitesparse-src/CHOLMOD/Supernodal/t_cholmod_super_numeric.c line: 911\n",
      "#F: 2\n",
      "#E: 5\n",
      "#V: 4\n",
      "14 34\n",
      "14 34\n",
      "skip cnt: 2 v_cnt - cone_cnt: 4\n",
      "skipped a boundary\n",
      "skipped a boundary\n",
      "------------eid 2-------------\n",
      "edge: 0 1\n",
      "T: 3 0 1\n",
      "T': 1 0 2\n",
      "v0 pos: -0.5    0\n",
      "v1 pos: 0.5   0\n",
      "v2 pos: -0.7183242074230323  0.7183242074230326\n",
      "v0' pos: 0.5   0\n",
      "v1' pos: -0.5    0\n",
      "v2' pos: -0.7183242074230329 -0.7183242074230325\n",
      "u_01: 1 0\n",
      "u_01': -1  0\n",
      "m_01: -0.7183242074230323  0.7183242074230326\n",
      "m_01.: -0.7183242074230329 -0.7183242074230325\n",
      "u_01 prep: -0\n",
      " 1\n",
      "u_01' prep: -0\n",
      "-1\n",
      "g_M:  -1.499999999999999   1.499999999999999 -0.2499999999999999  0.2499999999999999   1.392129054911669\n",
      "g_M_prime  1.500000000000001  -1.500000000000001  0.2500000000000002 -0.2500000000000002   1.392129054911669\n",
      "lid_0, lid_1: 1 2\n",
      "lid_0_prime, lid_1_prime: 0 1\n",
      "T bd data: -0.05963257602600576  0.07265181092348216   0.9869807651025245  0.07847906842083788  -0.1953887824867313   0.8949478612243169  -0.9467975711355811   -1.153506400443802   0.8907077799964176   0.9244621997134772  -0.6520840786817188  -0.3606406155152121\n",
      "T' bd data:   0.9869807651025245  0.07265181092348216 -0.05963257602601314  -0.9467975711355811   0.8949478612243169   -0.195388782486742   0.0784790684208431     0.89070777999642   -1.153506400443815  -0.6520840786817305   0.9244621997134806  -0.3606406155152064\n",
      "T_P_dM_indices: 1 2 5 6 10 \n",
      "T_prime_P_dM_indices: 0 1 3 4 9 \n",
      "----------- col: 0 ------------\n",
      "g_M:  -1.499999999999999   1.499999999999999 -0.2499999999999999  0.2499999999999999   1.392129054911669\n",
      "g_M_prime  1.500000000000001  -1.500000000000001  0.2500000000000002 -0.2500000000000002   1.392129054911669\n",
      "r_dM: 0.07265181092348216  0.9869807651025245  0.8949478612243169 -0.9467975711355811 -0.6520840786817188\n",
      "r_dM_prime:  0.9869807651025245 0.07265181092348216 -0.9467975711355811  0.8949478612243169 -0.6520840786817305\n",
      "g_M dot r_dM: 0.003271881000460941\n",
      "g_M_prime dot r_dM_prime: 0.003271881000445731\n",
      "g_M dot r_dM + g_M_prime dot r_dM_prime: 0.006543762000906672\n",
      "----------- col: 1 ------------\n",
      "g_M:  -1.499999999999999   1.499999999999999 -0.2499999999999999  0.2499999999999999   1.392129054911669\n",
      "g_M_prime  1.500000000000001  -1.500000000000001  0.2500000000000002 -0.2500000000000002   1.392129054911669\n",
      "r_dM:   0.1663851475313266 -0.02981628801300628   -0.240587473133782   0.1218427161430667  -0.3482987078639407\n",
      "r_dM_prime: -0.02981628801300628   0.1663851475313266   0.1218427161430667   -0.240587473133782   0.6517012921360451\n",
      "g_M dot r_dM: -0.6885713570028703\n",
      "g_M_prime dot r_dM_prime: 0.7035576979087788\n",
      "g_M dot r_dM + g_M_prime dot r_dM_prime: 0.01498634090590845\n",
      "----------- col: 2 ------------\n",
      "g_M:  -1.499999999999999   1.499999999999999 -0.2499999999999999  0.2499999999999999   1.392129054911669\n",
      "g_M_prime  1.500000000000001  -1.500000000000001  0.2500000000000002 -0.2500000000000002   1.392129054911669\n",
      "r_dM:  0.1663851475313306 -0.0298162880130032 -0.2405874731337727   0.121842716143081   0.651701292136047\n",
      "r_dM_prime: -0.0298162880130032  0.1663851475313306   0.121842716143081 -0.2405874731337727 -0.3482987078639431\n",
      "g_M dot r_dM: 0.7035576979087814\n",
      "g_M_prime dot r_dM_prime: -0.6885713570028742\n",
      "g_M dot r_dM + g_M_prime dot r_dM_prime: 0.01498634090590723\n",
      "skipped a boundary\n",
      "skipped a boundary\n"
     ]
    },
    {
     "data": {
      "text/plain": [
       "CompletedProcess(args=['/Users/jiachengdai/Desktop/algebraic-contours/build/bin/generate_cubic_surface', '--input', '/Users/jiachengdai/Desktop/algebraic-contours/build/parameterized_tet_prob.obj', '-o', '/Users/jiachengdai/Desktop/algebraic-contours/build/f2', '--boundary-data', '/Users/jiachengdai/Desktop/algebraic-contours/build/f2_boundary_data.txt'], returncode=0)"
      ]
     },
     "execution_count": 49,
     "metadata": {},
     "output_type": "execute_result"
    }
   ],
   "source": [
    "# f2\n",
    "boundary_data_file = 'f2_boundary_data.txt'\n",
    "output_name = \"f2\"\n",
    "\n",
    "generate_boundary_data(f2, d2, \"../../build/\" + boundary_data_file, uv, f_uv)\n",
    "build_path = '/Users/jiachengdai/Desktop/algebraic-contours/build/'\n",
    "command = build_path + 'bin/generate_cubic_surface --input ' + build_path + mesh_file + ' -o ' + build_path + output_name + ' --boundary-data ' + build_path + boundary_data_file\n",
    "subprocess.run(command.split(\" \"))"
   ]
  },
  {
   "cell_type": "code",
   "execution_count": 43,
   "metadata": {},
   "outputs": [
    {
     "name": "stdout",
     "output_type": "stream",
     "text": [
      "interior constraint max:  2.6645352591003757e-15\n",
      "interior constraint avg:  3.487785457271083e-16\n",
      "edge endpoint constraint max:  5.684341886080802e-14\n",
      "edge endpoint constraint avg:  7.49727077805694e-15\n",
      "edge midpoint constraint max:  7.105427357601002e-14\n",
      "edge midpoint constraint avg:  9.431181326098849e-15\n",
      "edge endpoint eliminated constraint max:  4.263256414560601e-14\n",
      "edge endpoint eliminated constraint avg:  5.226588392850737e-15\n"
     ]
    }
   ],
   "source": [
    "ct_interp_file = \"../../build/f2_function_values_from_lagrange_nodes.txt\"\n",
    "ct_uv_file = \"../../build/f2_function_values_from_lagrange_nodes_uvs.txt\"\n",
    "interior_file = '../../build/f2_interior_constraint_matrix.txt'\n",
    "endpoint_file = '../../build/f2_edge_endpoint_constraint_matrix.txt'\n",
    "midpoint_file = '../../build/f2_edge_midpoint_constraint_matrix.txt'\n",
    "endpoint_elim_file = '../../build/f2_edge_endpoint_constraint_matrix_eliminated.txt'\n",
    "check_constraint_matrice(ct_interp_file, interior_file, endpoint_file, midpoint_file, endpoint_elim_file)\n",
    "# plot_ct_interpolant(ct_interp_file, ct_uv_file, f2)"
   ]
  },
  {
   "cell_type": "code",
   "execution_count": 56,
   "metadata": {},
   "outputs": [
    {
     "name": "stdout",
     "output_type": "stream",
     "text": [
      "10\n",
      "#Cone: 0\n",
      "CHOLMOD warning: matrix not positive definite. file: /Users/jiachengdai/Desktop/algebraic-contours/build/_deps/suitesparse-src/CHOLMOD/Supernodal/t_cholmod_super_numeric.c line: 911\n",
      "#F: 10\n",
      "#E: 17\n",
      "#V: 8\n",
      "70 142\n",
      "70 142\n",
      "skip cnt: 8 v_cnt - cone_cnt: 8\n"
     ]
    },
    {
     "data": {
      "text/plain": [
       "CompletedProcess(args=['/Users/jiachengdai/Desktop/algebraic-contours/build/bin/generate_cubic_surface', '--input', '/Users/jiachengdai/Desktop/algebraic-contours/build/test_eight_triangles.obj', '-o', '/Users/jiachengdai/Desktop/algebraic-contours/build/f3', '--boundary-data', '/Users/jiachengdai/Desktop/algebraic-contours/build/f3_boundary_data.txt'], returncode=0)"
      ]
     },
     "execution_count": 56,
     "metadata": {},
     "output_type": "execute_result"
    }
   ],
   "source": [
    "# f3\n",
    "boundary_data_file = 'f3_boundary_data.txt'\n",
    "output_name = \"f3\"\n",
    "\n",
    "generate_boundary_data(f3, d3, \"../../build/\" + boundary_data_file, uv, f_uv)\n",
    "build_path = '/Users/jiachengdai/Desktop/algebraic-contours/build/'\n",
    "command = build_path + 'bin/generate_cubic_surface --input ' + build_path + mesh_file + ' -o ' + build_path + output_name + ' --boundary-data ' + build_path + boundary_data_file\n",
    "subprocess.run(command.split(\" \"))"
   ]
  },
  {
   "cell_type": "code",
   "execution_count": 57,
   "metadata": {},
   "outputs": [
    {
     "data": {
      "text/plain": [
       "'/Users/jiachengdai/Desktop/algebraic-contours/build/bin/generate_cubic_surface --input /Users/jiachengdai/Desktop/algebraic-contours/build/test_eight_triangles.obj -o /Users/jiachengdai/Desktop/algebraic-contours/build/f3 --boundary-data /Users/jiachengdai/Desktop/algebraic-contours/build/f3_boundary_data.txt'"
      ]
     },
     "execution_count": 57,
     "metadata": {},
     "output_type": "execute_result"
    }
   ],
   "source": [
    "command"
   ]
  },
  {
   "cell_type": "code",
   "execution_count": 58,
   "metadata": {},
   "outputs": [
    {
     "name": "stdout",
     "output_type": "stream",
     "text": [
      "interior constraint max:  5.440092820663267e-15\n",
      "interior constraint avg:  8.145270172629385e-16\n",
      "edge endpoint constraint max:  5.684341886080802e-14\n",
      "edge endpoint constraint avg:  9.854862024466831e-15\n",
      "edge midpoint constraint max:  1.8474111129762605e-13\n",
      "edge midpoint constraint avg:  2.3543258845727585e-14\n",
      "edge endpoint eliminated constraint max:  4.263256414560601e-14\n",
      "edge endpoint eliminated constraint avg:  8.254081179232413e-15\n"
     ]
    }
   ],
   "source": [
    "ct_interp_file = \"../../build/f3_function_values_from_lagrange_nodes.txt\"\n",
    "ct_uv_file = \"../../build/f3_function_values_from_lagrange_nodes_uvs.txt\"\n",
    "interior_file = '../../build/f3_interior_constraint_matrix.txt'\n",
    "endpoint_file = '../../build/f3_edge_endpoint_constraint_matrix.txt'\n",
    "midpoint_file = '../../build/f3_edge_midpoint_constraint_matrix.txt'\n",
    "endpoint_elim_file = '../../build/f3_edge_endpoint_constraint_matrix_eliminated.txt'\n",
    "check_constraint_matrice(ct_interp_file, interior_file, endpoint_file, midpoint_file, endpoint_elim_file)\n",
    "# plot_ct_interpolant(ct_interp_file, ct_uv_file, f3)"
   ]
  },
  {
   "cell_type": "code",
   "execution_count": null,
   "metadata": {},
   "outputs": [],
   "source": []
  },
  {
   "cell_type": "code",
   "execution_count": null,
   "metadata": {},
   "outputs": [],
   "source": []
  },
  {
   "cell_type": "code",
   "execution_count": null,
   "metadata": {},
   "outputs": [],
   "source": []
  },
  {
   "cell_type": "code",
   "execution_count": 23,
   "metadata": {},
   "outputs": [
    {
     "name": "stdout",
     "output_type": "stream",
     "text": [
      "\n",
      "interior constraint max:  4.440892098500626e-16\n",
      "interior constraint avg:  8.367975624592884e-17\n",
      "edge endpoint constraint max:  3.817532038629211e-15\n",
      "edge endpoint constraint avg:  3.906265281256526e-16\n",
      "edge midpoint constraint max:  0.014986340905907936\n",
      "edge midpoint constraint avg:  0.0024344295875144166\n",
      "[[0.         0.         0.        ]\n",
      " [0.         0.         0.        ]\n",
      " [0.00654376 0.01498634 0.01498634]\n",
      " [0.         0.         0.        ]\n",
      " [0.         0.         0.        ]]\n"
     ]
    }
   ],
   "source": [
    "# test on tet mesh\n",
    "\n",
    "# interior_matix = np.loadtxt('../../build/tet_interior_constraint_matrix.txt') \n",
    "# edge_end_point_matrix = np.loadtxt('../../build/tet_edge_endpoint_constraint_matrix.txt') \n",
    "# edge_mid_point_matrix = np.loadtxt('../../build/tet_edge_midpoint_constraint_matrix.txt')\n",
    "\n",
    "# tet_mesh = mio.read(\"../../build/tet_from_lagrange_nodes.msh\")\n",
    "# tet_points = tet_mesh.points\n",
    "\n",
    "\n",
    "interior_matix = np.loadtxt('../../build/tet_prob_interior_constraint_matrix.txt') \n",
    "edge_end_point_matrix = np.loadtxt('../../build/tet_prob_edge_endpoint_constraint_matrix.txt') \n",
    "edge_mid_point_matrix = np.loadtxt('../../build/tet_prob_edge_midpoint_constraint_matrix.txt')\n",
    "\n",
    "tet_mesh = mio.read(\"../../build/tet_prob_from_lagrange_nodes.msh\")\n",
    "tet_points = tet_mesh.points\n",
    "\n",
    "r1 = interior_matix @ tet_points\n",
    "r2 = edge_end_point_matrix @ tet_points\n",
    "r3 = edge_mid_point_matrix @ tet_points\n",
    "\n",
    "print(\"interior constraint max: \", np.max(np.abs(r1)))\n",
    "print(\"interior constraint avg: \", np.average(np.abs(r1)))\n",
    "print(\"edge endpoint constraint max: \", np.max(np.abs(r2)))\n",
    "print(\"edge endpoint constraint avg: \", np.average(np.abs(r2)))\n",
    "print(\"edge midpoint constraint max: \", np.max(np.abs(r3)))\n",
    "print(\"edge midpoint constraint avg: \", np.average(np.abs(r3)))\n",
    "\n",
    "print(r3)"
   ]
  },
  {
   "cell_type": "code",
   "execution_count": 25,
   "metadata": {},
   "outputs": [
    {
     "name": "stdout",
     "output_type": "stream",
     "text": [
      "\n",
      "\n",
      "\n",
      "interior constraint max:  2.553134779981203e-09\n",
      "interior constraint avg:  3.620407796830318e-11\n",
      "edge endpoint constraint max:  6.807806185449294e-08\n",
      "edge endpoint constraint avg:  3.170190639544718e-09\n",
      "edge midpoint constraint max:  0.1123936138309034\n",
      "edge midpoint constraint avg:  0.008578320067884594\n",
      "[[ 3.95450659e-04  9.97475520e-06  5.32354601e-04]\n",
      " [ 2.22838715e-04  3.78359495e-04  7.02868239e-04]\n",
      " [ 9.60419287e-05 -9.82813751e-05  3.10310723e-04]\n",
      " [ 3.40070744e-03  1.11501526e-02  1.08517248e-02]\n",
      " [ 3.86038331e-03  4.73301771e-03 -3.17908093e-03]\n",
      " [-1.46477631e-05 -4.62170434e-05  2.47221469e-05]\n",
      " [-1.10935574e-02 -4.18611316e-03 -9.87459213e-03]\n",
      " [ 1.61423930e-04 -6.39702969e-04 -4.13127291e-05]\n",
      " [-6.07283691e-04 -2.50403537e-04  2.26595939e-05]\n",
      " [ 1.25641526e-05  4.93789590e-03  5.74866856e-03]\n",
      " [-1.35939190e-03 -9.55174429e-04 -3.82055485e-04]\n",
      " [-6.12705527e-04 -1.41782716e-03 -1.59079331e-04]\n",
      " [-3.84845420e-02  6.61142804e-02  5.72866483e-02]\n",
      " [ 7.33441344e-04 -6.74987749e-04  1.96026419e-04]\n",
      " [-1.45593301e-02 -1.43212371e-02  1.48528509e-02]\n",
      " [ 2.82125740e-03  6.40129828e-03 -1.02765055e-02]\n",
      " [-1.47117216e-04  5.26104225e-04  1.39377772e-04]\n",
      " [ 2.86982364e-03 -2.62980988e-04 -3.52447179e-04]\n",
      " [-5.60452535e-04 -2.31701495e-03 -2.98372807e-03]\n",
      " [-2.06113285e-03  3.21724706e-03 -7.64096687e-03]\n",
      " [-4.33341381e-04 -8.56055282e-05  6.12588423e-06]\n",
      " [-4.79598569e-02  3.26319197e-02 -2.70194798e-03]\n",
      " [-3.21232579e-04 -3.45626723e-04 -5.59333401e-04]\n",
      " [-3.24055640e-03 -2.19528836e-03  1.79766801e-03]\n",
      " [-5.94129413e-03 -5.59077611e-03 -3.39912224e-03]\n",
      " [-1.08198731e-04  9.76181621e-05  1.21893822e-05]\n",
      " [ 7.34523289e-04 -7.39347484e-04  1.00509357e-03]\n",
      " [-1.15798510e-04  6.72964511e-05  2.96036967e-04]\n",
      " [ 1.98097964e-04 -1.26223096e-04  2.32531166e-05]\n",
      " [-3.72233977e-04  2.49393318e-04 -1.57769247e-04]\n",
      " [ 2.20419156e-03 -8.80285619e-04  2.77923815e-03]\n",
      " [ 2.65748503e-04 -9.71131941e-04 -4.99615551e-04]\n",
      " [-5.00069704e-03 -5.94669155e-03 -2.98785378e-03]\n",
      " [-9.24795158e-04 -1.97589369e-04  6.96461989e-04]\n",
      " [ 1.23367922e-03 -7.66655501e-04  4.24081378e-03]\n",
      " [-4.74794407e-03  7.99022288e-03  1.02370504e-02]\n",
      " [-7.72487029e-04  3.72926676e-06  1.27497469e-04]\n",
      " [ 8.67900553e-03  1.12393614e-01  6.49093987e-02]\n",
      " [ 7.31818098e-02  8.69632377e-02  2.65628119e-02]\n",
      " [-1.97632592e-02  1.35369833e-02 -3.01327056e-02]\n",
      " [ 6.06086132e-04 -6.24074773e-04 -2.20090892e-04]\n",
      " [ 2.16242189e-04 -9.08126396e-04  9.61767306e-04]\n",
      " [-1.68209602e-04  5.43584188e-04 -3.52600110e-04]\n",
      " [-3.35569455e-04 -1.31785514e-03  1.98130262e-03]\n",
      " [-2.21091934e-04 -1.32568085e-04  3.05030776e-05]\n",
      " [ 1.26784582e-03 -2.27784817e-04 -5.58306633e-04]\n",
      " [-9.04505962e-05  5.90144305e-04 -6.47186264e-05]\n",
      " [ 7.78486126e-04 -4.64758362e-03 -1.93981358e-03]\n",
      " [ 1.08041839e-04 -5.81185203e-04 -1.26927080e-04]\n",
      " [-3.83783887e-04  1.27570733e-03  7.82278666e-05]\n",
      " [-7.90638932e-05 -5.52898604e-05  2.62788515e-05]\n",
      " [ 4.87727215e-04  5.61735652e-03 -1.03336380e-02]\n",
      " [ 1.47909294e-04 -1.35961233e-04 -1.49669430e-05]\n",
      " [-2.37025939e-03 -2.83208083e-03 -1.15606870e-04]\n",
      " [-9.23620932e-03  1.31652377e-03 -5.51068559e-04]\n",
      " [ 4.62799550e-05  8.97911144e-05  1.28212400e-04]\n",
      " [-3.09103411e-04  1.97597732e-04  9.05235241e-05]\n",
      " [-3.87757210e-04  8.70319833e-05  7.37549981e-05]\n",
      " [-3.84920058e-04 -2.98390026e-04 -1.01590564e-03]\n",
      " [-7.70663810e-05 -8.58362942e-05 -1.03342799e-04]\n",
      " [ 2.78401458e-02 -4.11141870e-03  9.84051821e-02]\n",
      " [-1.98663954e-04 -9.58388162e-05 -6.64165724e-04]\n",
      " [ 1.99103355e-02 -4.30936282e-02  6.37157691e-02]\n",
      " [ 2.81669604e-03 -1.45315962e-02  9.32710889e-03]\n",
      " [-8.65636400e-04 -7.59285822e-03 -5.02811389e-03]\n",
      " [-1.89415169e-02 -1.20765062e-03 -5.17466404e-02]\n",
      " [ 1.22602670e-02  5.79700091e-02  4.18733455e-02]\n",
      " [-1.12858417e-02  5.86088079e-02 -3.24712092e-02]\n",
      " [ 1.92269180e-02 -3.12254960e-03  5.64735593e-02]\n",
      " [-2.82008976e-04  1.63716277e-04 -1.13292127e-03]\n",
      " [-4.46529293e-04 -4.35751652e-03  8.20212824e-04]\n",
      " [-1.95084199e-03 -3.65317633e-03 -4.42560232e-03]\n",
      " [ 1.18425865e-04 -2.54255075e-05 -2.17134679e-05]\n",
      " [ 1.46993984e-03 -2.28098437e-03  7.59633758e-04]\n",
      " [-3.31181131e-02 -3.87214039e-02  1.19766131e-02]\n",
      " [ 7.40433463e-04  2.96370150e-04  5.58888217e-04]\n",
      " [-2.52648466e-02  5.25717745e-02 -6.36397073e-02]\n",
      " [ 9.38993871e-03 -4.61889736e-02  2.15078454e-02]\n",
      " [-3.48170017e-03  1.26740635e-02 -8.26499082e-03]\n",
      " [ 1.87282348e-03 -1.13640735e-02 -1.24219178e-02]\n",
      " [ 1.14556801e-03  1.38377074e-02  5.41588651e-03]\n",
      " [-5.97377313e-03 -5.47782676e-02 -2.75133969e-02]\n",
      " [-3.95799848e-02  1.60696473e-02 -1.11858264e-01]\n",
      " [-1.16535112e-05 -6.41551715e-04 -3.96403657e-04]\n",
      " [-5.68423986e-03  1.00749475e-02  1.24093577e-03]\n",
      " [-1.32009296e-03  8.61312211e-03  6.59123635e-03]\n",
      " [-5.97654833e-04  1.35285695e-03 -6.32959993e-04]\n",
      " [-1.91213135e-04  4.83074367e-03  1.45846521e-03]\n",
      " [-2.46702764e-04 -7.64531215e-04 -1.08677442e-04]\n",
      " [ 5.30487596e-04  2.41157929e-04  5.36976346e-05]\n",
      " [ 4.46990707e-03  2.34053169e-03 -1.59909648e-04]\n",
      " [ 4.52814944e-05  1.40343052e-03 -7.23008626e-04]\n",
      " [-2.95568133e-04 -3.18597122e-06 -5.36041753e-04]\n",
      " [-3.75134096e-02  8.17389351e-02  7.06821060e-02]\n",
      " [-6.54367120e-04 -7.61102395e-04 -3.51656493e-04]\n",
      " [ 1.82505471e-02 -2.79290870e-02  2.46117559e-02]\n",
      " [ 5.19491465e-05  5.04129188e-05 -4.03014102e-04]\n",
      " [-1.68845500e-02  1.15081700e-02  3.26874018e-02]\n",
      " [-2.17875745e-05  9.39678349e-07 -9.22508743e-06]\n",
      " [-8.54238524e-03 -1.36022546e-03  1.02111411e-02]\n",
      " [ 8.48750220e-04 -2.52222879e-04 -2.22994141e-04]\n",
      " [ 8.28492081e-04  2.76597826e-04 -5.10253027e-04]\n",
      " [-2.79542570e-03 -2.67336574e-03  6.75170623e-03]\n",
      " [ 2.15248923e-02 -1.63533314e-02  3.95387261e-02]\n",
      " [-1.54254581e-03  1.68784594e-03 -1.25845167e-05]\n",
      " [ 4.16486486e-04 -1.56666222e-03  3.16405337e-04]\n",
      " [ 2.52910611e-03  1.51539896e-03  1.52327171e-04]\n",
      " [ 1.74399814e-03  8.02924499e-03  4.54642886e-03]\n",
      " [ 7.47381571e-04 -2.96993655e-03 -3.05837314e-03]\n",
      " [ 9.65101517e-05 -2.29836193e-03 -1.59611413e-03]\n",
      " [-6.16047348e-04 -2.00333280e-03  1.20653423e-04]\n",
      " [ 1.47759665e-03  7.87133265e-04  3.90189420e-03]\n",
      " [ 5.34914549e-04  1.63569457e-03 -2.25021721e-04]\n",
      " [ 2.90123705e-02  7.66423447e-02  4.28134246e-02]\n",
      " [ 7.14874277e-04 -1.73090778e-03  3.78093891e-03]\n",
      " [-3.95780637e-04 -1.03261307e-03  4.32283713e-04]\n",
      " [ 1.88286637e-03  2.21594337e-04 -1.50512325e-04]\n",
      " [-5.45975883e-02 -2.80451110e-02 -8.99849611e-03]\n",
      " [-3.56612122e-03 -1.57060239e-03 -2.62429857e-03]\n",
      " [ 2.46302017e-04 -8.77181109e-04  3.53233513e-04]\n",
      " [ 6.00327398e-02 -2.88622817e-03  2.17064603e-02]\n",
      " [-2.95970017e-02 -3.49557787e-02  1.03560587e-02]\n",
      " [ 9.45387739e-03  1.12572294e-02  4.88189524e-03]\n",
      " [-1.20010270e-02 -1.52119691e-03  4.50639028e-03]\n",
      " [ 1.39859207e-02  1.99137206e-03 -3.03405200e-03]\n",
      " [-1.77622908e-04  3.51449271e-05 -1.39817647e-04]\n",
      " [-7.64141086e-04  7.22127746e-04  3.15080267e-04]\n",
      " [-6.43957838e-02 -5.86014325e-03  1.83559708e-02]\n",
      " [ 1.53704661e-02 -3.00162082e-02 -2.52844862e-02]\n",
      " [ 1.02727448e-05 -5.25447983e-05 -2.37001316e-05]\n",
      " [-3.70392947e-02 -3.46493023e-02 -9.11289605e-03]\n",
      " [-6.01803754e-02  2.86179964e-03  2.51957641e-02]\n",
      " [ 1.68799273e-02 -1.55089105e-03 -7.36824976e-03]\n",
      " [ 2.08178692e-02  2.26801654e-02  1.10560456e-02]\n",
      " [ 7.20176694e-03 -6.87301559e-03 -7.99798389e-03]\n",
      " [-4.87872713e-02 -1.83953796e-02 -2.42433559e-02]\n",
      " [-8.58714839e-05 -9.02607453e-05  1.31639188e-04]\n",
      " [ 3.73364412e-03 -1.56869809e-03  9.01948063e-04]\n",
      " [-6.99775603e-04  5.57466983e-04 -8.48860184e-04]\n",
      " [ 3.02646347e-02 -3.16486123e-02 -1.02098688e-02]\n",
      " [-4.82890560e-06  4.25751307e-06  2.82388665e-05]\n",
      " [-2.11220877e-03  8.08059312e-03  7.40754946e-03]\n",
      " [-1.86135032e-04  2.25048586e-03  4.57237658e-04]\n",
      " [-2.00225442e-03 -9.07044184e-04 -5.52851630e-04]\n",
      " [-3.20753793e-03 -2.68218659e-03 -3.82428165e-04]\n",
      " [ 7.33158054e-05  7.75804245e-05 -3.55880526e-06]\n",
      " [-1.12881850e-04 -8.88496049e-05  9.81749558e-05]\n",
      " [ 4.48797739e-03 -2.78886290e-03  1.41305689e-02]\n",
      " [-2.47211719e-03  1.80795677e-03 -3.58128619e-03]\n",
      " [ 5.56608810e-03  1.58928560e-03 -2.98221460e-03]\n",
      " [ 7.01972198e-04 -4.77235290e-03  2.74508863e-04]\n",
      " [-6.53663904e-04  9.84239269e-04  4.93410788e-04]\n",
      " [-4.76548117e-03  6.22483909e-03 -4.38084706e-03]\n",
      " [-2.41436352e-03  3.23273718e-04 -9.08651594e-04]\n",
      " [-3.85007222e-03  6.95122238e-04 -1.00525434e-02]\n",
      " [ 2.52367786e-05 -4.82584567e-05  1.37410883e-04]\n",
      " [ 2.37911665e-02  5.77767164e-03 -2.36603533e-03]\n",
      " [ 2.25283978e-02 -1.59256653e-02 -4.42847526e-02]\n",
      " [-1.15681927e-03  2.59882788e-04 -2.27306020e-03]\n",
      " [ 4.96685917e-02 -3.23116776e-02  3.62363588e-03]\n",
      " [-1.65016303e-02 -8.88320204e-04  8.30902233e-03]\n",
      " [ 4.97636486e-02  1.74102194e-02  2.03895228e-03]\n",
      " [-4.82073564e-04 -2.83673844e-05 -8.39634666e-05]\n",
      " [-2.46097475e-04 -4.31637948e-04  1.15257726e-04]\n",
      " [ 4.12721719e-03  7.99719038e-03 -9.30269840e-06]\n",
      " [ 4.92129692e-03  9.31611054e-03  1.14421610e-03]\n",
      " [ 4.11419037e-04  2.10737004e-03  1.62909419e-03]\n",
      " [-1.36038132e-04 -9.49364593e-06 -2.88732443e-05]\n",
      " [-1.08000311e-03 -8.83248229e-04 -3.44073975e-03]\n",
      " [-1.14209226e-03 -6.14220384e-03 -7.36327704e-04]\n",
      " [-2.12104567e-03 -1.63497745e-03  1.89648147e-03]\n",
      " [-6.99832555e-03  1.94944368e-02 -5.80505416e-02]\n",
      " [ 9.47677047e-03  1.45231966e-03  1.12144464e-02]\n",
      " [-1.02468034e-02 -7.14736033e-03  5.32079286e-03]\n",
      " [-2.81425451e-03 -1.89934516e-03  2.11555083e-03]\n",
      " [-3.01887018e-03 -7.50358818e-03 -2.46845320e-03]\n",
      " [-1.56050581e-04 -6.34633128e-04  2.31088929e-04]\n",
      " [ 6.29135665e-04  4.48011895e-04  9.60993157e-05]\n",
      " [ 7.92407084e-04  3.37530604e-03 -3.03307985e-03]\n",
      " [-5.63041832e-05 -1.73196403e-04  3.24532163e-04]\n",
      " [ 2.65055422e-03  2.85201345e-03 -5.11246394e-03]\n",
      " [ 1.95352557e-02 -3.40664967e-02 -2.83256926e-03]\n",
      " [-6.14194897e-03  2.99865266e-02 -2.36586400e-02]\n",
      " [-3.77750029e-05  1.29127920e-02 -1.30358268e-02]\n",
      " [-3.29872367e-03 -2.06790521e-03  4.89685528e-03]\n",
      " [ 9.24236419e-04  3.26124036e-03 -4.38064628e-04]\n",
      " [ 3.51582171e-03 -1.03083310e-03  1.53277587e-04]\n",
      " [-2.45118230e-04 -2.44556622e-04  2.88616704e-04]\n",
      " [ 3.50025969e-02  1.25874055e-03 -5.31007221e-02]\n",
      " [ 2.61689407e-02 -2.88794546e-02 -9.61909079e-03]\n",
      " [ 8.71145859e-04  2.74165737e-02 -2.99472784e-02]\n",
      " [ 3.79366912e-04  9.76420903e-05  5.59407555e-04]]\n"
     ]
    }
   ],
   "source": [
    "# test on tet mesh\n",
    "\n",
    "interior_matix = np.loadtxt('../../build/icosphere_interior_constraint_matrix.txt') \n",
    "edge_end_point_matrix = np.loadtxt('../../build/icosphere_edge_endpoint_constraint_matrix.txt') \n",
    "edge_mid_point_matrix = np.loadtxt('../../build/icosphere_edge_midpoint_constraint_matrix.txt')\n",
    "\n",
    "ico_sphere_mesh = mio.read(\"../../build/icosphere_from_lagrange_nodes.msh\")\n",
    "ico_points = ico_sphere_mesh.points\n",
    "\n",
    "local2global = []\n",
    "idx = 0\n",
    "# with open(\"../../build/icosphere_surface_tri_to_tet_v_map.txt\", \"r\") as file:\n",
    "#     for line in file:\n",
    "#         local2global.append(int(line))\n",
    "#         idx += 1\n",
    "\n",
    "with open(\"../../build/icosphere_surface_correct_tri_to_tet_v_map.txt\", \"r\") as file:\n",
    "    for line in file:\n",
    "        local2global.append(int(line))\n",
    "        idx += 1\n",
    "\n",
    "tetmesh = mio.read(\"../../build/test_curved_high_order_tetmesh.msh\")\n",
    "surface_mesh = mio.read(\"../../build/icosphere_from_lagrange_nodes.msh\")\n",
    "\n",
    "s_points = surface_mesh.points\n",
    "t_points = tetmesh.points\n",
    "\n",
    "t_s_points = t_points[local2global]\n",
    "\n",
    "t_s_points_2 = []\n",
    "for i in local2global:\n",
    "    t_s_points_2.append(t_points[i])\n",
    "t_s_points_2 = np.array(t_s_points_2)\n",
    "\n",
    "r1 = interior_matix @ ico_points\n",
    "r2 = edge_end_point_matrix @ ico_points\n",
    "r3 = edge_mid_point_matrix @ ico_points\n",
    "\n",
    "print(\"interior constraint max: \", np.max(np.abs(r1)))\n",
    "print(\"interior constraint avg: \", np.average(np.abs(r1)))\n",
    "print(\"edge endpoint constraint max: \", np.max(np.abs(r2)))\n",
    "print(\"edge endpoint constraint avg: \", np.average(np.abs(r2)))\n",
    "print(\"edge midpoint constraint max: \", np.max(np.abs(r3)))\n",
    "print(\"edge midpoint constraint avg: \", np.average(np.abs(r3)))\n",
    "\n",
    "print(r3)"
   ]
  },
  {
   "cell_type": "code",
   "execution_count": 49,
   "metadata": {},
   "outputs": [
    {
     "name": "stdout",
     "output_type": "stream",
     "text": [
      "\n",
      "384 268\n",
      "326 268\n",
      "192 192\n"
     ]
    }
   ],
   "source": [
    "# interior_matix = np.loadtxt('../../build/tet_interior_constraint_matrix.txt') \n",
    "# edge_end_point_matrix = np.loadtxt('../../build/tet_edge_endpoint_constraint_matrix.txt') \n",
    "# edge_mid_point_matrix = np.loadtxt('../../build/tet_edge_midpoint_constraint_matrix.txt')\n",
    "# edge_end_point_matrix_elim = np.loadtxt('../../build/tet_edge_endpoint_constraint_matrix_eliminated.txt') \n",
    "\n",
    "# t_mesh = mio.read(\"../../build/tet_from_lagrange_nodes.msh\")\n",
    "# t_points = t_mesh.points\n",
    "\n",
    "interior_matix = np.loadtxt('../../build/icosphere_interior_constraint_matrix.txt') \n",
    "edge_end_point_matrix = np.loadtxt('../../build/icosphere_edge_endpoint_constraint_matrix.txt') \n",
    "edge_mid_point_matrix = np.loadtxt('../../build/icosphere_edge_midpoint_constraint_matrix.txt')\n",
    "edge_end_point_matrix_elim = np.loadtxt('../../build/icosphere_edge_endpoint_constraint_matrix_eliminated.txt') \n",
    "\n",
    "t_mesh = mio.read(\"../../build/icosphere_from_lagrange_nodes.msh\")\n",
    "t_points = t_mesh.points\n",
    "\n",
    "# big_matrix = np.concatenate((interior_matix,edge_end_point_matrix_elim, edge_mid_point_matrix))\n",
    "\n",
    "# b = - (big_matrix @ t_points)\n",
    "\n",
    "# r, _, _, _ = np.linalg.lstsq(big_matrix, b, rcond=None)\n",
    "# # r, res, rang, s = np.linalg.lstsq(cM.T, cv.flatten(), rcond=None)\n",
    "\n",
    "# t_new = t_points + r\n",
    "\n",
    "# print(np.linalg.norm(big_matrix @ t_new))\n",
    "\n",
    "# mesh_new = mio.Mesh(t_new, t_mesh.cells)\n",
    "# mesh_new.write(\"tet_lsq.msh\", file_format='gmsh')\n",
    "\n",
    "# int_rank = np.linalg.matrix_rank(interior_matix)\n",
    "end_rank = np.linalg.matrix_rank(edge_end_point_matrix)\n",
    "end_rank_elim = np.linalg.matrix_rank(edge_end_point_matrix_elim)\n",
    "mid_rank = np.linalg.matrix_rank(edge_mid_point_matrix)\n",
    "\n",
    "\n",
    "# print(np.max(np.abs(interior_matix @ t_points)))\n",
    "# print(np.max(np.abs(edge_end_point_matrix @ t_points)))\n",
    "# print(np.max(np.abs(edge_mid_point_matrix @ t_points)))\n",
    "# # print(edge_mid_point_matrix @ t_points)\n",
    "\n",
    "# print(interior_matix.shape[0], int_rank)\n",
    "print(edge_end_point_matrix.shape[0], end_rank)\n",
    "print(edge_end_point_matrix_elim.shape[0], end_rank_elim)\n",
    "print(edge_mid_point_matrix.shape[0], mid_rank)\n",
    "\n",
    "# end_res = edge_end_point_matrix @ t_points\n",
    "# for i in range((end_res).shape[0]//2):\n",
    "#     print(i, \": \", end_res[2*i], end_res[2*i+1])\n",
    "    \n",
    "# mid_res = edge_mid_point_matrix @ t_points\n",
    "# for i in range((mid_res).shape[0]):\n",
    "#     print(i, \": \", mid_res[i])"
   ]
  },
  {
   "cell_type": "code",
   "execution_count": 51,
   "metadata": {},
   "outputs": [
    {
     "name": "stdout",
     "output_type": "stream",
     "text": [
      "\n"
     ]
    }
   ],
   "source": [
    "# write matrix\n",
    "big_mesh = np.concatenate((interior_matix, edge_end_point_matrix_elim, edge_mid_point_matrix))\n",
    "\n",
    "local2global = np.loadtxt(\"../../build/icosphere_surface_correct_tri_to_tet_v_map.txt\").astype(np.int32)\n",
    "A = big_mesh\n",
    "m = mio.read(\"../../build/test_linear_high_order_tetmesh.msh\")\n",
    "v = m.points\n",
    "b = -(A @ v[local2global, :])\n",
    "\n",
    "# print(A.shape)\n",
    "# print(local2global.shape)\n",
    "# print(b.shape)\n",
    "\n",
    "with h5py.File(\"3dc_2c.hdf5\", 'w') as f:\n",
    "    f.create_dataset(\"local2global\", data=local2global.astype(np.int32))\n",
    "    f.create_dataset(\"A\", data=A)\n",
    "    f.create_dataset(\"b\", data=b)"
   ]
  },
  {
   "cell_type": "code",
   "execution_count": 95,
   "metadata": {},
   "outputs": [],
   "source": [
    "miss_match_cnt = 0\n",
    "for i in range((s_points - t_s_points_2).shape[0]):\n",
    "    if abs((s_points - t_s_points_2)[i][0]) > 1e-10:\n",
    "        # print((s_points - t_s_points_2)[i])\n",
    "        miss_match_cnt += 1"
   ]
  },
  {
   "cell_type": "code",
   "execution_count": 99,
   "metadata": {},
   "outputs": [],
   "source": [
    "interior_matix = np.loadtxt('../../build/icosphere_interior_constraint_matrix.txt') \n",
    "edge_end_point_matrix = np.loadtxt('../../build/icosphere_edge_endpoint_constraint_matrix.txt') \n",
    "edge_mid_point_matrix = np.loadtxt('../../build/icosphere_edge_midpoint_constraint_matrix.txt')\n",
    "edge_end_point_matrix_elim = np.loadtxt('../../build/icosphere_edge_endpoint_constraint_matrix_eliminated.txt') \n",
    "\n",
    "big_mesh = np.concatenate((interior_matix, edge_end_point_matrix_elim, edge_mid_point_matrix))"
   ]
  },
  {
   "cell_type": "code",
   "execution_count": 101,
   "metadata": {},
   "outputs": [],
   "source": [
    "q, r  = scipy.linalg.qr(big_mesh)"
   ]
  },
  {
   "cell_type": "code",
   "execution_count": 102,
   "metadata": {},
   "outputs": [],
   "source": [
    "q_rank = np.linalg.matrix_rank(q)\n",
    "r_rank = np.linalg.matrix_rank(r)"
   ]
  },
  {
   "cell_type": "code",
   "execution_count": 109,
   "metadata": {},
   "outputs": [],
   "source": [
    "A_rank = np.linalg.matrix_rank(big_mesh)"
   ]
  },
  {
   "cell_type": "code",
   "execution_count": 111,
   "metadata": {},
   "outputs": [
    {
     "name": "stdout",
     "output_type": "stream",
     "text": [
      "\n"
     ]
    }
   ],
   "source": [
    "ico_sphere_mesh = mio.read(\"../../build/icosphere_from_lagrange_nodes.msh\")\n",
    "ico_points = ico_sphere_mesh.points"
   ]
  },
  {
   "cell_type": "code",
   "execution_count": 114,
   "metadata": {},
   "outputs": [
    {
     "name": "stdout",
     "output_type": "stream",
     "text": [
      "2.553134779981203e-09\n",
      "1.140895445855157\n",
      "0.20010132890498866\n",
      "1.140895445855157\n"
     ]
    }
   ],
   "source": [
    "print(np.max(np.abs(interior_matix @ ico_points)))\n",
    "print(np.max(np.abs(edge_end_point_matrix_elim @ ico_points)))\n",
    "# print(edge_mid_point_matrix)\n",
    "print(np.max(np.abs(edge_mid_point_matrix @ ico_points)))\n",
    "\n",
    "print(np.max(np.abs(big_mesh @ ico_points)))"
   ]
  },
  {
   "cell_type": "code",
   "execution_count": null,
   "metadata": {},
   "outputs": [],
   "source": [
    "with np.printoptions(threshold=np.inf):\n",
    "    print(np.linalg.norm(big_mesh, axis=0))"
   ]
  },
  {
   "cell_type": "code",
   "execution_count": null,
   "metadata": {},
   "outputs": [
    {
     "name": "stdout",
     "output_type": "stream",
     "text": [
      "(896, 1730)\n",
      "(384, 1730)\n",
      "(326, 1730)\n",
      "(192, 1730)\n",
      "(1414, 1730)\n"
     ]
    }
   ],
   "source": [
    "print(interior_matix.shape)\n",
    "print(edge_end_point_matrix.shape)\n",
    "print(edge_end_point_matrix_elim.shape)\n",
    "print(edge_mid_point_matrix.shape)\n",
    "print(big_mesh.shape)"
   ]
  },
  {
   "cell_type": "code",
   "execution_count": null,
   "metadata": {},
   "outputs": [
    {
     "name": "stdout",
     "output_type": "stream",
     "text": [
      "\n",
      "(1414, 1730)\n",
      "(1730,)\n",
      "(1414, 3)\n"
     ]
    }
   ],
   "source": [
    "import h5py\n",
    "\n",
    "local2global = np.loadtxt(\"../../build/icosphere_surface_correct_tri_to_tet_v_map.txt\").astype(np.int32)\n",
    "A = big_mesh\n",
    "m = mio.read(\"../../build/test_linear_high_order_tetmesh.msh\")\n",
    "v = m.points\n",
    "b = -(A @ v[local2global, :])\n",
    "\n",
    "print(A.shape)\n",
    "print(local2global.shape)\n",
    "print(b.shape)\n",
    "\n",
    "with h5py.File(\"3dc__aaaaa.hdf5\", 'w') as f:\n",
    "    f.create_dataset(\"local2global\", data=local2global.astype(np.int32))\n",
    "    f.create_dataset(\"A\", data=A)\n",
    "    f.create_dataset(\"b\", data=b)"
   ]
  },
  {
   "cell_type": "code",
   "execution_count": null,
   "metadata": {},
   "outputs": [
    {
     "name": "stdout",
     "output_type": "stream",
     "text": [
      "[0.         1.         0.         0.33333333 0.66666667 0.66666667\n",
      " 0.33333333 0.         0.         0.44444444 0.44444444 0.11111111\n",
      " 0.         0.         0.         0.         0.         0.\n",
      " 0.         0.         0.         0.         0.         0.\n",
      " 0.         1.         0.         0.33333333 0.66666667 0.66666667\n",
      " 0.33333333 0.         0.         0.44444444 0.44444444 0.11111111\n",
      " 0.         0.         0.         0.         0.         0.\n",
      " 0.         0.         0.         0.         0.         0.\n",
      " 1.         0.         0.         0.66666667 0.33333333 0.\n",
      " 0.         0.33333333 0.66666667 0.44444444 0.11111111 0.44444444\n",
      " 0.         0.         0.         0.         0.         0.\n",
      " 0.         0.         0.         0.         0.         0.\n",
      " 1.         0.         0.         0.66666667 0.33333333 0.\n",
      " 0.         0.33333333 0.66666667 0.44444444 0.11111111 0.44444444\n",
      " 0.         0.         0.         0.         0.         0.\n",
      " 0.         0.         0.         0.         0.         0.\n",
      " 1.         0.         0.         0.66666667 0.33333333 0.\n",
      " 0.         0.33333333 0.66666667 0.44444444 0.11111111 0.44444444\n",
      " 0.         1.         0.         0.33333333 0.66666667 0.66666667\n",
      " 0.33333333 0.         0.         0.44444444 0.44444444 0.11111111]\n"
     ]
    }
   ],
   "source": [
    "get_P_G2E_mul_nodes(\"../../build/P_G2E.txt\", \"../../build/f1_function_values_from_lagrange_nodes.txt\")"
   ]
  },
  {
   "cell_type": "code",
   "execution_count": 2,
   "metadata": {},
   "outputs": [
    {
     "name": "stdout",
     "output_type": "stream",
     "text": [
      "checking midpoint constraint for general cubic (should be zero):  0\n"
     ]
    }
   ],
   "source": [
    "from midpoint_constraint_validation import *"
   ]
  },
  {
   "cell_type": "code",
   "execution_count": null,
   "metadata": {},
   "outputs": [],
   "source": [
    "TT = list(np.array([[0,0], [0,3], [-1,0]]))\n",
    "TT_p = list(np.array([[0,3], [0,0], [1,0]]))\n",
    "\n",
    "g_m = compute_gm(T)\n",
    "g_m_prime = compute_gm(Tp)\n"
   ]
  },
  {
   "cell_type": "code",
   "execution_count": null,
   "metadata": {},
   "outputs": [],
   "source": [
    "g_m_0 = compute_gm(TT)\n",
    "g_m_1 = compute_gm(TT_p)"
   ]
  },
  {
   "cell_type": "code",
   "execution_count": 62,
   "metadata": {},
   "outputs": [],
   "source": [
    "c_e = generate_ce(polys_C1_f)\n",
    "c_e = npa(c_e) \n",
    "ch = npa([0,0,0,0,1])\n",
    "\n",
    "def compute_gm_test(T):\n",
    "    u01 = T[1]-T[0] \n",
    "    u10 = T[0]-T[1]\n",
    "    print(\"u01:\", u01)\n",
    "    \n",
    "    mpt = (T[0]+T[1])/2 \n",
    "    m   =  T[2]-mpt\n",
    "    # print(\"m:\", m)\n",
    "    u01_n = u01/norm2(u01); u10_n = u10/norm2(u10); \n",
    "    # print(\"u01_n:\", u01_n)\n",
    "    # print(\"u01_n_prep: \", perp(u01_n))\n",
    "    gm =  (ch - np.dot(m, u01_n)*c_e/norm2(u01))/np.dot(m, perp(u01_n));\n",
    "    # print(\"np.dot(m, u01_n): \", np.dot(m, u01_n))\n",
    "    # print(norm2(u01))\n",
    "    # print(\"ch - np.dot(m, u01_n)*c_e/norm2(u01): \", ch - np.dot(m, u01_n)*c_e/norm2(u01))\n",
    "    # print(\"yy: \", np.dot(m, perp(u01_n)))\n",
    "    return gm"
   ]
  },
  {
   "cell_type": "code",
   "execution_count": 63,
   "metadata": {},
   "outputs": [
    {
     "name": "stdout",
     "output_type": "stream",
     "text": [
      "u01: [1. 0.]\n",
      "m: [-0.71832421  0.71832421]\n",
      "u01_n: [1.00000000000000 0]\n",
      "u01_n_prep:  [0, 1.00000000000000]\n",
      "np.dot(m, u01_n):  -0.718324207423032\n",
      "1.00000000000000\n",
      "ch - np.dot(m, u01_n)*c_e/norm2(u01):  [-1.07748631113455 1.07748631113455 -0.179581051855758 0.179581051855758 1]\n",
      "yy:  0.718324207423033\n"
     ]
    },
    {
     "data": {
      "text/plain": [
       "array([-1.50000000000000, 1.50000000000000, -0.250000000000000,\n",
       "       0.250000000000000, 1.39212905491167], dtype=object)"
      ]
     },
     "execution_count": 63,
     "metadata": {},
     "output_type": "execute_result"
    }
   ],
   "source": [
    "# pp = np.array([[0, 0],\n",
    "# [0.87310264093377665, 0.87310264093377654],\n",
    "# [0.43655132046688805, -0.81779020462853524],\n",
    "# [-0.81779020462853447, 0.43655132046688827],\n",
    "# [-0.4365513204668886, -0.8177902046285348],\n",
    "# [1.309653961400665, -0.8177902046285348]])\n",
    "\n",
    "# vt 0 0\n",
    "# vt 0.87310264093377665 0.87310264093377654\n",
    "# vt 0.43655132046688805 -0.81779020462853524\n",
    "# vt -0.81779020462853447 0.43655132046688827\n",
    "\n",
    "pp_2 = np.array([[0, 0],\n",
    "[0.87310264093377665, 0.87310264093377654],\n",
    "[0.43655132046688805, -0.81779020462853524],\n",
    "[-0.81779020462853447, 0.43655132046688827]\n",
    "])\n",
    "\n",
    "pp = np.array([[-0.5, 0],\n",
    "[0.5, 0],\n",
    "[-0.7183242074230329, -0.7183242074230325],\n",
    "[-0.7183242074230323,  0.7183242074230326]\n",
    "])\n",
    "\n",
    "TT = list(np.array([pp[0], pp[1], pp[3]]))\n",
    "compute_gm_test(TT)"
   ]
  },
  {
   "cell_type": "code",
   "execution_count": 64,
   "metadata": {},
   "outputs": [
    {
     "name": "stdout",
     "output_type": "stream",
     "text": [
      "u01: [0.87310264 0.87310264]\n",
      "m: [-1.25434153  0.        ]\n",
      "u01_n: [0.707106781186548 0.707106781186547]\n",
      "u01_n_prep:  [-0.707106781186547, 0.707106781186548]\n",
      "np.dot(m, u01_n):  -0.886953398318850\n",
      "1.23475359615231\n",
      "ch - np.dot(m, u01_n)*c_e/norm2(u01):  [-1.07748631113455 1.07748631113455 -0.179581051855758 0.179581051855758 1]\n",
      "yy:  0.886953398318849\n"
     ]
    }
   ],
   "source": [
    "TT_2 = list(np.array([pp_2[0], pp_2[1], pp_2[3]]))\n",
    "gm = compute_gm_test(TT_2)"
   ]
  },
  {
   "cell_type": "code",
   "execution_count": 65,
   "metadata": {},
   "outputs": [
    {
     "data": {
      "text/latex": [
       "$\\displaystyle 0.0026498250425484$"
      ],
      "text/plain": [
       "0.00264982504254840"
      ]
     },
     "execution_count": 65,
     "metadata": {},
     "output_type": "execute_result"
    }
   ],
   "source": [
    "rdm = np.array([0.07265181092348216,  0.9869807651025245,  0.8949478612243169, -0.9467975711355811, -0.6520840786817188])\n",
    "gm.dot(rdm)"
   ]
  },
  {
   "cell_type": "code",
   "execution_count": 6,
   "metadata": {},
   "outputs": [
    {
     "data": {
      "text/plain": [
       "[-3/2, 3/2, -1/4, 1/4, 0]"
      ]
     },
     "execution_count": 6,
     "metadata": {},
     "output_type": "execute_result"
    }
   ],
   "source": [
    "# x^2\n",
    "pp = np.array([[0, 0 ],\n",
    "[1, 0],\n",
    "[0.3, 1],\n",
    "[0, -1]\n",
    "])\n",
    "\n",
    "pp_e_chart = np.array([[0.5, 0 ],\n",
    "[-0.5, 0], \n",
    "[0.2, -1],\n",
    "[0.5, 1]\n",
    "])\n",
    "\n",
    "TT = list(np.array([pp[1], pp[0], pp[2]]))\n",
    "TT_p = list(np.array([pp[0], pp[1], pp[2]]))\n",
    "\n",
    "TT_e = list(np.array([pp_e_chart[1], pp_e_chart[0], pp_e_chart[2]]))\n",
    "TT_p_e = list(np.array([pp_e_chart[0], pp_e_chart[1], pp_e_chart[2]]))\n",
    "\n",
    "gm_e = compute_gm_test(TT_e)\n",
    "gm_e_p = compute_gm_test(TT_p_e)\n",
    "\n",
    "gm_ = compute_gm_test(TT)\n",
    "gm_p = compute_gm_test(TT_p)\n",
    "\n",
    "r_dM_x =   np.array( [ 1.000000000000003, -3.234031308186142e-15,     -1.000000000000005,      1.000000000000005,    -0.5000000000000022])\n",
    "r_dM_x_prime = np.array([-3.234031308186142e-15,      1.000000000000003,      1.000000000000005,     -1.000000000000005,    -0.2000000000000027])\n",
    "\n",
    "r_dM_y = np.array([ -1.477810214497488e-15,  2.160231850389962e-15,  3.008410920660721e-15, -4.033905291097418e-15 ,    -1.000000000000006])\n",
    "r_dM_y_prime = np.array([ 2.160231850389962e-15, -1.477810214497488e-15, -4.033905291097418e-15,  3.008410920660721e-15,     1.000000000000008])\n",
    "\n",
    "r_dM_z =   np.array([0.994613543550971, -0.03052325321117394 ,  -1.029531058129769,    1.019579880513667 , -0.3988167817076487])\n",
    "r_dM_z_prime =np.array([ -0.03052325321117394,    0.994613543550971 ,   1.019579880513667,   -1.029531058129769,  -0.3191859052341521])\n",
    "\n",
    "print(\"using e chart uv:\")\n",
    "print(gm_e.dot(r_dM_x) + gm_e_p.dot(r_dM_x_prime))\n",
    "print(gm_e.dot(r_dM_y) + gm_e_p.dot(r_dM_y_prime))\n",
    "print(gm_e.dot(r_dM_z) + gm_e_p.dot(r_dM_z_prime))\n",
    "print(\"using global uv:\")\n",
    "print(gm_e.dot(r_dM_x) + gm_e_p.dot(r_dM_x_prime))\n",
    "print(gm_e.dot(r_dM_y) + gm_e_p.dot(r_dM_y_prime))\n",
    "print(gm_e.dot(r_dM_z) + gm_e_p.dot(r_dM_z_prime))\n"
   ]
  },
  {
   "cell_type": "code",
   "execution_count": null,
   "metadata": {},
   "outputs": [],
   "source": []
  },
  {
   "cell_type": "code",
   "execution_count": null,
   "metadata": {},
   "outputs": [],
   "source": []
  }
 ],
 "metadata": {
  "kernelspec": {
   "display_name": "base",
   "language": "python",
   "name": "python3"
  },
  "language_info": {
   "codemirror_mode": {
    "name": "ipython",
    "version": 3
   },
   "file_extension": ".py",
   "mimetype": "text/x-python",
   "name": "python",
   "nbconvert_exporter": "python",
   "pygments_lexer": "ipython3",
   "version": "3.11.5"
  }
 },
 "nbformat": 4,
 "nbformat_minor": 2
}
