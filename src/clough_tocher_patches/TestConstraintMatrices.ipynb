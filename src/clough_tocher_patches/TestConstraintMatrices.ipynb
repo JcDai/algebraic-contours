{
 "cells": [
  {
   "cell_type": "code",
   "execution_count": 1,
   "metadata": {},
   "outputs": [
    {
     "name": "stdout",
     "output_type": "stream",
     "text": [
      "checking midpoint constraint for general cubic (should be zero):  0\n"
     ]
    }
   ],
   "source": [
    "from Clough_Toucher_derivation import *\n",
    "import igl\n",
    "import meshio as mio\n",
    "import numpy as np\n",
    "import matplotlib.pyplot as plt\n",
    "from mpl_toolkits import mplot3d\n",
    "import subprocess\n",
    "import scipy\n",
    "import h5py\n",
    "from midpoint_constraint_validation import *"
   ]
  },
  {
   "cell_type": "code",
   "execution_count": 2,
   "metadata": {},
   "outputs": [],
   "source": [
    "def f0(x, y):\n",
    "    return 1\n",
    "\n",
    "def d0(x, y):\n",
    "    return np.array([0, 0])\n",
    "\n",
    "def f1(x, y):\n",
    "    return x\n",
    "\n",
    "def d1(x, y):\n",
    "    return np.array([1, 0])\n",
    "\n",
    "def f2(x, y):\n",
    "    return x ** 2\n",
    "\n",
    "def d2(x, y):\n",
    "    return np.array([2 * x, 0])\n",
    "\n",
    "def f3(x, y):\n",
    "    return x ** 3 + y ** 2\n",
    "\n",
    "def d3(x, y):\n",
    "    return np.array([3 * x * x, 2 * y])"
   ]
  },
  {
   "cell_type": "code",
   "execution_count": 3,
   "metadata": {},
   "outputs": [],
   "source": [
    "def build_boundary_data(_f, _d, _uv, _f_uv):\n",
    "    boundary_data = []\n",
    "\n",
    "    for fid in range(_f_uv.shape[0]):\n",
    "        fv = _f_uv[fid]\n",
    "        v0 = _uv[fv[0]]\n",
    "        v1 = _uv[fv[1]]\n",
    "        v2 = _uv[fv[2]]\n",
    "        m0 = (v0 + v1) / 2.0\n",
    "        m1 = (v1 + v2) / 2.0\n",
    "        m2 = (v2 + v0) / 2.0\n",
    "\n",
    "        e01 = v1 - v0\n",
    "        e12 = v2 - v1\n",
    "        e20 = v0 - v2\n",
    "\n",
    "        em0 = v2 - m0\n",
    "        em1 = v0 - m1\n",
    "        em2 = v1 - m2\n",
    "\n",
    "        f0 = _f(v0[0], v0[1])\n",
    "        f1 = _f(v1[0], v1[1])\n",
    "        f2 = _f(v2[0], v2[1])\n",
    "        # print (f0)\n",
    "\n",
    "        d0 = _d(v0[0], v0[1])\n",
    "        d1 = _d(v1[0], v1[1])\n",
    "        d2 = _d(v2[0], v2[1])\n",
    "        # print(d0)\n",
    "        \n",
    "        dm0 = _d(m0[0], m0[1])\n",
    "        dm1 = _d(m1[0], m1[1])\n",
    "        dm2 = _d(m2[0], m2[1])\n",
    "\n",
    "        d01 = d0 @ e01\n",
    "        d10 = d1 @ (-e01)\n",
    "        d12 = d1 @ e12\n",
    "        d21 = d2 @ (-e12)\n",
    "        d20 = d2 @ e20\n",
    "        d02 = d0 @ (-e20)\n",
    "\n",
    "        dm01 = dm0 @ em0\n",
    "        dm12 = dm1 @ em1\n",
    "        dm20 = dm2 @ em2\n",
    "\n",
    "        bd = [f0,f1,f2, d01, d10, d12, d21, d20, d02, dm01, dm12, dm20]\n",
    "        boundary_data.append(bd)\n",
    "\n",
    "    print(len(boundary_data))\n",
    "    return boundary_data"
   ]
  },
  {
   "cell_type": "code",
   "execution_count": 4,
   "metadata": {},
   "outputs": [],
   "source": [
    "def build_boundary_data_3d(_F, _dF, _uv, _f_uv, _v, _f):\n",
    "    boundary_data = []\n",
    "\n",
    "    for fid in range(_f_uv.shape[0]):\n",
    "        fv = _f[fid]\n",
    "        v0 = _v[fv[0]]\n",
    "        v1 = _v[fv[1]]\n",
    "        v2 = _v[fv[2]]\n",
    "        m0 = (v0 + v1) / 2.0\n",
    "        m1 = (v1 + v2) / 2.0\n",
    "        m2 = (v2 + v0) / 2.0\n",
    "\n",
    "        f0 = _F(v0[0], v0[1])\n",
    "        f1 = _F(v1[0], v1[1])\n",
    "        f2 = _F(v2[0], v2[1])\n",
    "        # print (f0)\n",
    "\n",
    "        d0 = _dF(v0[0], v0[1])\n",
    "        d1 = _dF(v1[0], v1[1])\n",
    "        d2 = _dF(v2[0], v2[1])\n",
    "        # print(d0)\n",
    "        \n",
    "        dm0 = _dF(m0[0], m0[1])\n",
    "        dm1 = _dF(m1[0], m1[1])\n",
    "        dm2 = _dF(m2[0], m2[1])\n",
    "\n",
    "        fv_uv = _f_uv[fid]\n",
    "        uv0 = _uv[fv_uv[0]]\n",
    "        uv1 = _uv[fv_uv[1]]\n",
    "        uv2 = _uv[fv_uv[2]]\n",
    "        m0_uv = (uv0 + uv1) / 2.0\n",
    "        m1_uv = (uv1 + uv2) / 2.0\n",
    "        m2_uv = (uv2 + uv0) / 2.0\n",
    "        \n",
    "        e01 = uv1 - uv0\n",
    "        e12 = uv2 - uv1\n",
    "        e20 = uv0 - uv2\n",
    "\n",
    "        em0 = uv2 - m0_uv\n",
    "        em1 = uv0 - m1_uv\n",
    "        em2 = uv1 - m2_uv\n",
    "\n",
    "        d01 = d0 @ e01\n",
    "        d10 = d1 @ (-e01)\n",
    "        d12 = d1 @ e12\n",
    "        d21 = d2 @ (-e12)\n",
    "        d20 = d2 @ e20\n",
    "        d02 = d0 @ (-e20)\n",
    "\n",
    "        dm01 = dm0 @ em0\n",
    "        dm12 = dm1 @ em1\n",
    "        dm20 = dm2 @ em2\n",
    "\n",
    "        bd = [f0,f1,f2, d01, d10, d12, d21, d20, d02, dm01, dm12, dm20]\n",
    "        boundary_data.append(bd)\n",
    "\n",
    "    print(len(boundary_data))\n",
    "    return boundary_data"
   ]
  },
  {
   "cell_type": "code",
   "execution_count": 5,
   "metadata": {},
   "outputs": [],
   "source": [
    "def generate_boundary_data(f, d, filename, uv, f_uv):\n",
    "    f1_bd = build_boundary_data(f, d, uv, f_uv)\n",
    "    with open(filename, \"w\") as file:\n",
    "        for line in f1_bd:\n",
    "            for value in line:\n",
    "                file.write(\"{} \".format(value))\n",
    "            file.write(\"\\n\")\n",
    "\n",
    "def generate_boundary_data_3d(f, d, filename, uv, f_uv, _v, _f):\n",
    "    f1_bd = build_boundary_data_3d(f, d, uv, f_uv, _v, _f)\n",
    "    with open(filename, \"w\") as file:\n",
    "        for line in f1_bd:\n",
    "            for value in line:\n",
    "                file.write(\"{} \".format(value))\n",
    "            file.write(\"\\n\")\n",
    "\n",
    "\n",
    "def check_constraint_matrice(ct_interp_file, interior_file, endpoint_file, midpoint_file, endpoint_elim_file):\n",
    "    ct_interpolants = []\n",
    "    with open(ct_interp_file, \"r\") as file:\n",
    "        for line in file:\n",
    "            value = float(line.split()[0])\n",
    "            ct_interpolants.append(value)\n",
    "    ct_interpolants = np.array(ct_interpolants)\n",
    "\n",
    "    interior_matix = np.loadtxt(interior_file) \n",
    "    edge_end_point_matrix = np.loadtxt(endpoint_file) \n",
    "    edge_mid_point_matrix = np.loadtxt(midpoint_file) \n",
    "    edge_end_point_elim_matrix = np.loadtxt(endpoint_elim_file) \n",
    "\n",
    "    r1 = interior_matix @ ct_interpolants\n",
    "    r2 = edge_end_point_matrix @ ct_interpolants\n",
    "    r3 = edge_mid_point_matrix @ ct_interpolants\n",
    "    r4 = edge_end_point_elim_matrix @ ct_interpolants\n",
    "\n",
    "    print(\"interior constraint max: \", np.max(np.abs(r1)))\n",
    "    print(\"interior constraint avg: \", np.average(np.abs(r1)))\n",
    "    print(\"edge endpoint constraint max: \", np.max(np.abs(r2)))\n",
    "    print(\"edge endpoint constraint avg: \", np.average(np.abs(r2)))\n",
    "    print(\"edge midpoint constraint max: \", np.max(np.abs(r3)))\n",
    "    print(\"edge midpoint constraint avg: \", np.average(np.abs(r3)))\n",
    "    print(\"edge endpoint eliminated constraint max: \", np.max(np.abs(r4)))\n",
    "    print(\"edge endpoint eliminated constraint avg: \", np.average(np.abs(r4)))\n",
    "\n",
    "def get_P_G2E_mul_nodes(p_g2e_file, ct_interp_file):\n",
    "    ct_interpolants = []\n",
    "    with open(ct_interp_file, \"r\") as file:\n",
    "        for line in file:\n",
    "            value = float(line.split()[0])\n",
    "            ct_interpolants.append(value)\n",
    "    ct_interpolants = np.array(ct_interpolants)\n",
    "\n",
    "    p_g2e = np.loadtxt(p_g2e_file)\n",
    "\n",
    "    values = p_g2e @ ct_interpolants\n",
    "\n",
    "    print(values)\n",
    "\n",
    "def plot_ct_interpolant(ct_interp_file, ct_uv_file, f):\n",
    "    ct_interpolants = []\n",
    "    with open(ct_interp_file, \"r\") as file:\n",
    "        for line in file:\n",
    "            value = float(line.split()[0])\n",
    "            ct_interpolants.append(value)\n",
    "    ct_interpolants = np.array(ct_interpolants)\n",
    "\n",
    "    ct_interpolants_uvs = []\n",
    "    with open(ct_uv_file, \"r\") as file:\n",
    "        for line in file:\n",
    "            s = line.split()\n",
    "            ct_interpolants_uvs.append([float(s[0]), float(s[1])])\n",
    "    ct_interpolants_uvs = np.array(ct_interpolants_uvs)\n",
    "    \n",
    "    # Create a grid of x and y values\n",
    "    X = ct_interpolants_uvs[:, 0]\n",
    "    Y = ct_interpolants_uvs[:, 1]\n",
    "\n",
    "    # get interpolants\n",
    "    Z = ct_interpolants\n",
    "\n",
    "    # compute real function values\n",
    "    Z_real = []\n",
    "    for i in range(X.shape[0]):\n",
    "        Z_real.append(f(X[i], Y[i]))\n",
    "    Z_real = np.array(Z_real)\n",
    "\n",
    "    print(\"Z - Z_real max:\", np.max(np.abs(Z-Z_real)))\n",
    "\n",
    "    fig = plt.figure()\n",
    "    ax = fig.add_subplot(111, projection='3d')\n",
    "\n",
    "    # Plot the values\n",
    "    ax.scatter(X, Y, Z, c = 'b', marker='o')\n",
    "    ax.set_xlabel('X-axis')\n",
    "    ax.set_ylabel('Y-axis')\n",
    "    ax.set_zlabel('Z-axis')\n",
    "\n",
    "    plt.show()"
   ]
  },
  {
   "cell_type": "code",
   "execution_count": 26,
   "metadata": {},
   "outputs": [],
   "source": [
    "build_path = '/Users/jiachengdai/Desktop/algebraic-contours/build/'\n",
    "\n",
    "# mesh_file = \"test_two_triangles.obj\"\n",
    "mesh_file = \"test_eight_triangles.obj\"\n",
    "# mesh_file = \"test_three_triangles.obj\"\n",
    "\n",
    "# mesh_file = \"parameterized_tet.obj\"\n",
    "# mesh_file = \"parameterized_icosphere.obj\"\n",
    "# mesh_file = \"parameterized_tet_prob.obj\"\n",
    "v, uv, _, f, f_uv, _ = igl.read_obj(build_path + mesh_file)"
   ]
  },
  {
   "cell_type": "code",
   "execution_count": 27,
   "metadata": {},
   "outputs": [
    {
     "name": "stdout",
     "output_type": "stream",
     "text": [
      "10\n",
      "#Cone: 0\n",
      "CHOLMOD warning: matrix not positive definite. file: /Users/jiachengdai/Desktop/algebraic-contours/build/_deps/suitesparse-src/CHOLMOD/Supernodal/t_cholmod_super_numeric.c line: 911\n",
      "#F: 10\n",
      "#E: 17\n",
      "#V: 8\n",
      "70 142\n",
      "70 142\n",
      "skip cnt: 8 v_cnt - cone_cnt: 8\n"
     ]
    },
    {
     "data": {
      "text/plain": [
       "CompletedProcess(args=['/Users/jiachengdai/Desktop/algebraic-contours/build/bin/generate_cubic_surface', '--input', '/Users/jiachengdai/Desktop/algebraic-contours/build/test_eight_triangles.obj', '-o', '/Users/jiachengdai/Desktop/algebraic-contours/build/f1', '--boundary-data', '/Users/jiachengdai/Desktop/algebraic-contours/build/f1_boundary_data.txt'], returncode=0)"
      ]
     },
     "execution_count": 27,
     "metadata": {},
     "output_type": "execute_result"
    }
   ],
   "source": [
    "# f1 d1\n",
    "boundary_data_file = 'f1_boundary_data.txt'\n",
    "output_name = \"f1\"\n",
    "\n",
    "generate_boundary_data(f1, d1, \"../../build/\" + boundary_data_file, uv, f_uv)\n",
    "# generate_boundary_data_3d(f1, d1, \"../../build/\" + boundary_data_file, uv, f_uv, v, f)\n",
    "# generate_boundary_data_3d(f0, d0, \"../../build/\" + boundary_data_file, uv, f_uv, v, f)\n",
    "\n",
    "build_path = '/Users/jiachengdai/Desktop/algebraic-contours/build/'\n",
    "command = build_path + 'bin/generate_cubic_surface --input ' + build_path + mesh_file + ' -o ' + build_path + output_name + ' --boundary-data ' + build_path + boundary_data_file\n",
    "subprocess.run(command.split(\" \"))"
   ]
  },
  {
   "cell_type": "code",
   "execution_count": 28,
   "metadata": {},
   "outputs": [
    {
     "data": {
      "text/plain": [
       "'/Users/jiachengdai/Desktop/algebraic-contours/build/bin/generate_cubic_surface --input /Users/jiachengdai/Desktop/algebraic-contours/build/test_eight_triangles.obj -o /Users/jiachengdai/Desktop/algebraic-contours/build/f1 --boundary-data /Users/jiachengdai/Desktop/algebraic-contours/build/f1_boundary_data.txt'"
      ]
     },
     "execution_count": 28,
     "metadata": {},
     "output_type": "execute_result"
    }
   ],
   "source": [
    "command"
   ]
  },
  {
   "cell_type": "code",
   "execution_count": 29,
   "metadata": {},
   "outputs": [
    {
     "name": "stdout",
     "output_type": "stream",
     "text": [
      "interior constraint max:  1.5543122344752192e-15\n",
      "interior constraint avg:  2.8102520310824275e-16\n",
      "edge endpoint constraint max:  2.842170943040401e-14\n",
      "edge endpoint constraint avg:  4.430007559043517e-15\n",
      "edge midpoint constraint max:  7.105427357601002e-14\n",
      "edge midpoint constraint avg:  1.0081804672147562e-14\n",
      "edge endpoint eliminated constraint max:  2.842170943040401e-14\n",
      "edge endpoint eliminated constraint avg:  4.218847493575595e-15\n",
      "Z - Z_real max: 4.444444445139695e-06\n"
     ]
    },
    {
     "data": {
      "image/png": "[encoded data removed]",
      "text/plain": [
       "<Figure size 640x480 with 1 Axes>"
      ]
     },
     "metadata": {},
     "output_type": "display_data"
    }
   ],
   "source": [
    "ct_interp_file = \"../../build/f1_function_values_from_lagrange_nodes.txt\"\n",
    "ct_uv_file = \"../../build/f1_function_values_from_lagrange_nodes_uvs.txt\"\n",
    "interior_file = '../../build/f1_interior_constraint_matrix.txt'\n",
    "endpoint_file = '../../build/f1_edge_endpoint_constraint_matrix.txt'\n",
    "midpoint_file = '../../build/f1_edge_midpoint_constraint_matrix.txt'\n",
    "endpoint_elim_file = '../../build/f1_edge_endpoint_constraint_matrix_eliminated.txt'\n",
    "check_constraint_matrice(ct_interp_file, interior_file, endpoint_file, midpoint_file, endpoint_elim_file)\n",
    "plot_ct_interpolant(ct_interp_file, ct_uv_file, f1)"
   ]
  },
  {
   "cell_type": "code",
   "execution_count": 30,
   "metadata": {},
   "outputs": [
    {
     "name": "stdout",
     "output_type": "stream",
     "text": [
      "10\n",
      "#Cone: 0\n",
      "CHOLMOD warning: matrix not positive definite. file: /Users/jiachengdai/Desktop/algebraic-contours/build/_deps/suitesparse-src/CHOLMOD/Supernodal/t_cholmod_super_numeric.c line: 911\n",
      "#F: 10\n",
      "#E: 17\n",
      "#V: 8\n",
      "70 142\n",
      "70 142\n",
      "skip cnt: 8 v_cnt - cone_cnt: 8\n"
     ]
    },
    {
     "data": {
      "text/plain": [
       "CompletedProcess(args=['/Users/jiachengdai/Desktop/algebraic-contours/build/bin/generate_cubic_surface', '--input', '/Users/jiachengdai/Desktop/algebraic-contours/build/test_eight_triangles.obj', '-o', '/Users/jiachengdai/Desktop/algebraic-contours/build/f2', '--boundary-data', '/Users/jiachengdai/Desktop/algebraic-contours/build/f2_boundary_data.txt'], returncode=0)"
      ]
     },
     "execution_count": 30,
     "metadata": {},
     "output_type": "execute_result"
    }
   ],
   "source": [
    "# f2\n",
    "boundary_data_file = 'f2_boundary_data.txt'\n",
    "output_name = \"f2\"\n",
    "\n",
    "generate_boundary_data(f2, d2, \"../../build/\" + boundary_data_file, uv, f_uv)\n",
    "build_path = '/Users/jiachengdai/Desktop/algebraic-contours/build/'\n",
    "command = build_path + 'bin/generate_cubic_surface --input ' + build_path + mesh_file + ' -o ' + build_path + output_name + ' --boundary-data ' + build_path + boundary_data_file\n",
    "subprocess.run(command.split(\" \"))"
   ]
  },
  {
   "cell_type": "code",
   "execution_count": 31,
   "metadata": {},
   "outputs": [
    {
     "name": "stdout",
     "output_type": "stream",
     "text": [
      "interior constraint max:  2.6645352591003757e-15\n",
      "interior constraint avg:  3.487785457271083e-16\n",
      "edge endpoint constraint max:  5.684341886080802e-14\n",
      "edge endpoint constraint avg:  9.211585742551666e-15\n",
      "edge midpoint constraint max:  7.105427357601002e-14\n",
      "edge midpoint constraint avg:  9.431181326098849e-15\n",
      "edge endpoint eliminated constraint max:  5.684341886080802e-14\n",
      "edge endpoint eliminated constraint avg:  6.751010007432202e-15\n"
     ]
    }
   ],
   "source": [
    "ct_interp_file = \"../../build/f2_function_values_from_lagrange_nodes.txt\"\n",
    "ct_uv_file = \"../../build/f2_function_values_from_lagrange_nodes_uvs.txt\"\n",
    "interior_file = '../../build/f2_interior_constraint_matrix.txt'\n",
    "endpoint_file = '../../build/f2_edge_endpoint_constraint_matrix.txt'\n",
    "midpoint_file = '../../build/f2_edge_midpoint_constraint_matrix.txt'\n",
    "endpoint_elim_file = '../../build/f2_edge_endpoint_constraint_matrix_eliminated.txt'\n",
    "check_constraint_matrice(ct_interp_file, interior_file, endpoint_file, midpoint_file, endpoint_elim_file)\n",
    "# plot_ct_interpolant(ct_interp_file, ct_uv_file, f2)"
   ]
  },
  {
   "cell_type": "code",
   "execution_count": 32,
   "metadata": {},
   "outputs": [
    {
     "name": "stdout",
     "output_type": "stream",
     "text": [
      "10\n",
      "#Cone: 0\n",
      "CHOLMOD warning: matrix not positive definite. file: /Users/jiachengdai/Desktop/algebraic-contours/build/_deps/suitesparse-src/CHOLMOD/Supernodal/t_cholmod_super_numeric.c line: 911\n",
      "#F: 10\n",
      "#E: 17\n",
      "#V: 8\n",
      "70 142\n",
      "70 142\n",
      "skip cnt: 8 v_cnt - cone_cnt: 8\n"
     ]
    },
    {
     "data": {
      "text/plain": [
       "CompletedProcess(args=['/Users/jiachengdai/Desktop/algebraic-contours/build/bin/generate_cubic_surface', '--input', '/Users/jiachengdai/Desktop/algebraic-contours/build/test_eight_triangles.obj', '-o', '/Users/jiachengdai/Desktop/algebraic-contours/build/f3', '--boundary-data', '/Users/jiachengdai/Desktop/algebraic-contours/build/f3_boundary_data.txt'], returncode=0)"
      ]
     },
     "execution_count": 32,
     "metadata": {},
     "output_type": "execute_result"
    }
   ],
   "source": [
    "# f3\n",
    "boundary_data_file = 'f3_boundary_data.txt'\n",
    "output_name = \"f3\"\n",
    "\n",
    "generate_boundary_data(f3, d3, \"../../build/\" + boundary_data_file, uv, f_uv)\n",
    "build_path = '/Users/jiachengdai/Desktop/algebraic-contours/build/'\n",
    "command = build_path + 'bin/generate_cubic_surface --input ' + build_path + mesh_file + ' -o ' + build_path + output_name + ' --boundary-data ' + build_path + boundary_data_file\n",
    "subprocess.run(command.split(\" \"))"
   ]
  },
  {
   "cell_type": "code",
   "execution_count": 33,
   "metadata": {},
   "outputs": [
    {
     "data": {
      "text/plain": [
       "'/Users/jiachengdai/Desktop/algebraic-contours/build/bin/generate_cubic_surface --input /Users/jiachengdai/Desktop/algebraic-contours/build/test_eight_triangles.obj -o /Users/jiachengdai/Desktop/algebraic-contours/build/f3 --boundary-data /Users/jiachengdai/Desktop/algebraic-contours/build/f3_boundary_data.txt'"
      ]
     },
     "execution_count": 33,
     "metadata": {},
     "output_type": "execute_result"
    }
   ],
   "source": [
    "command"
   ]
  },
  {
   "cell_type": "code",
   "execution_count": 34,
   "metadata": {},
   "outputs": [
    {
     "name": "stdout",
     "output_type": "stream",
     "text": [
      "interior constraint max:  5.440092820663267e-15\n",
      "interior constraint avg:  8.145270172629385e-16\n",
      "edge endpoint constraint max:  1.1368683772161603e-13\n",
      "edge endpoint constraint avg:  1.6189663988504487e-14\n",
      "edge midpoint constraint max:  1.8474111129762605e-13\n",
      "edge midpoint constraint avg:  2.3543258845727585e-14\n",
      "edge endpoint eliminated constraint max:  1.1368683772161603e-13\n",
      "edge endpoint eliminated constraint avg:  1.4027240907283227e-14\n"
     ]
    }
   ],
   "source": [
    "ct_interp_file = \"../../build/f3_function_values_from_lagrange_nodes.txt\"\n",
    "ct_uv_file = \"../../build/f3_function_values_from_lagrange_nodes_uvs.txt\"\n",
    "interior_file = '../../build/f3_interior_constraint_matrix.txt'\n",
    "endpoint_file = '../../build/f3_edge_endpoint_constraint_matrix.txt'\n",
    "midpoint_file = '../../build/f3_edge_midpoint_constraint_matrix.txt'\n",
    "endpoint_elim_file = '../../build/f3_edge_endpoint_constraint_matrix_eliminated.txt'\n",
    "check_constraint_matrice(ct_interp_file, interior_file, endpoint_file, midpoint_file, endpoint_elim_file)\n",
    "# plot_ct_interpolant(ct_interp_file, ct_uv_file, f3)"
   ]
  },
  {
   "cell_type": "code",
   "execution_count": null,
   "metadata": {},
   "outputs": [],
   "source": []
  },
  {
   "cell_type": "code",
   "execution_count": null,
   "metadata": {},
   "outputs": [],
   "source": []
  },
  {
   "cell_type": "code",
   "execution_count": null,
   "metadata": {},
   "outputs": [],
   "source": []
  },
  {
   "cell_type": "code",
   "execution_count": 35,
   "metadata": {},
   "outputs": [
    {
     "name": "stdout",
     "output_type": "stream",
     "text": [
      "\n",
      "interior constraint max:  1.2437651242258596e-08\n",
      "interior constraint avg:  1.7670096222861742e-09\n",
      "edge endpoint constraint max:  4.814427279481448e-07\n",
      "edge endpoint constraint avg:  1.596111247071282e-07\n",
      "edge midpoint constraint max:  1.2202906751763446e-06\n",
      "edge midpoint constraint avg:  2.0372468011018671e-07\n",
      "[[-4.03009643e-13 -5.77780934e-07  5.77781404e-07]\n",
      " [ 8.18714264e-09 -2.58335052e-08  2.73438317e-10]\n",
      " [-8.52467263e-08  4.19793015e-07 -1.53654517e-07]\n",
      " [ 2.57790970e-07 -5.45282040e-08 -1.15062469e-07]\n",
      " [-4.38800260e-10 -4.22815300e-08  9.67102562e-09]\n",
      " [-1.55006199e-08  1.22029068e-06  1.02928862e-07]]\n"
     ]
    }
   ],
   "source": [
    "# test on tet mesh\n",
    "\n",
    "interior_matix = np.loadtxt('../../build/tet_interior_constraint_matrix.txt') \n",
    "edge_end_point_matrix = np.loadtxt('../../build/tet_edge_endpoint_constraint_matrix.txt') \n",
    "edge_mid_point_matrix = np.loadtxt('../../build/tet_edge_midpoint_constraint_matrix.txt')\n",
    "\n",
    "tet_mesh = mio.read(\"../../build/tet_from_lagrange_nodes.msh\")\n",
    "tet_points = tet_mesh.points\n",
    "\n",
    "\n",
    "# interior_matix = np.loadtxt('../../build/tet_prob_interior_constraint_matrix.txt') \n",
    "# edge_end_point_matrix = np.loadtxt('../../build/tet_prob_edge_endpoint_constraint_matrix.txt') \n",
    "# edge_mid_point_matrix = np.loadtxt('../../build/tet_prob_edge_midpoint_constraint_matrix.txt')\n",
    "\n",
    "# tet_mesh = mio.read(\"../../build/tet_prob_from_lagrange_nodes.msh\")\n",
    "# tet_points = tet_mesh.points\n",
    "\n",
    "r1 = interior_matix @ tet_points\n",
    "r2 = edge_end_point_matrix @ tet_points\n",
    "r3 = edge_mid_point_matrix @ tet_points\n",
    "\n",
    "print(\"interior constraint max: \", np.max(np.abs(r1)))\n",
    "print(\"interior constraint avg: \", np.average(np.abs(r1)))\n",
    "print(\"edge endpoint constraint max: \", np.max(np.abs(r2)))\n",
    "print(\"edge endpoint constraint avg: \", np.average(np.abs(r2)))\n",
    "print(\"edge midpoint constraint max: \", np.max(np.abs(r3)))\n",
    "print(\"edge midpoint constraint avg: \", np.average(np.abs(r3)))\n",
    "\n",
    "print(r3)"
   ]
  },
  {
   "cell_type": "code",
   "execution_count": 7,
   "metadata": {},
   "outputs": [
    {
     "name": "stdout",
     "output_type": "stream",
     "text": [
      "\n",
      "\n",
      "\n",
      "interior constraint max:  6.661338147750939e-16\n",
      "interior constraint avg:  1.1946609030891232e-16\n",
      "edge endpoint constraint max:  1.0658141036401503e-14\n",
      "edge endpoint constraint avg:  1.4325659302118325e-15\n",
      "edge midpoint constraint max:  2.3092638912203256e-14\n",
      "edge midpoint constraint avg:  3.046120213706649e-15\n",
      "[[-8.88178420e-16  1.33226763e-15  4.44089210e-16]\n",
      " [-8.88178420e-16  2.66453526e-15  2.22044605e-16]\n",
      " [ 0.00000000e+00 -3.55271368e-15  1.11022302e-15]\n",
      " ...\n",
      " [ 8.88178420e-16  1.11022302e-15 -8.88178420e-16]\n",
      " [-4.44089210e-16  4.44089210e-16 -8.88178420e-16]\n",
      " [ 2.66453526e-15  1.33226763e-15 -8.88178420e-16]]\n"
     ]
    }
   ],
   "source": [
    "# test on tet mesh\n",
    "\n",
    "interior_matix = scipy.io.mmread('../../build/icosphere_interior_constraint_matrix.txt') \n",
    "edge_end_point_matrix = scipy.io.mmread('../../build/icosphere_edge_endpoint_constraint_matrix.txt') \n",
    "edge_mid_point_matrix = scipy.io.mmread('../../build/icosphere_edge_midpoint_constraint_matrix.txt')\n",
    "\n",
    "ico_sphere_mesh = mio.read(\"../../build/icosphere_from_lagrange_nodes.msh\")\n",
    "ico_points = ico_sphere_mesh.points\n",
    "\n",
    "local2global = []\n",
    "idx = 0\n",
    "# with open(\"../../build/icosphere_surface_tri_to_tet_v_map.txt\", \"r\") as file:\n",
    "#     for line in file:\n",
    "#         local2global.append(int(line))\n",
    "#         idx += 1\n",
    "\n",
    "with open(\"../../build/icosphere_surface_correct_tri_to_tet_v_map.txt\", \"r\") as file:\n",
    "    for line in file:\n",
    "        local2global.append(int(line))\n",
    "        idx += 1\n",
    "\n",
    "tetmesh = mio.read(\"../../build/test_curved_high_order_tetmesh.msh\")\n",
    "surface_mesh = mio.read(\"../../build/icosphere_from_lagrange_nodes.msh\")\n",
    "\n",
    "s_points = surface_mesh.points\n",
    "t_points = tetmesh.points\n",
    "\n",
    "t_s_points = t_points[local2global]\n",
    "\n",
    "t_s_points_2 = []\n",
    "for i in local2global:\n",
    "    t_s_points_2.append(t_points[i])\n",
    "t_s_points_2 = np.array(t_s_points_2)\n",
    "\n",
    "# r1 = interior_matix @ ico_points\n",
    "# r2 = edge_end_point_matrix @ ico_points\n",
    "# r3 = edge_mid_point_matrix @ ico_points\n",
    "\n",
    "r1 = interior_matix @ ico_points\n",
    "r2 = edge_end_point_matrix @ ico_points\n",
    "r3 = edge_mid_point_matrix @ ico_points\n",
    "\n",
    "print(\"interior constraint max: \", np.max(np.abs(r1)))\n",
    "print(\"interior constraint avg: \", np.average(np.abs(r1)))\n",
    "print(\"edge endpoint constraint max: \", np.max(np.abs(r2)))\n",
    "print(\"edge endpoint constraint avg: \", np.average(np.abs(r2)))\n",
    "print(\"edge midpoint constraint max: \", np.max(np.abs(r3)))\n",
    "print(\"edge midpoint constraint avg: \", np.average(np.abs(r3)))\n",
    "\n",
    "print(r2)"
   ]
  },
  {
   "cell_type": "code",
   "execution_count": 9,
   "metadata": {},
   "outputs": [
    {
     "data": {
      "text/plain": [
       "array([[-0.64260911,  0.6650377 ,  0.15773209],\n",
       "       [-0.7786502 ,  0.470781  ,  0.0203965 ],\n",
       "       [-0.62738648,  0.64040258, -0.18857649],\n",
       "       ...,\n",
       "       [-0.67794155, -0.41380598, -0.54916393],\n",
       "       [-0.71693529, -0.32936229, -0.53387218],\n",
       "       [-0.76601034, -0.22127783, -0.52258452]])"
      ]
     },
     "execution_count": 9,
     "metadata": {},
     "output_type": "execute_result"
    }
   ],
   "source": [
    "ico_points"
   ]
  },
  {
   "cell_type": "code",
   "execution_count": 42,
   "metadata": {},
   "outputs": [
    {
     "name": "stdout",
     "output_type": "stream",
     "text": [
      "\n",
      "7.216449660063518e-16\n",
      "1.887379141862766e-14\n",
      "2.6645352591003757e-14\n",
      "384 268\n",
      "326 268\n",
      "192 192\n"
     ]
    }
   ],
   "source": [
    "# interior_matix = np.loadtxt('../../build/tet_interior_constraint_matrix.txt') \n",
    "# edge_end_point_matrix = np.loadtxt('../../build/tet_edge_endpoint_constraint_matrix.txt') \n",
    "# edge_mid_point_matrix = np.loadtxt('../../build/tet_edge_midpoint_constraint_matrix.txt')\n",
    "# edge_end_point_matrix_elim = np.loadtxt('../../build/tet_edge_endpoint_constraint_matrix_eliminated.txt') \n",
    "\n",
    "# t_mesh = mio.read(\"../../build/tet_from_lagrange_nodes.msh\")\n",
    "# t_points = t_mesh.points\n",
    "\n",
    "interior_matix = np.loadtxt('../../build/icosphere_interior_constraint_matrix.txt') \n",
    "edge_end_point_matrix = np.loadtxt('../../build/icosphere_edge_endpoint_constraint_matrix.txt') \n",
    "edge_mid_point_matrix = np.loadtxt('../../build/icosphere_edge_midpoint_constraint_matrix.txt')\n",
    "edge_end_point_matrix_elim = np.loadtxt('../../build/icosphere_edge_endpoint_constraint_matrix_eliminated.txt') \n",
    "\n",
    "t_mesh = mio.read(\"../../build/icosphere_from_lagrange_nodes.msh\")\n",
    "t_points = t_mesh.points\n",
    "\n",
    "# big_matrix = np.concatenate((interior_matix,edge_end_point_matrix_elim, edge_mid_point_matrix))\n",
    "\n",
    "# b = - (big_matrix @ t_points)\n",
    "\n",
    "# r, _, _, _ = np.linalg.lstsq(big_matrix, b, rcond=None)\n",
    "# # r, res, rang, s = np.linalg.lstsq(cM.T, cv.flatten(), rcond=None)\n",
    "\n",
    "# t_new = t_points + r\n",
    "\n",
    "# print(np.linalg.norm(big_matrix @ t_new))\n",
    "\n",
    "# mesh_new = mio.Mesh(t_new, t_mesh.cells)\n",
    "# mesh_new.write(\"tet_lsq.msh\", file_format='gmsh')\n",
    "\n",
    "# int_rank = np.linalg.matrix_rank(interior_matix)\n",
    "end_rank = np.linalg.matrix_rank(edge_end_point_matrix)\n",
    "end_rank_elim = np.linalg.matrix_rank(edge_end_point_matrix_elim)\n",
    "mid_rank = np.linalg.matrix_rank(edge_mid_point_matrix)\n",
    "\n",
    "\n",
    "print(np.max(np.abs(interior_matix @ t_points)))\n",
    "print(np.max(np.abs(edge_end_point_matrix @ t_points)))\n",
    "print(np.max(np.abs(edge_mid_point_matrix @ t_points)))\n",
    "# # print(edge_mid_point_matrix @ t_points)\n",
    "\n",
    "# print(interior_matix.shape[0], int_rank)\n",
    "print(edge_end_point_matrix.shape[0], end_rank)\n",
    "print(edge_end_point_matrix_elim.shape[0], end_rank_elim)\n",
    "print(edge_mid_point_matrix.shape[0], mid_rank)\n",
    "\n",
    "# end_res = edge_end_point_matrix @ t_points\n",
    "# for i in range((end_res).shape[0]//2):\n",
    "#     print(i, \": \", end_res[2*i], end_res[2*i+1])\n",
    "    \n",
    "# mid_res = edge_mid_point_matrix @ t_points\n",
    "# for i in range((mid_res).shape[0]):\n",
    "#     print(i, \": \", mid_res[i])"
   ]
  },
  {
   "cell_type": "code",
   "execution_count": 39,
   "metadata": {},
   "outputs": [
    {
     "name": "stdout",
     "output_type": "stream",
     "text": [
      "\n"
     ]
    }
   ],
   "source": [
    "# write matrix\n",
    "big_mesh = np.concatenate((interior_matix, edge_end_point_matrix_elim, edge_mid_point_matrix))\n",
    "\n",
    "local2global = np.loadtxt(\"../../build/icosphere_surface_correct_tri_to_tet_v_map.txt\").astype(np.int32)\n",
    "A = big_mesh\n",
    "m = mio.read(\"../../build/test_linear_high_order_tetmesh.msh\")\n",
    "v = m.points\n",
    "b = -(A @ v[local2global, :])\n",
    "\n",
    "# print(A.shape)\n",
    "# print(local2global.shape)\n",
    "# print(b.shape)\n",
    "\n",
    "with h5py.File(\"3dc_good.hdf5\", 'w') as f:\n",
    "    f.create_dataset(\"local2global\", data=local2global.astype(np.int32))\n",
    "    f.create_dataset(\"A\", data=A)\n",
    "    f.create_dataset(\"b\", data=b)"
   ]
  },
  {
   "cell_type": "code",
   "execution_count": 95,
   "metadata": {},
   "outputs": [],
   "source": [
    "miss_match_cnt = 0\n",
    "for i in range((s_points - t_s_points_2).shape[0]):\n",
    "    if abs((s_points - t_s_points_2)[i][0]) > 1e-10:\n",
    "        # print((s_points - t_s_points_2)[i])\n",
    "        miss_match_cnt += 1"
   ]
  },
  {
   "cell_type": "code",
   "execution_count": 66,
   "metadata": {},
   "outputs": [],
   "source": [
    "interior_matix = np.loadtxt('../../build/icosphere_interior_constraint_matrix.txt') \n",
    "edge_end_point_matrix = np.loadtxt('../../build/icosphere_edge_endpoint_constraint_matrix.txt') \n",
    "edge_mid_point_matrix = np.loadtxt('../../build/icosphere_edge_midpoint_constraint_matrix.txt')\n",
    "edge_end_point_matrix_elim = np.loadtxt('../../build/icosphere_edge_endpoint_constraint_matrix_eliminated.txt') \n",
    "\n",
    "big_mesh = np.concatenate((interior_matix, edge_end_point_matrix_elim, edge_mid_point_matrix))"
   ]
  },
  {
   "cell_type": "code",
   "execution_count": 77,
   "metadata": {},
   "outputs": [],
   "source": [
    "q, r  = scipy.linalg.qr(big_mesh.T)"
   ]
  },
  {
   "cell_type": "code",
   "execution_count": 78,
   "metadata": {},
   "outputs": [
    {
     "data": {
      "text/plain": [
       "(1730, 1414)"
      ]
     },
     "execution_count": 78,
     "metadata": {},
     "output_type": "execute_result"
    }
   ],
   "source": [
    "r.shape"
   ]
  },
  {
   "cell_type": "code",
   "execution_count": 81,
   "metadata": {},
   "outputs": [
    {
     "data": {
      "text/plain": [
       "25.65571072893227"
      ]
     },
     "execution_count": 81,
     "metadata": {},
     "output_type": "execute_result"
    }
   ],
   "source": [
    "np.sum(r[1413])"
   ]
  },
  {
   "cell_type": "code",
   "execution_count": 70,
   "metadata": {},
   "outputs": [
    {
     "data": {
      "text/plain": [
       "array([ 8.21565038e-15, -7.10542736e-15,  1.91513472e-15, ...,\n",
       "       -6.43929354e-15, -1.50435220e-14, -5.44009282e-15])"
      ]
     },
     "execution_count": 70,
     "metadata": {},
     "output_type": "execute_result"
    }
   ],
   "source": [
    "np.sum(r, axis=1)"
   ]
  },
  {
   "cell_type": "code",
   "execution_count": 102,
   "metadata": {},
   "outputs": [],
   "source": [
    "q_rank = np.linalg.matrix_rank(q)\n",
    "r_rank = np.linalg.matrix_rank(r)"
   ]
  },
  {
   "cell_type": "code",
   "execution_count": 109,
   "metadata": {},
   "outputs": [],
   "source": [
    "A_rank = np.linalg.matrix_rank(big_mesh)"
   ]
  },
  {
   "cell_type": "code",
   "execution_count": 111,
   "metadata": {},
   "outputs": [
    {
     "name": "stdout",
     "output_type": "stream",
     "text": [
      "\n"
     ]
    }
   ],
   "source": [
    "ico_sphere_mesh = mio.read(\"../../build/icosphere_from_lagrange_nodes.msh\")\n",
    "ico_points = ico_sphere_mesh.points"
   ]
  },
  {
   "cell_type": "code",
   "execution_count": 114,
   "metadata": {},
   "outputs": [
    {
     "name": "stdout",
     "output_type": "stream",
     "text": [
      "2.553134779981203e-09\n",
      "1.140895445855157\n",
      "0.20010132890498866\n",
      "1.140895445855157\n"
     ]
    }
   ],
   "source": [
    "print(np.max(np.abs(interior_matix @ ico_points)))\n",
    "print(np.max(np.abs(edge_end_point_matrix_elim @ ico_points)))\n",
    "# print(edge_mid_point_matrix)\n",
    "print(np.max(np.abs(edge_mid_point_matrix @ ico_points)))\n",
    "\n",
    "print(np.max(np.abs(big_mesh @ ico_points)))"
   ]
  },
  {
   "cell_type": "code",
   "execution_count": null,
   "metadata": {},
   "outputs": [],
   "source": [
    "with np.printoptions(threshold=np.inf):\n",
    "    print(np.linalg.norm(big_mesh, axis=0))"
   ]
  },
  {
   "cell_type": "code",
   "execution_count": null,
   "metadata": {},
   "outputs": [
    {
     "name": "stdout",
     "output_type": "stream",
     "text": [
      "(896, 1730)\n",
      "(384, 1730)\n",
      "(326, 1730)\n",
      "(192, 1730)\n",
      "(1414, 1730)\n"
     ]
    }
   ],
   "source": [
    "print(interior_matix.shape)\n",
    "print(edge_end_point_matrix.shape)\n",
    "print(edge_end_point_matrix_elim.shape)\n",
    "print(edge_mid_point_matrix.shape)\n",
    "print(big_mesh.shape)"
   ]
  },
  {
   "cell_type": "code",
   "execution_count": null,
   "metadata": {},
   "outputs": [
    {
     "name": "stdout",
     "output_type": "stream",
     "text": [
      "\n",
      "(1414, 1730)\n",
      "(1730,)\n",
      "(1414, 3)\n"
     ]
    }
   ],
   "source": [
    "import h5py\n",
    "\n",
    "local2global = np.loadtxt(\"../../build/icosphere_surface_correct_tri_to_tet_v_map.txt\").astype(np.int32)\n",
    "A = big_mesh\n",
    "m = mio.read(\"../../build/test_linear_high_order_tetmesh.msh\")\n",
    "v = m.points\n",
    "b = -(A @ v[local2global, :])\n",
    "\n",
    "print(A.shape)\n",
    "print(local2global.shape)\n",
    "print(b.shape)\n",
    "\n",
    "with h5py.File(\"3dc__aaaaa.hdf5\", 'w') as f:\n",
    "    f.create_dataset(\"local2global\", data=local2global.astype(np.int32))\n",
    "    f.create_dataset(\"A\", data=A)\n",
    "    f.create_dataset(\"b\", data=b)"
   ]
  },
  {
   "cell_type": "code",
   "execution_count": null,
   "metadata": {},
   "outputs": [
    {
     "name": "stdout",
     "output_type": "stream",
     "text": [
      "[0.         1.         0.         0.33333333 0.66666667 0.66666667\n",
      " 0.33333333 0.         0.         0.44444444 0.44444444 0.11111111\n",
      " 0.         0.         0.         0.         0.         0.\n",
      " 0.         0.         0.         0.         0.         0.\n",
      " 0.         1.         0.         0.33333333 0.66666667 0.66666667\n",
      " 0.33333333 0.         0.         0.44444444 0.44444444 0.11111111\n",
      " 0.         0.         0.         0.         0.         0.\n",
      " 0.         0.         0.         0.         0.         0.\n",
      " 1.         0.         0.         0.66666667 0.33333333 0.\n",
      " 0.         0.33333333 0.66666667 0.44444444 0.11111111 0.44444444\n",
      " 0.         0.         0.         0.         0.         0.\n",
      " 0.         0.         0.         0.         0.         0.\n",
      " 1.         0.         0.         0.66666667 0.33333333 0.\n",
      " 0.         0.33333333 0.66666667 0.44444444 0.11111111 0.44444444\n",
      " 0.         0.         0.         0.         0.         0.\n",
      " 0.         0.         0.         0.         0.         0.\n",
      " 1.         0.         0.         0.66666667 0.33333333 0.\n",
      " 0.         0.33333333 0.66666667 0.44444444 0.11111111 0.44444444\n",
      " 0.         1.         0.         0.33333333 0.66666667 0.66666667\n",
      " 0.33333333 0.         0.         0.44444444 0.44444444 0.11111111]\n"
     ]
    }
   ],
   "source": [
    "get_P_G2E_mul_nodes(\"../../build/P_G2E.txt\", \"../../build/f1_function_values_from_lagrange_nodes.txt\")"
   ]
  },
  {
   "cell_type": "code",
   "execution_count": 2,
   "metadata": {},
   "outputs": [
    {
     "name": "stdout",
     "output_type": "stream",
     "text": [
      "checking midpoint constraint for general cubic (should be zero):  0\n"
     ]
    }
   ],
   "source": [
    "from midpoint_constraint_validation import *"
   ]
  },
  {
   "cell_type": "code",
   "execution_count": null,
   "metadata": {},
   "outputs": [],
   "source": [
    "TT = list(np.array([[0,0], [0,3], [-1,0]]))\n",
    "TT_p = list(np.array([[0,3], [0,0], [1,0]]))\n",
    "\n",
    "g_m = compute_gm(T)\n",
    "g_m_prime = compute_gm(Tp)\n"
   ]
  },
  {
   "cell_type": "code",
   "execution_count": null,
   "metadata": {},
   "outputs": [],
   "source": [
    "g_m_0 = compute_gm(TT)\n",
    "g_m_1 = compute_gm(TT_p)"
   ]
  },
  {
   "cell_type": "code",
   "execution_count": 9,
   "metadata": {},
   "outputs": [],
   "source": [
    "c_e = generate_ce(polys_C1_f)\n",
    "c_e = npa(c_e) \n",
    "ch = npa([0,0,0,0,1])\n",
    "\n",
    "def compute_gm_test(T):\n",
    "    u01 = T[1]-T[0] \n",
    "    u10 = T[0]-T[1]\n",
    "    # print(\"u01:\", u01)\n",
    "    \n",
    "    mpt = (T[0]+T[1])/2 \n",
    "    m   =  T[2]-mpt\n",
    "    # print(\"m:\", m)\n",
    "    u01_n = u01/norm2(u01); u10_n = u10/norm2(u10); \n",
    "    # print(\"u01_n:\", u01_n)\n",
    "    # print(\"u01_n_prep: \", perp(u01_n))\n",
    "    gm =  (ch - np.dot(m, u01_n)*c_e/norm2(u01))/np.dot(m, perp(u01_n));\n",
    "    # print(\"np.dot(m, u01_n): \", np.dot(m, u01_n))\n",
    "    # print(norm2(u01))\n",
    "    # print(\"ch - np.dot(m, u01_n)*c_e/norm2(u01): \", ch - np.dot(m, u01_n)*c_e/norm2(u01))\n",
    "    # print(\"yy: \", np.dot(m, perp(u01_n)))\n",
    "    return gm"
   ]
  },
  {
   "cell_type": "code",
   "execution_count": 63,
   "metadata": {},
   "outputs": [
    {
     "name": "stdout",
     "output_type": "stream",
     "text": [
      "u01: [1. 0.]\n",
      "m: [-0.71832421  0.71832421]\n",
      "u01_n: [1.00000000000000 0]\n",
      "u01_n_prep:  [0, 1.00000000000000]\n",
      "np.dot(m, u01_n):  -0.718324207423032\n",
      "1.00000000000000\n",
      "ch - np.dot(m, u01_n)*c_e/norm2(u01):  [-1.07748631113455 1.07748631113455 -0.179581051855758 0.179581051855758 1]\n",
      "yy:  0.718324207423033\n"
     ]
    },
    {
     "data": {
      "text/plain": [
       "array([-1.50000000000000, 1.50000000000000, -0.250000000000000,\n",
       "       0.250000000000000, 1.39212905491167], dtype=object)"
      ]
     },
     "execution_count": 63,
     "metadata": {},
     "output_type": "execute_result"
    }
   ],
   "source": [
    "# pp = np.array([[0, 0],\n",
    "# [0.87310264093377665, 0.87310264093377654],\n",
    "# [0.43655132046688805, -0.81779020462853524],\n",
    "# [-0.81779020462853447, 0.43655132046688827],\n",
    "# [-0.4365513204668886, -0.8177902046285348],\n",
    "# [1.309653961400665, -0.8177902046285348]])\n",
    "\n",
    "# vt 0 0\n",
    "# vt 0.87310264093377665 0.87310264093377654\n",
    "# vt 0.43655132046688805 -0.81779020462853524\n",
    "# vt -0.81779020462853447 0.43655132046688827\n",
    "\n",
    "pp_2 = np.array([[0, 0],\n",
    "[0.87310264093377665, 0.87310264093377654],\n",
    "[0.43655132046688805, -0.81779020462853524],\n",
    "[-0.81779020462853447, 0.43655132046688827]\n",
    "])\n",
    "\n",
    "pp = np.array([[-0.5, 0],\n",
    "[0.5, 0],\n",
    "[-0.7183242074230329, -0.7183242074230325],\n",
    "[-0.7183242074230323,  0.7183242074230326]\n",
    "])\n",
    "\n",
    "TT = list(np.array([pp[0], pp[1], pp[3]]))\n",
    "compute_gm_test(TT)"
   ]
  },
  {
   "cell_type": "code",
   "execution_count": 64,
   "metadata": {},
   "outputs": [
    {
     "name": "stdout",
     "output_type": "stream",
     "text": [
      "u01: [0.87310264 0.87310264]\n",
      "m: [-1.25434153  0.        ]\n",
      "u01_n: [0.707106781186548 0.707106781186547]\n",
      "u01_n_prep:  [-0.707106781186547, 0.707106781186548]\n",
      "np.dot(m, u01_n):  -0.886953398318850\n",
      "1.23475359615231\n",
      "ch - np.dot(m, u01_n)*c_e/norm2(u01):  [-1.07748631113455 1.07748631113455 -0.179581051855758 0.179581051855758 1]\n",
      "yy:  0.886953398318849\n"
     ]
    }
   ],
   "source": [
    "TT_2 = list(np.array([pp_2[0], pp_2[1], pp_2[3]]))\n",
    "gm = compute_gm_test(TT_2)"
   ]
  },
  {
   "cell_type": "code",
   "execution_count": 65,
   "metadata": {},
   "outputs": [
    {
     "data": {
      "text/latex": [
       "$\\displaystyle 0.0026498250425484$"
      ],
      "text/plain": [
       "0.00264982504254840"
      ]
     },
     "execution_count": 65,
     "metadata": {},
     "output_type": "execute_result"
    }
   ],
   "source": [
    "rdm = np.array([0.07265181092348216,  0.9869807651025245,  0.8949478612243169, -0.9467975711355811, -0.6520840786817188])\n",
    "gm.dot(rdm)"
   ]
  },
  {
   "cell_type": "code",
   "execution_count": 11,
   "metadata": {},
   "outputs": [
    {
     "name": "stdout",
     "output_type": "stream",
     "text": [
      "using e chart uv:\n",
      "gm_e:  [0.750000000000000 -0.750000000000000 0.125000000000000 -0.125000000000000\n",
      " 1.00000000000000]\n",
      "gm_e':  [-0.300000000000000 0.300000000000000 -0.0500000000000000\n",
      " 0.0500000000000000 1.00000000000000]\n",
      "-8.32667268468867e-17\n",
      "-4.44089209850063e-16\n",
      "-0.000203464604149994\n",
      "using global uv:\n",
      "gm:  [0.750000000000000 -0.750000000000000 0.125000000000000 -0.125000000000000\n",
      " 1.00000000000000]\n",
      "gm'':  [-0.300000000000000 0.300000000000000 -0.0500000000000000\n",
      " 0.0500000000000000 1.00000000000000]\n",
      "-8.32667268468867e-17\n",
      "-4.44089209850063e-16\n",
      "-0.000203464604149994\n"
     ]
    }
   ],
   "source": [
    "# x^2\n",
    "pp = np.array([[0, 0 ],\n",
    "[1, 0],\n",
    "[0.3, 1],\n",
    "[0, -1]\n",
    "])\n",
    "\n",
    "pp_e_chart = np.array([[0.5, 0 ],\n",
    "[-0.5, 0], \n",
    "[0.2, -1],\n",
    "[0.5, 1]\n",
    "])\n",
    "\n",
    "TT = list(np.array([pp[1], pp[0], pp[3]]))\n",
    "TT_p = list(np.array([pp[0], pp[1], pp[2]]))\n",
    "\n",
    "TT_e = list(np.array([pp_e_chart[1], pp_e_chart[0], pp_e_chart[3]]))\n",
    "TT_p_e = list(np.array([pp_e_chart[0], pp_e_chart[1], pp_e_chart[2]]))\n",
    "\n",
    "gm_e = compute_gm_test(TT_e)\n",
    "gm_e_p = compute_gm_test(TT_p_e)\n",
    "\n",
    "gm = compute_gm_test(TT)\n",
    "gm_p = compute_gm_test(TT_p)\n",
    "\n",
    "r_dM_x =   np.array( [ 1.000000000000003, -3.234031308186142e-15,     -1.000000000000005,      1.000000000000005,    -0.5000000000000022])\n",
    "r_dM_x_prime = np.array([-3.234031308186142e-15,      1.000000000000003,      1.000000000000005,     -1.000000000000005,    -0.2000000000000027])\n",
    "\n",
    "r_dM_y = np.array([ -1.477810214497488e-15,  2.160231850389962e-15,  3.008410920660721e-15, -4.033905291097418e-15 ,    -1.000000000000006])\n",
    "r_dM_y_prime = np.array([ 2.160231850389962e-15, -1.477810214497488e-15, -4.033905291097418e-15,  3.008410920660721e-15,     1.000000000000008])\n",
    "\n",
    "r_dM_z =   np.array([0.994613543550971, -0.03052325321117394 ,  -1.029531058129769,    1.019579880513667 , -0.3988167817076487])\n",
    "r_dM_z_prime =np.array([ -0.03052325321117394,    0.994613543550971 ,   1.019579880513667,   -1.029531058129769,  -0.3191859052341521])\n",
    "\n",
    "print(\"using e chart uv:\")\n",
    "print(\"gm_e: \", gm_e)\n",
    "print(\"gm_e': \", gm_e_p)\n",
    "print(gm_e.dot(r_dM_x) + gm_e_p.dot(r_dM_x_prime))\n",
    "print(gm_e.dot(r_dM_y) + gm_e_p.dot(r_dM_y_prime))\n",
    "print(gm_e.dot(r_dM_z) + gm_e_p.dot(r_dM_z_prime))\n",
    "print(\"using global uv:\")\n",
    "print(\"gm: \", gm)\n",
    "print(\"gm'': \", gm_p)\n",
    "print(gm.dot(r_dM_x) + gm_p.dot(r_dM_x_prime))\n",
    "print(gm.dot(r_dM_y) + gm_p.dot(r_dM_y_prime))\n",
    "print(gm.dot(r_dM_z) + gm_p.dot(r_dM_z_prime))\n"
   ]
  },
  {
   "cell_type": "code",
   "execution_count": null,
   "metadata": {},
   "outputs": [],
   "source": []
  },
  {
   "cell_type": "code",
   "execution_count": 48,
   "metadata": {},
   "outputs": [],
   "source": [
    "m= scipy.io.mmread(\"../../build/icosphere__interior_constraint_matrix.txt\")"
   ]
  },
  {
   "cell_type": "code",
   "execution_count": 52,
   "metadata": {},
   "outputs": [],
   "source": [
    "\n",
    "full_matrix = scipy.sparse.hstack((m, m, m))"
   ]
  },
  {
   "cell_type": "code",
   "execution_count": 53,
   "metadata": {},
   "outputs": [
    {
     "data": {
      "text/plain": [
       "(896, 5190)"
      ]
     },
     "execution_count": 53,
     "metadata": {},
     "output_type": "execute_result"
    }
   ],
   "source": [
    "full_matrix.shape"
   ]
  },
  {
   "cell_type": "code",
   "execution_count": 54,
   "metadata": {},
   "outputs": [
    {
     "data": {
      "text/plain": [
       "<896x5190 sparse matrix of type '<class 'numpy.float64'>'\n",
       "\twith 51072 stored elements in COOrdinate format>"
      ]
     },
     "execution_count": 54,
     "metadata": {},
     "output_type": "execute_result"
    }
   ],
   "source": [
    "full_matrix"
   ]
  },
  {
   "cell_type": "code",
   "execution_count": 57,
   "metadata": {},
   "outputs": [],
   "source": [
    "polyfem_mesh = mio.read(\"../../build/test_pipeline_icosphere/\"+ 'icosphere_final.vtu')"
   ]
  },
  {
   "cell_type": "code",
   "execution_count": 60,
   "metadata": {},
   "outputs": [],
   "source": []
  },
  {
   "cell_type": "code",
   "execution_count": 63,
   "metadata": {},
   "outputs": [],
   "source": [
    "a = np.array([i for i in range(len(polyfem_mesh.cells[0]))])"
   ]
  },
  {
   "cell_type": "code",
   "execution_count": 64,
   "metadata": {},
   "outputs": [],
   "source": [
    "polyfem_mesh.cell_data['winding'] = a[:,None]"
   ]
  },
  {
   "cell_type": "code",
   "execution_count": 65,
   "metadata": {},
   "outputs": [],
   "source": [
    "polyfem_mesh.write(\"tagged.vtu\")"
   ]
  },
  {
   "cell_type": "code",
   "execution_count": 107,
   "metadata": {},
   "outputs": [],
   "source": [
    "interior_matix = scipy.io.mmread('../../build/icosphere_interior_constraint_matrix.txt') \n",
    "edge_end_point_matrix = scipy.io.mmread('../../build/icosphere_edge_endpoint_constraint_matrix.txt') \n",
    "edge_end_point_matrix_elim = scipy.io.mmread('../../build/icosphere_edge_endpoint_constraint_matrix_eliminated.txt') \n",
    "edge_mid_point_matrix = scipy.io.mmread('../../build/icosphere_edge_midpoint_constraint_matrix.txt')\n",
    "\n",
    "full_matrix = scipy.sparse.vstack((interior_matix, edge_end_point_matrix, edge_mid_point_matrix))\n"
   ]
  },
  {
   "cell_type": "code",
   "execution_count": 108,
   "metadata": {},
   "outputs": [
    {
     "name": "stdout",
     "output_type": "stream",
     "text": [
      "268\n",
      "(1730, 326)\n"
     ]
    }
   ],
   "source": [
    "q, r = scipy.linalg.qr(edge_end_point_matrix_elim.T.todense())\n",
    "print(np.linalg.matrix_rank(r))\n",
    "print(r.shape)"
   ]
  },
  {
   "cell_type": "code",
   "execution_count": 110,
   "metadata": {},
   "outputs": [
    {
     "data": {
      "text/plain": [
       "(384, 1730)"
      ]
     },
     "execution_count": 110,
     "metadata": {},
     "output_type": "execute_result"
    }
   ],
   "source": [
    "edge_end_point_matrix.shape"
   ]
  },
  {
   "cell_type": "code",
   "execution_count": 101,
   "metadata": {},
   "outputs": [
    {
     "name": "stdout",
     "output_type": "stream",
     "text": [
      "1356\n",
      "(1730, 1414)\n"
     ]
    }
   ],
   "source": [
    "q, r = scipy.linalg.qr(full_matrix.T.todense())\n",
    "print(np.linalg.matrix_rank(r))\n",
    "print(r.shape)"
   ]
  },
  {
   "cell_type": "code",
   "execution_count": 105,
   "metadata": {},
   "outputs": [],
   "source": [
    "r_rows = np.sum(r, axis=1)"
   ]
  },
  {
   "cell_type": "code",
   "execution_count": 106,
   "metadata": {},
   "outputs": [
    {
     "data": {
      "text/plain": [
       "(1730,)"
      ]
     },
     "execution_count": 106,
     "metadata": {},
     "output_type": "execute_result"
    }
   ],
   "source": [
    "r_rows.shape"
   ]
  },
  {
   "cell_type": "code",
   "execution_count": 89,
   "metadata": {},
   "outputs": [],
   "source": [
    "local2global = np.loadtxt(\"../../build/icosphere_surface_correct_tri_to_tet_v_map.txt\").astype(np.int32)"
   ]
  },
  {
   "cell_type": "code",
   "execution_count": 90,
   "metadata": {},
   "outputs": [
    {
     "data": {
      "text/plain": [
       "1730"
      ]
     },
     "execution_count": 90,
     "metadata": {},
     "output_type": "execute_result"
    }
   ],
   "source": [
    "len(local2global)"
   ]
  },
  {
   "cell_type": "code",
   "execution_count": 91,
   "metadata": {},
   "outputs": [
    {
     "data": {
      "text/plain": [
       "1730"
      ]
     },
     "execution_count": 91,
     "metadata": {},
     "output_type": "execute_result"
    }
   ],
   "source": [
    "len(np.unique(local2global))"
   ]
  },
  {
   "cell_type": "code",
   "execution_count": 2,
   "metadata": {},
   "outputs": [],
   "source": [
    "ct = generate_ct(polys_C1_f)"
   ]
  },
  {
   "cell_type": "code",
   "execution_count": 3,
   "metadata": {},
   "outputs": [
    {
     "data": {
      "text/plain": [
       "[[[-3, 3, 0, 0, 1, 0, 0, 0, 0, 0, 0, 0],\n",
       "  [3, -3, 0, 0, -1/2, -1, 0, 0, 0, 4, 0, 0],\n",
       "  [-3, -3/2, 9/2, 0, -5/4, 3/2, -1/2, 7/4, 0, -6, 0, 2]],\n",
       " [[0, 0, 0, 0, 0, 0, 0, 0, 0, 0, 0, 0],\n",
       "  [0, 0, 0, 0, 0, 0, 0, 0, 0, 0, 0, 0],\n",
       "  [0, 0, 0, 0, 0, 0, 0, 0, 0, 0, 0, 0]],\n",
       " [[-3, 0, 3, 0, 0, 0, 0, 1, 0, 0, 0, 0],\n",
       "  [3, 0, -3, 0, 0, 0, -1, -1/2, 0, 0, 0, 4],\n",
       "  [-3, 9/2, -3/2, 0, 7/4, -1/2, 3/2, -5/4, 0, 2, 0, -6]]]"
      ]
     },
     "execution_count": 3,
     "metadata": {},
     "output_type": "execute_result"
    }
   ],
   "source": [
    "ct"
   ]
  },
  {
   "cell_type": "code",
   "execution_count": 4,
   "metadata": {},
   "outputs": [
    {
     "ename": "AttributeError",
     "evalue": "'list' object has no attribute 'shape'",
     "output_type": "error",
     "traceback": [
      "\u001b[0;31m---------------------------------------------------------------------------\u001b[0m",
      "\u001b[0;31mAttributeError\u001b[0m                            Traceback (most recent call last)",
      "Cell \u001b[0;32mIn[4], line 1\u001b[0m\n\u001b[0;32m----> 1\u001b[0m ct\u001b[38;5;241m.\u001b[39mshape\n",
      "\u001b[0;31mAttributeError\u001b[0m: 'list' object has no attribute 'shape'"
     ]
    }
   ],
   "source": [
    "ct.shape"
   ]
  },
  {
   "cell_type": "code",
   "execution_count": null,
   "metadata": {},
   "outputs": [],
   "source": []
  }
 ],
 "metadata": {
  "kernelspec": {
   "display_name": "base",
   "language": "python",
   "name": "python3"
  },
  "language_info": {
   "codemirror_mode": {
    "name": "ipython",
    "version": 3
   },
   "file_extension": ".py",
   "mimetype": "text/x-python",
   "name": "python",
   "nbconvert_exporter": "python",
   "pygments_lexer": "ipython3",
   "version": "3.11.5"
  }
 },
 "nbformat": 4,
 "nbformat_minor": 2
}
