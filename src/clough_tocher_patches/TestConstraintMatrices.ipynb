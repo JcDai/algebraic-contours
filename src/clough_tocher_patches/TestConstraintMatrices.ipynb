{
 "cells": [
  {
   "cell_type": "code",
   "execution_count": 5,
   "metadata": {},
   "outputs": [],
   "source": [
    "from Clough_Toucher_derivation import *\n",
    "import igl\n",
    "import meshio as mio\n",
    "import numpy as np\n",
    "import matplotlib.pyplot as plt\n",
    "from mpl_toolkits import mplot3d\n",
    "import subprocess\n"
   ]
  },
  {
   "cell_type": "code",
   "execution_count": 6,
   "metadata": {},
   "outputs": [],
   "source": [
    "def f0(x, y):\n",
    "    return 1\n",
    "\n",
    "def d0(x, y):\n",
    "    return np.array([0, 0])\n",
    "\n",
    "def f1(x, y):\n",
    "    return x\n",
    "\n",
    "def d1(x, y):\n",
    "    return np.array([1, 0])\n",
    "\n",
    "def f2(x, y):\n",
    "    return x ** 2\n",
    "\n",
    "def d2(x, y):\n",
    "    return np.array([2 * x, 0])\n",
    "\n",
    "def f3(x, y):\n",
    "    return x ** 3 + y ** 2\n",
    "\n",
    "def d3(x, y):\n",
    "    return np.array([3 * x * x, 2 * y])"
   ]
  },
  {
   "cell_type": "code",
   "execution_count": 7,
   "metadata": {},
   "outputs": [],
   "source": [
    "def build_boundary_data(_f, _d, _uv, _f_uv):\n",
    "    boundary_data = []\n",
    "\n",
    "    for fid in range(_f_uv.shape[0]):\n",
    "        fv = _f_uv[fid]\n",
    "        v0 = _uv[fv[0]]\n",
    "        v1 = _uv[fv[1]]\n",
    "        v2 = _uv[fv[2]]\n",
    "        m0 = (v0 + v1) / 2.0\n",
    "        m1 = (v1 + v2) / 2.0\n",
    "        m2 = (v2 + v0) / 2.0\n",
    "\n",
    "        e01 = v1 - v0\n",
    "        e12 = v2 - v1\n",
    "        e20 = v0 - v2\n",
    "\n",
    "        em0 = v2 - m0\n",
    "        em1 = v0 - m1\n",
    "        em2 = v1 - m2\n",
    "\n",
    "        f0 = _f(v0[0], v0[1])\n",
    "        f1 = _f(v1[0], v1[1])\n",
    "        f2 = _f(v2[0], v2[1])\n",
    "        # print (f0)\n",
    "\n",
    "        d0 = _d(v0[0], v0[1])\n",
    "        d1 = _d(v1[0], v1[1])\n",
    "        d2 = _d(v2[0], v2[1])\n",
    "        # print(d0)\n",
    "        \n",
    "        dm0 = _d(m0[0], m0[1])\n",
    "        dm1 = _d(m1[0], m1[1])\n",
    "        dm2 = _d(m2[0], m2[1])\n",
    "\n",
    "        d01 = d0 @ e01\n",
    "        d10 = d1 @ (-e01)\n",
    "        d12 = d1 @ e12\n",
    "        d21 = d2 @ (-e12)\n",
    "        d20 = d2 @ e20\n",
    "        d02 = d0 @ (-e20)\n",
    "\n",
    "        dm01 = dm0 @ em0\n",
    "        dm12 = dm1 @ em1\n",
    "        dm20 = dm2 @ em2\n",
    "\n",
    "        bd = [f0,f1,f2, d01, d10, d12, d21, d20, d02, dm01, dm12, dm20]\n",
    "        boundary_data.append(bd)\n",
    "\n",
    "    print(len(boundary_data))\n",
    "    return boundary_data"
   ]
  },
  {
   "cell_type": "code",
   "execution_count": 8,
   "metadata": {},
   "outputs": [],
   "source": [
    "def generate_boundary_data(f, d, filename, uv, f_uv):\n",
    "    f1_bd = build_boundary_data(f, d, uv, f_uv)\n",
    "    with open(filename, \"w\") as file:\n",
    "        for line in f1_bd:\n",
    "            for value in line:\n",
    "                file.write(\"{} \".format(value))\n",
    "            file.write(\"\\n\")\n",
    "\n",
    "def check_constraint_matrice(ct_interp_file, interior_file, endpoint_file, midpoint_file):\n",
    "    ct_interpolants = []\n",
    "    with open(ct_interp_file, \"r\") as file:\n",
    "        for line in file:\n",
    "            value = float(line.split()[0])\n",
    "            ct_interpolants.append(value)\n",
    "    ct_interpolants = np.array(ct_interpolants)\n",
    "\n",
    "    interior_matix = np.loadtxt(interior_file) \n",
    "    edge_end_point_matrix = np.loadtxt(endpoint_file) \n",
    "    edge_mid_point_matrix = np.loadtxt(midpoint_file) \n",
    "\n",
    "    r1 = interior_matix @ ct_interpolants\n",
    "    r2 = edge_end_point_matrix @ ct_interpolants\n",
    "    r3 = edge_mid_point_matrix @ ct_interpolants\n",
    "\n",
    "    print(\"interior constraint max: \", np.max(np.abs(r1)))\n",
    "    print(\"interior constraint avg: \", np.average(np.abs(r1)))\n",
    "    print(\"edge endpoint constraint max: \", np.max(np.abs(r2)))\n",
    "    print(\"edge endpoint constraint avg: \", np.average(np.abs(r2)))\n",
    "    print(\"edge midpoint constraint max: \", np.max(np.abs(r3)))\n",
    "    print(\"edge midpoint constraint avg: \", np.average(np.abs(r3)))\n",
    "\n",
    "    print(r3)\n",
    "\n",
    "def get_P_G2E_mul_nodes(p_g2e_file, ct_interp_file):\n",
    "    ct_interpolants = []\n",
    "    with open(ct_interp_file, \"r\") as file:\n",
    "        for line in file:\n",
    "            value = float(line.split()[0])\n",
    "            ct_interpolants.append(value)\n",
    "    ct_interpolants = np.array(ct_interpolants)\n",
    "\n",
    "    p_g2e = np.loadtxt(p_g2e_file)\n",
    "\n",
    "    values = p_g2e @ ct_interpolants\n",
    "\n",
    "    print(values)\n",
    "\n",
    "def plot_ct_interpolant(ct_interp_file, ct_uv_file, f):\n",
    "    ct_interpolants = []\n",
    "    with open(ct_interp_file, \"r\") as file:\n",
    "        for line in file:\n",
    "            value = float(line.split()[0])\n",
    "            ct_interpolants.append(value)\n",
    "    ct_interpolants = np.array(ct_interpolants)\n",
    "\n",
    "    ct_interpolants_uvs = []\n",
    "    with open(ct_uv_file, \"r\") as file:\n",
    "        for line in file:\n",
    "            s = line.split()\n",
    "            ct_interpolants_uvs.append([float(s[0]), float(s[1])])\n",
    "    ct_interpolants_uvs = np.array(ct_interpolants_uvs)\n",
    "    \n",
    "    # Create a grid of x and y values\n",
    "    X = ct_interpolants_uvs[:, 0]\n",
    "    Y = ct_interpolants_uvs[:, 1]\n",
    "\n",
    "    # get interpolants\n",
    "    Z = ct_interpolants\n",
    "\n",
    "    # compute real function values\n",
    "    Z_real = []\n",
    "    for i in range(X.shape[0]):\n",
    "        Z_real.append(f(X[i], Y[i]))\n",
    "    Z_real = np.array(Z_real)\n",
    "\n",
    "    print(\"Z - Z_real max:\", np.max(np.abs(Z-Z_real)))\n",
    "\n",
    "    fig = plt.figure()\n",
    "    ax = fig.add_subplot(111, projection='3d')\n",
    "\n",
    "    # Plot the values\n",
    "    ax.scatter(X, Y, Z, c = 'b', marker='o')\n",
    "    ax.set_xlabel('X-axis')\n",
    "    ax.set_ylabel('Y-axis')\n",
    "    ax.set_zlabel('Z-axis')\n",
    "\n",
    "    plt.show()"
   ]
  },
  {
   "cell_type": "code",
   "execution_count": 9,
   "metadata": {},
   "outputs": [],
   "source": [
    "build_path = '/Users/jiachengdai/Desktop/algebraic-contours/build/'\n",
    "\n",
    "# mesh_file = \"test_two_triangles.obj\"\n",
    "mesh_file = \"test_eight_triangles.obj\"\n",
    "# mesh_file = \"test_three_triangles.obj\"\n",
    "v, uv, _, f, f_uv, _ = igl.read_obj(build_path + mesh_file)"
   ]
  },
  {
   "cell_type": "code",
   "execution_count": 10,
   "metadata": {},
   "outputs": [
    {
     "name": "stdout",
     "output_type": "stream",
     "text": [
      "10\n",
      "#Cone: 0\n",
      "CHOLMOD warning: matrix not positive definite. file: /Users/jiachengdai/Desktop/algebraic-contours/build/_deps/suitesparse-src/CHOLMOD/Supernodal/t_cholmod_super_numeric.c line: 911\n",
      "70 142\n",
      "70 142\n",
      "-1.5, 1.5, -0.25, 0.25, 0, \n",
      "c_e:  -1.5\n",
      "  1.5\n",
      "-0.25\n",
      " 0.25\n",
      "    0\n",
      "g_M:       0       0       0       0 1.41421\n",
      "g_M_prime:       0       0       0       0 1.41421\n",
      "g_M:   2.25  -2.25  0.375 -0.375      1\n",
      "g_M_prime:   0.75  -0.75  0.125 -0.125      1\n",
      "g_M: -0.782624  0.782624 -0.130437  0.130437  0.745356\n",
      "g_M_prime:    0.33541   -0.33541  0.0559017 -0.0559017    2.23607\n",
      "g_M:   2.25  -2.25  0.375 -0.375      1\n",
      "g_M_prime:  -0.75   0.75 -0.125  0.125      1\n",
      "g_M:  0.707107 -0.707107  0.117851 -0.117851  0.471405\n",
      "g_M_prime:  -2.12132   2.12132 -0.353553  0.353553   1.41421\n",
      "g_M: -0.782624  0.782624 -0.130437  0.130437  0.745356\n",
      "g_M_prime:    0.33541   -0.33541  0.0559017 -0.0559017    2.23607\n",
      "g_M:   2.25  -2.25  0.375 -0.375      1\n",
      "g_M_prime:   0.75  -0.75  0.125 -0.125      1\n",
      "g_M:  0.707107 -0.707107  0.117851 -0.117851  0.471405\n",
      "g_M_prime:  -2.12132   2.12132 -0.353553  0.353553   1.41421\n",
      "g_M: -0.782624  0.782624 -0.130437  0.130437  0.745356\n",
      "g_M_prime:    0.33541   -0.33541  0.0559017 -0.0559017    2.23607\n",
      "g_M:  -2.12132   2.12132 -0.353553  0.353553   1.41421\n",
      "g_M_prime:  0.707107 -0.707107  0.117851 -0.117851  0.471405\n",
      "g_M:   2.25  -2.25  0.375 -0.375      1\n",
      "g_M_prime:  -0.75   0.75 -0.125  0.125      1\n",
      "g_M:  0.707107 -0.707107  0.117851 -0.117851  0.471405\n",
      "g_M_prime:  -2.12132   2.12132 -0.353553  0.353553   1.41421\n",
      "g_M: -0.782624  0.782624 -0.130437  0.130437  0.745356\n",
      "g_M_prime:    0.33541   -0.33541  0.0559017 -0.0559017    2.23607\n"
     ]
    },
    {
     "data": {
      "text/plain": [
       "CompletedProcess(args=['/Users/jiachengdai/Desktop/algebraic-contours/build/bin/generate_cubic_surface', '--input', '/Users/jiachengdai/Desktop/algebraic-contours/build/test_eight_triangles.obj', '-o', '/Users/jiachengdai/Desktop/algebraic-contours/build/f1', '--boundary-data', '/Users/jiachengdai/Desktop/algebraic-contours/build/f1_boundary_data.txt'], returncode=0)"
      ]
     },
     "execution_count": 10,
     "metadata": {},
     "output_type": "execute_result"
    }
   ],
   "source": [
    "# f1 d1\n",
    "boundary_data_file = 'f1_boundary_data.txt'\n",
    "output_name = \"f1\"\n",
    "\n",
    "generate_boundary_data(f1, d1, \"../../build/\" + boundary_data_file, uv, f_uv)\n",
    "build_path = '/Users/jiachengdai/Desktop/algebraic-contours/build/'\n",
    "command = build_path + 'bin/generate_cubic_surface --input ' + build_path + mesh_file + ' -o ' + build_path + output_name + ' --boundary-data ' + build_path + boundary_data_file\n",
    "subprocess.run(command.split(\" \"))"
   ]
  },
  {
   "cell_type": "code",
   "execution_count": 11,
   "metadata": {},
   "outputs": [
    {
     "data": {
      "text/plain": [
       "'/Users/jiachengdai/Desktop/algebraic-contours/build/bin/generate_cubic_surface --input /Users/jiachengdai/Desktop/algebraic-contours/build/test_eight_triangles.obj -o /Users/jiachengdai/Desktop/algebraic-contours/build/f1 --boundary-data /Users/jiachengdai/Desktop/algebraic-contours/build/f1_boundary_data.txt'"
      ]
     },
     "execution_count": 11,
     "metadata": {},
     "output_type": "execute_result"
    }
   ],
   "source": [
    "command"
   ]
  },
  {
   "cell_type": "code",
   "execution_count": 12,
   "metadata": {},
   "outputs": [
    {
     "name": "stdout",
     "output_type": "stream",
     "text": [
      "interior constraint max:  1.5543122344752192e-15\n",
      "interior constraint avg:  2.8102520310824275e-16\n",
      "edge endpoint constraint max:  1.4210854715202004e-14\n",
      "edge endpoint constraint avg:  2.76249611421436e-15\n",
      "edge midpoint constraint max:  2.1316282072803006e-14\n",
      "edge midpoint constraint avg:  6.80174870674765e-15\n",
      "[-1.06581410e-14 -7.54951657e-15  0.00000000e+00 -2.13162821e-14\n",
      " -1.15463195e-14  0.00000000e+00  1.06581410e-14  2.13162821e-14\n",
      " -1.42108547e-14  0.00000000e+00 -3.55271368e-15  1.77635684e-15\n",
      "  3.55271368e-15 -1.49880108e-15  0.00000000e+00  2.66453526e-15\n",
      "  5.32907052e-15]\n"
     ]
    }
   ],
   "source": [
    "ct_interp_file = \"../../build/f1_function_values_from_lagrange_nodes.txt\"\n",
    "ct_uv_file = \"../../build/f1_function_values_from_lagrange_nodes_uvs.txt\"\n",
    "interior_file = '../../build/f1_interior_constraint_matrix.txt'\n",
    "endpoint_file = '../../build/f1_edge_endpoint_constraint_matrix.txt'\n",
    "midpoint_file = '../../build/f1_edge_midpoint_constraint_matrix.txt'\n",
    "check_constraint_matrice(ct_interp_file, interior_file, endpoint_file, midpoint_file)\n",
    "# plot_ct_interpolant(ct_interp_file, ct_uv_file, f1)"
   ]
  },
  {
   "cell_type": "code",
   "execution_count": 13,
   "metadata": {},
   "outputs": [
    {
     "name": "stdout",
     "output_type": "stream",
     "text": [
      "10\n",
      "#Cone: 0\n",
      "CHOLMOD warning: matrix not positive definite. file: /Users/jiachengdai/Desktop/algebraic-contours/build/_deps/suitesparse-src/CHOLMOD/Supernodal/t_cholmod_super_numeric.c line: 911\n",
      "70 142\n",
      "70 142\n",
      "-1.5, 1.5, -0.25, 0.25, 0, \n",
      "c_e:  -1.5\n",
      "  1.5\n",
      "-0.25\n",
      " 0.25\n",
      "    0\n",
      "g_M:       0       0       0       0 1.41421\n",
      "g_M_prime:       0       0       0       0 1.41421\n",
      "g_M:   2.25  -2.25  0.375 -0.375      1\n",
      "g_M_prime:   0.75  -0.75  0.125 -0.125      1\n",
      "g_M: -0.782624  0.782624 -0.130437  0.130437  0.745356\n",
      "g_M_prime:    0.33541   -0.33541  0.0559017 -0.0559017    2.23607\n",
      "g_M:   2.25  -2.25  0.375 -0.375      1\n",
      "g_M_prime:  -0.75   0.75 -0.125  0.125      1\n",
      "g_M:  0.707107 -0.707107  0.117851 -0.117851  0.471405\n",
      "g_M_prime:  -2.12132   2.12132 -0.353553  0.353553   1.41421\n",
      "g_M: -0.782624  0.782624 -0.130437  0.130437  0.745356\n",
      "g_M_prime:    0.33541   -0.33541  0.0559017 -0.0559017    2.23607\n",
      "g_M:   2.25  -2.25  0.375 -0.375      1\n",
      "g_M_prime:   0.75  -0.75  0.125 -0.125      1\n",
      "g_M:  0.707107 -0.707107  0.117851 -0.117851  0.471405\n",
      "g_M_prime:  -2.12132   2.12132 -0.353553  0.353553   1.41421\n",
      "g_M: -0.782624  0.782624 -0.130437  0.130437  0.745356\n",
      "g_M_prime:    0.33541   -0.33541  0.0559017 -0.0559017    2.23607\n",
      "g_M:  -2.12132   2.12132 -0.353553  0.353553   1.41421\n",
      "g_M_prime:  0.707107 -0.707107  0.117851 -0.117851  0.471405\n",
      "g_M:   2.25  -2.25  0.375 -0.375      1\n",
      "g_M_prime:  -0.75   0.75 -0.125  0.125      1\n",
      "g_M:  0.707107 -0.707107  0.117851 -0.117851  0.471405\n",
      "g_M_prime:  -2.12132   2.12132 -0.353553  0.353553   1.41421\n",
      "g_M: -0.782624  0.782624 -0.130437  0.130437  0.745356\n",
      "g_M_prime:    0.33541   -0.33541  0.0559017 -0.0559017    2.23607\n"
     ]
    },
    {
     "data": {
      "text/plain": [
       "CompletedProcess(args=['/Users/jiachengdai/Desktop/algebraic-contours/build/bin/generate_cubic_surface', '--input', '/Users/jiachengdai/Desktop/algebraic-contours/build/test_eight_triangles.obj', '-o', '/Users/jiachengdai/Desktop/algebraic-contours/build/f2', '--boundary-data', '/Users/jiachengdai/Desktop/algebraic-contours/build/f2_boundary_data.txt'], returncode=0)"
      ]
     },
     "execution_count": 13,
     "metadata": {},
     "output_type": "execute_result"
    }
   ],
   "source": [
    "# f2\n",
    "boundary_data_file = 'f2_boundary_data.txt'\n",
    "output_name = \"f2\"\n",
    "\n",
    "generate_boundary_data(f2, d2, \"../../build/\" + boundary_data_file, uv, f_uv)\n",
    "build_path = '/Users/jiachengdai/Desktop/algebraic-contours/build/'\n",
    "command = build_path + 'bin/generate_cubic_surface --input ' + build_path + mesh_file + ' -o ' + build_path + output_name + ' --boundary-data ' + build_path + boundary_data_file\n",
    "subprocess.run(command.split(\" \"))"
   ]
  },
  {
   "cell_type": "code",
   "execution_count": 14,
   "metadata": {},
   "outputs": [
    {
     "name": "stdout",
     "output_type": "stream",
     "text": [
      "interior constraint max:  2.6645352591003757e-15\n",
      "interior constraint avg:  3.487785457271083e-16\n",
      "edge endpoint constraint max:  5.684341886080802e-14\n",
      "edge endpoint constraint avg:  4.884981308350689e-15\n",
      "edge midpoint constraint max:  2.842170943040401e-14\n",
      "edge midpoint constraint avg:  5.5817278903489026e-15\n",
      "[-4.44089210e-15 -1.11022302e-15  0.00000000e+00 -1.77635684e-14\n",
      " -4.44089210e-15  0.00000000e+00 -3.55271368e-15 -2.84217094e-14\n",
      " -2.66453526e-15  0.00000000e+00 -2.84217094e-14 -1.77635684e-15\n",
      "  0.00000000e+00 -5.55111512e-16  0.00000000e+00  1.87350135e-16\n",
      "  1.55431223e-15]\n"
     ]
    }
   ],
   "source": [
    "ct_interp_file = \"../../build/f2_function_values_from_lagrange_nodes.txt\"\n",
    "ct_uv_file = \"../../build/f2_function_values_from_lagrange_nodes_uvs.txt\"\n",
    "interior_file = '../../build/f2_interior_constraint_matrix.txt'\n",
    "endpoint_file = '../../build/f2_edge_endpoint_constraint_matrix.txt'\n",
    "midpoint_file = '../../build/f2_edge_midpoint_constraint_matrix.txt'\n",
    "check_constraint_matrice(ct_interp_file, interior_file, endpoint_file, midpoint_file)\n",
    "# plot_ct_interpolant(ct_interp_file, ct_uv_file, f2)"
   ]
  },
  {
   "cell_type": "code",
   "execution_count": 15,
   "metadata": {},
   "outputs": [
    {
     "name": "stdout",
     "output_type": "stream",
     "text": [
      "10\n",
      "#Cone: 0\n",
      "CHOLMOD warning: matrix not positive definite. file: /Users/jiachengdai/Desktop/algebraic-contours/build/_deps/suitesparse-src/CHOLMOD/Supernodal/t_cholmod_super_numeric.c line: 911\n",
      "70 142\n",
      "70 142\n",
      "-1.5, 1.5, -0.25, 0.25, 0, \n",
      "c_e:  -1.5\n",
      "  1.5\n",
      "-0.25\n",
      " 0.25\n",
      "    0\n",
      "g_M:       0       0       0       0 1.41421\n",
      "g_M_prime:       0       0       0       0 1.41421\n",
      "g_M:   2.25  -2.25  0.375 -0.375      1\n",
      "g_M_prime:   0.75  -0.75  0.125 -0.125      1\n",
      "g_M: -0.782624  0.782624 -0.130437  0.130437  0.745356\n",
      "g_M_prime:    0.33541   -0.33541  0.0559017 -0.0559017    2.23607\n",
      "g_M:   2.25  -2.25  0.375 -0.375      1\n",
      "g_M_prime:  -0.75   0.75 -0.125  0.125      1\n",
      "g_M:  0.707107 -0.707107  0.117851 -0.117851  0.471405\n",
      "g_M_prime:  -2.12132   2.12132 -0.353553  0.353553   1.41421\n",
      "g_M: -0.782624  0.782624 -0.130437  0.130437  0.745356\n",
      "g_M_prime:    0.33541   -0.33541  0.0559017 -0.0559017    2.23607\n",
      "g_M:   2.25  -2.25  0.375 -0.375      1\n",
      "g_M_prime:   0.75  -0.75  0.125 -0.125      1\n",
      "g_M:  0.707107 -0.707107  0.117851 -0.117851  0.471405\n",
      "g_M_prime:  -2.12132   2.12132 -0.353553  0.353553   1.41421\n",
      "g_M: -0.782624  0.782624 -0.130437  0.130437  0.745356\n",
      "g_M_prime:    0.33541   -0.33541  0.0559017 -0.0559017    2.23607\n",
      "g_M:  -2.12132   2.12132 -0.353553  0.353553   1.41421\n",
      "g_M_prime:  0.707107 -0.707107  0.117851 -0.117851  0.471405\n",
      "g_M:   2.25  -2.25  0.375 -0.375      1\n",
      "g_M_prime:  -0.75   0.75 -0.125  0.125      1\n",
      "g_M:  0.707107 -0.707107  0.117851 -0.117851  0.471405\n",
      "g_M_prime:  -2.12132   2.12132 -0.353553  0.353553   1.41421\n",
      "g_M: -0.782624  0.782624 -0.130437  0.130437  0.745356\n",
      "g_M_prime:    0.33541   -0.33541  0.0559017 -0.0559017    2.23607\n"
     ]
    },
    {
     "data": {
      "text/plain": [
       "CompletedProcess(args=['/Users/jiachengdai/Desktop/algebraic-contours/build/bin/generate_cubic_surface', '--input', '/Users/jiachengdai/Desktop/algebraic-contours/build/test_eight_triangles.obj', '-o', '/Users/jiachengdai/Desktop/algebraic-contours/build/f3', '--boundary-data', '/Users/jiachengdai/Desktop/algebraic-contours/build/f3_boundary_data.txt'], returncode=0)"
      ]
     },
     "execution_count": 15,
     "metadata": {},
     "output_type": "execute_result"
    }
   ],
   "source": [
    "# f3\n",
    "boundary_data_file = 'f3_boundary_data.txt'\n",
    "output_name = \"f3\"\n",
    "\n",
    "generate_boundary_data(f3, d3, \"../../build/\" + boundary_data_file, uv, f_uv)\n",
    "build_path = '/Users/jiachengdai/Desktop/algebraic-contours/build/'\n",
    "command = build_path + 'bin/generate_cubic_surface --input ' + build_path + mesh_file + ' -o ' + build_path + output_name + ' --boundary-data ' + build_path + boundary_data_file\n",
    "subprocess.run(command.split(\" \"))"
   ]
  },
  {
   "cell_type": "code",
   "execution_count": 16,
   "metadata": {},
   "outputs": [
    {
     "data": {
      "text/plain": [
       "'/Users/jiachengdai/Desktop/algebraic-contours/build/bin/generate_cubic_surface --input /Users/jiachengdai/Desktop/algebraic-contours/build/test_eight_triangles.obj -o /Users/jiachengdai/Desktop/algebraic-contours/build/f3 --boundary-data /Users/jiachengdai/Desktop/algebraic-contours/build/f3_boundary_data.txt'"
      ]
     },
     "execution_count": 16,
     "metadata": {},
     "output_type": "execute_result"
    }
   ],
   "source": [
    "command"
   ]
  },
  {
   "cell_type": "code",
   "execution_count": 17,
   "metadata": {},
   "outputs": [
    {
     "name": "stdout",
     "output_type": "stream",
     "text": [
      "interior constraint max:  5.440092820663267e-15\n",
      "interior constraint avg:  8.145270172629385e-16\n",
      "edge endpoint constraint max:  3.552713678800501e-14\n",
      "edge endpoint constraint avg:  6.325005878526259e-15\n",
      "edge midpoint constraint max:  4.973799150320701e-14\n",
      "edge midpoint constraint avg:  1.1474481495684707e-14\n",
      "[-7.99360578e-15 -1.78745907e-14  0.00000000e+00  1.42108547e-14\n",
      "  2.66453526e-15  0.00000000e+00 -4.97379915e-14 -2.84217094e-14\n",
      " -3.10862447e-15  0.00000000e+00 -3.55271368e-14  3.10862447e-15\n",
      " -5.32907052e-15 -3.55271368e-15  0.00000000e+00 -1.33226763e-15\n",
      " -2.22044605e-14]\n"
     ]
    }
   ],
   "source": [
    "ct_interp_file = \"../../build/f3_function_values_from_lagrange_nodes.txt\"\n",
    "ct_uv_file = \"../../build/f3_function_values_from_lagrange_nodes_uvs.txt\"\n",
    "interior_file = '../../build/f3_interior_constraint_matrix.txt'\n",
    "endpoint_file = '../../build/f3_edge_endpoint_constraint_matrix.txt'\n",
    "midpoint_file = '../../build/f3_edge_midpoint_constraint_matrix.txt'\n",
    "check_constraint_matrice(ct_interp_file, interior_file, endpoint_file, midpoint_file)\n",
    "# plot_ct_interpolant(ct_interp_file, ct_uv_file, f3)"
   ]
  },
  {
   "cell_type": "code",
   "execution_count": null,
   "metadata": {},
   "outputs": [],
   "source": []
  },
  {
   "cell_type": "code",
   "execution_count": null,
   "metadata": {},
   "outputs": [],
   "source": []
  },
  {
   "cell_type": "code",
   "execution_count": null,
   "metadata": {},
   "outputs": [],
   "source": []
  },
  {
   "cell_type": "code",
   "execution_count": null,
   "metadata": {},
   "outputs": [],
   "source": []
  },
  {
   "cell_type": "code",
   "execution_count": 48,
   "metadata": {},
   "outputs": [
    {
     "name": "stdout",
     "output_type": "stream",
     "text": [
      "\n",
      "\n",
      "\n",
      "interior constraint max:  2.9719339766920427e-09\n",
      "interior constraint avg:  3.6683438295738295e-11\n"
     ]
    }
   ],
   "source": [
    "# test on tet mesh\n",
    "\n",
    "interior_matix = np.loadtxt('../../build/icosphere_interior_constraint_matrix.txt') \n",
    "edge_end_point_matrix = np.loadtxt('../../build/icosphere_edge_endpoint_constraint_matrix.txt') \n",
    "edge_mid_point_matrix = np.loadtxt('../../build/icosphere_edge_midpoint_constraint_matrix.txt')\n",
    "\n",
    "ico_sphere_mesh = mio.read(\"../../build/icosphere_from_lagrange_nodes.msh\")\n",
    "ico_points = ico_sphere_mesh.points\n",
    "\n",
    "local2global = []\n",
    "idx = 0\n",
    "# with open(\"../../build/icosphere_surface_tri_to_tet_v_map.txt\", \"r\") as file:\n",
    "#     for line in file:\n",
    "#         local2global.append(int(line))\n",
    "#         idx += 1\n",
    "\n",
    "with open(\"../../build/icosphere_surface_correct_tri_to_tet_v_map.txt\", \"r\") as file:\n",
    "    for line in file:\n",
    "        local2global.append(int(line))\n",
    "        idx += 1\n",
    "\n",
    "tetmesh = mio.read(\"../../build/test_curved_high_order_tetmesh.msh\")\n",
    "surface_mesh = mio.read(\"../../build/icosphere_from_lagrange_nodes.msh\")\n",
    "\n",
    "s_points = surface_mesh.points\n",
    "t_points = tetmesh.points\n",
    "\n",
    "t_s_points = t_points[local2global]\n",
    "\n",
    "t_s_points_2 = []\n",
    "for i in local2global:\n",
    "    t_s_points_2.append(t_points[i])\n",
    "t_s_points_2 = np.array(t_s_points_2)\n",
    "\n",
    "r1 = interior_matix @ ico_points\n",
    "# r2 = edge_end_point_matrix @ ico_points\n",
    "# r3 = edge_mid_point_matrix @ ico_points\n",
    "\n",
    "print(\"interior constraint max: \", np.max(np.abs(r1)))\n",
    "print(\"interior constraint avg: \", np.average(np.abs(r1)))\n",
    "# print(\"edge endpoint constraint max: \", np.max(np.abs(r2)))\n",
    "# print(\"edge endpoint constraint avg: \", np.average(np.abs(r2)))\n",
    "# print(\"edge midpoint constraint max: \", np.max(np.abs(r3)))\n",
    "# print(\"edge midpoint constraint avg: \", np.average(np.abs(r3)))"
   ]
  },
  {
   "cell_type": "code",
   "execution_count": 42,
   "metadata": {},
   "outputs": [
    {
     "data": {
      "text/plain": [
       "(1730, 3)"
      ]
     },
     "execution_count": 42,
     "metadata": {},
     "output_type": "execute_result"
    }
   ],
   "source": [
    "s_points.shape"
   ]
  },
  {
   "cell_type": "code",
   "execution_count": 43,
   "metadata": {},
   "outputs": [
    {
     "data": {
      "text/plain": [
       "(1730, 3)"
      ]
     },
     "execution_count": 43,
     "metadata": {},
     "output_type": "execute_result"
    }
   ],
   "source": [
    "t_s_points_2.shape"
   ]
  },
  {
   "cell_type": "code",
   "execution_count": 44,
   "metadata": {},
   "outputs": [
    {
     "data": {
      "text/plain": [
       "array([[0., 0., 0.],\n",
       "       [0., 0., 0.],\n",
       "       [0., 0., 0.],\n",
       "       ...,\n",
       "       [0., 0., 0.],\n",
       "       [0., 0., 0.],\n",
       "       [0., 0., 0.]])"
      ]
     },
     "execution_count": 44,
     "metadata": {},
     "output_type": "execute_result"
    }
   ],
   "source": [
    "s_points - t_s_points_2"
   ]
  },
  {
   "cell_type": "code",
   "execution_count": 45,
   "metadata": {},
   "outputs": [],
   "source": [
    "miss_match_cnt = 0\n",
    "for i in range((s_points - t_s_points_2).shape[0]):\n",
    "    if abs((s_points - t_s_points_2)[i][0]) > 1e-10:\n",
    "        # print((s_points - t_s_points_2)[i])\n",
    "        miss_match_cnt += 1"
   ]
  },
  {
   "cell_type": "code",
   "execution_count": 46,
   "metadata": {},
   "outputs": [
    {
     "data": {
      "text/plain": [
       "0"
      ]
     },
     "execution_count": 46,
     "metadata": {},
     "output_type": "execute_result"
    }
   ],
   "source": [
    "local2global = np.loadtxt(\"icosphere_surface_correct_tri_to_tet_v_map.txt\").astype(np.int32)\n",
    "A = np.loadtxt(\"ico_.txt\")\n",
    "m = mio.read(\"test_linear_high_order_tetmesh.msh\")\n",
    "v = m.points\n",
    "b = -(A @ v[local2global, :])\n",
    "\n",
    "print(A.shape)\n",
    "print(local2global.shape)\n",
    "print(b.shape)\n",
    "\n",
    "with h5py.File(\"3dc.hdf5\", 'w') as f:\n",
    "    f.create_dataset(\"local2global\", data=local2global.astype(np.int32))\n",
    "    f.create_dataset(\"A\", data=A)\n",
    "    f.create_dataset(\"b\", data=b)"
   ]
  },
  {
   "cell_type": "code",
   "execution_count": 50,
   "metadata": {},
   "outputs": [],
   "source": [
    "interior_matix = np.loadtxt('../../build/icosphere_interior_constraint_matrix.txt') \n",
    "edge_end_point_matrix = np.loadtxt('../../build/icosphere_edge_endpoint_constraint_matrix.txt') \n",
    "edge_mid_point_matrix = np.loadtxt('../../build/icosphere_edge_midpoint_constraint_matrix.txt')\n",
    "\n",
    "big_mesh = np.concatenate((interior_matix, edge_end_point_matrix, edge_mid_point_matrix))"
   ]
  },
  {
   "cell_type": "code",
   "execution_count": 52,
   "metadata": {},
   "outputs": [
    {
     "name": "stdout",
     "output_type": "stream",
     "text": [
      "(896, 1730)\n",
      "(384, 1730)\n",
      "(192, 1730)\n",
      "(1472, 1730)\n"
     ]
    }
   ],
   "source": [
    "print(interior_matix.shape)\n",
    "print(edge_end_point_matrix.shape)\n",
    "print(edge_mid_point_matrix.shape)\n",
    "print(big_mesh.shape)"
   ]
  },
  {
   "cell_type": "code",
   "execution_count": 58,
   "metadata": {},
   "outputs": [
    {
     "name": "stdout",
     "output_type": "stream",
     "text": [
      "\n",
      "(1472, 1730)\n",
      "(1730,)\n",
      "(1472, 3)\n"
     ]
    }
   ],
   "source": [
    "import h5py\n",
    "\n",
    "local2global = np.loadtxt(\"../../build/icosphere_surface_correct_tri_to_tet_v_map.txt\").astype(np.int32)\n",
    "A = big_mesh\n",
    "m = mio.read(\"../../build/test_linear_high_order_tetmesh.msh\")\n",
    "v = m.points\n",
    "b = -(A @ v[local2global, :])\n",
    "\n",
    "print(A.shape)\n",
    "print(local2global.shape)\n",
    "print(b.shape)\n",
    "\n",
    "with h5py.File(\"3dc.hdf5\", 'w') as f:\n",
    "    f.create_dataset(\"local2global\", data=local2global.astype(np.int32))\n",
    "    f.create_dataset(\"A\", data=A)\n",
    "    f.create_dataset(\"b\", data=b)"
   ]
  },
  {
   "cell_type": "code",
   "execution_count": 302,
   "metadata": {},
   "outputs": [
    {
     "name": "stdout",
     "output_type": "stream",
     "text": [
      "[0.         1.         0.         0.33333333 0.66666667 0.66666667\n",
      " 0.33333333 0.         0.         0.44444444 0.44444444 0.11111111\n",
      " 0.         0.         0.         0.         0.         0.\n",
      " 0.         0.         0.         0.         0.         0.\n",
      " 0.         1.         0.         0.33333333 0.66666667 0.66666667\n",
      " 0.33333333 0.         0.         0.44444444 0.44444444 0.11111111\n",
      " 0.         0.         0.         0.         0.         0.\n",
      " 0.         0.         0.         0.         0.         0.\n",
      " 1.         0.         0.         0.66666667 0.33333333 0.\n",
      " 0.         0.33333333 0.66666667 0.44444444 0.11111111 0.44444444\n",
      " 0.         0.         0.         0.         0.         0.\n",
      " 0.         0.         0.         0.         0.         0.\n",
      " 1.         0.         0.         0.66666667 0.33333333 0.\n",
      " 0.         0.33333333 0.66666667 0.44444444 0.11111111 0.44444444\n",
      " 0.         0.         0.         0.         0.         0.\n",
      " 0.         0.         0.         0.         0.         0.\n",
      " 1.         0.         0.         0.66666667 0.33333333 0.\n",
      " 0.         0.33333333 0.66666667 0.44444444 0.11111111 0.44444444\n",
      " 0.         1.         0.         0.33333333 0.66666667 0.66666667\n",
      " 0.33333333 0.         0.         0.44444444 0.44444444 0.11111111]\n"
     ]
    }
   ],
   "source": [
    "get_P_G2E_mul_nodes(\"../../build/P_G2E.txt\", \"../../build/f1_function_values_from_lagrange_nodes.txt\")"
   ]
  },
  {
   "cell_type": "code",
   "execution_count": 2,
   "metadata": {},
   "outputs": [
    {
     "name": "stdout",
     "output_type": "stream",
     "text": [
      "checking midpoint constraint for general cubic (should be zero):  0\n"
     ]
    }
   ],
   "source": [
    "from midpoint_constraint_validation import *"
   ]
  },
  {
   "cell_type": "code",
   "execution_count": 443,
   "metadata": {},
   "outputs": [],
   "source": [
    "TT = list(np.array([[0,0], [0,3], [-1,0]]))\n",
    "TT_p = list(np.array([[0,3], [0,0], [1,0]]))\n",
    "\n",
    "g_m = compute_gm(T)\n",
    "g_m_prime = compute_gm(Tp)\n"
   ]
  },
  {
   "cell_type": "code",
   "execution_count": 456,
   "metadata": {},
   "outputs": [],
   "source": [
    "g_m_0 = compute_gm(TT)\n",
    "g_m_1 = compute_gm(TT_p)"
   ]
  },
  {
   "cell_type": "code",
   "execution_count": 469,
   "metadata": {},
   "outputs": [],
   "source": [
    "c_e = generate_ce(polys_C1_f)\n",
    "c_e = npa(c_e) \n",
    "ch = npa([0,0,0,0,1])\n",
    "\n",
    "def compute_gm_test(T):\n",
    "    u01 = T[1]-T[0] \n",
    "    u10 = T[0]-T[1]\n",
    "    print(\"u01:\", u01)\n",
    "    \n",
    "    mpt = (T[0]+T[1])/2 \n",
    "    m   =  T[2]-mpt\n",
    "    print(\"m:\", m)\n",
    "    u01_n = u01/norm2(u01); u10_n = u10/norm2(u10); \n",
    "    print(\"u01_n:\", u01_n)\n",
    "    gm =  (ch - np.dot(m, u01_n)*c_e/norm2(u01))/np.dot(m, perp(u01_n));\n",
    "    print(\"np.dot(m, u01_n): \", np.dot(m, u01_n))\n",
    "    print(norm2(u01))\n",
    "    print(\"ch - np.dot(m, u01_n)*c_e/norm2(u01): \", ch - np.dot(m, u01_n)*c_e/norm2(u01))\n",
    "    return gm"
   ]
  },
  {
   "cell_type": "code",
   "execution_count": 470,
   "metadata": {},
   "outputs": [
    {
     "name": "stdout",
     "output_type": "stream",
     "text": [
      "u01: [ 0 -3]\n",
      "m: [ 1.  -1.5]\n",
      "u01_n: [0 -1]\n",
      "np.dot(m, u01_n):  1.50000000000000\n",
      "3\n",
      "ch - np.dot(m, u01_n)*c_e/norm2(u01):  [-0.750000000000000 0.750000000000000 -0.125000000000000 0.125000000000000\n",
      " 1]\n"
     ]
    },
    {
     "data": {
      "text/plain": [
       "array([-0.750000000000000, 0.750000000000000, -0.125000000000000,\n",
       "       0.125000000000000, 1.00000000000000], dtype=object)"
      ]
     },
     "execution_count": 470,
     "metadata": {},
     "output_type": "execute_result"
    }
   ],
   "source": [
    "compute_gm_test(TT_p)"
   ]
  },
  {
   "cell_type": "code",
   "execution_count": 471,
   "metadata": {},
   "outputs": [
    {
     "data": {
      "text/plain": [
       "array([3/2, -3/2, 1/4, -1/4, 0], dtype=object)"
      ]
     },
     "execution_count": 471,
     "metadata": {},
     "output_type": "execute_result"
    }
   ],
   "source": [
    "c_e"
   ]
  },
  {
   "cell_type": "code",
   "execution_count": 3,
   "metadata": {},
   "outputs": [],
   "source": [
    "c_e = generate_ce(polys_C1_f)"
   ]
  },
  {
   "cell_type": "code",
   "execution_count": 4,
   "metadata": {},
   "outputs": [
    {
     "data": {
      "text/plain": [
       "[-3/2, 3/2, -1/4, 1/4, 0]"
      ]
     },
     "execution_count": 4,
     "metadata": {},
     "output_type": "execute_result"
    }
   ],
   "source": [
    "c_e"
   ]
  },
  {
   "cell_type": "code",
   "execution_count": null,
   "metadata": {},
   "outputs": [],
   "source": []
  }
 ],
 "metadata": {
  "kernelspec": {
   "display_name": "base",
   "language": "python",
   "name": "python3"
  },
  "language_info": {
   "codemirror_mode": {
    "name": "ipython",
    "version": 3
   },
   "file_extension": ".py",
   "mimetype": "text/x-python",
   "name": "python",
   "nbconvert_exporter": "python",
   "pygments_lexer": "ipython3",
   "version": "3.11.5"
  }
 },
 "nbformat": 4,
 "nbformat_minor": 2
}
