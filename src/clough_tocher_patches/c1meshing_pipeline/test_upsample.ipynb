{
 "cells": [
  {
   "cell_type": "code",
   "execution_count": 1,
   "metadata": {},
   "outputs": [],
   "source": [
    "from step_6_build_soft_constraints import *"
   ]
  },
  {
   "cell_type": "code",
   "execution_count": 2,
   "metadata": {},
   "outputs": [],
   "source": [
    "cone_area_v_file = \"/Users/jiachengdai/Desktop/algebraic-contours/build/test_fan/CT_bilaplacian_nodes_values_cone_area_vertices.txt\"\n",
    "cone_area_f_file = \"/Users/jiachengdai/Desktop/algebraic-contours/build/test_fan/CT_bilaplacian_nodes_values_cone_area_faces.txt\"\n",
    "init_mesh_file = \"/Users/jiachengdai/Desktop/algebraic-contours/build/test_fan/CT_from_lagrange_nodes.msh\"\n",
    "sample_factor = 1\n",
    "k_ring_factor = 0"
   ]
  },
  {
   "cell_type": "code",
   "execution_count": 3,
   "metadata": {},
   "outputs": [
    {
     "name": "stdout",
     "output_type": "stream",
     "text": [
      "[2025-05-13 15:37:47.031302]  upsample and smoothing cone area\n",
      "\n"
     ]
    },
    {
     "ename": "IndexError",
     "evalue": "arrays used as indices must be of integer (or boolean) type",
     "output_type": "error",
     "traceback": [
      "\u001b[0;31m---------------------------------------------------------------------------\u001b[0m",
      "\u001b[0;31mIndexError\u001b[0m                                Traceback (most recent call last)",
      "Cell \u001b[0;32mIn[3], line 1\u001b[0m\n\u001b[0;32m----> 1\u001b[0m upsample_and_smooth_cones(cone_area_v_file, cone_area_f_file, init_mesh_file, sample_factor, k_ring_factor)\n",
      "File \u001b[0;32m~/Desktop/algebraic-contours/src/clough_tocher_patches/pipeline/step_6_build_soft_constraints.py:111\u001b[0m, in \u001b[0;36mupsample_and_smooth_cones\u001b[0;34m(cone_area_vertices_file, cone_area_faces_file, smooth_initial_mesh_file, sample_factor, k_ring_factor)\u001b[0m\n\u001b[1;32m    109\u001b[0m B \u001b[38;5;241m=\u001b[39m np\u001b[38;5;241m.\u001b[39mzeros((A\u001b[38;5;241m.\u001b[39mshape[\u001b[38;5;241m0\u001b[39m], \u001b[38;5;241m3\u001b[39m))\n\u001b[1;32m    110\u001b[0m known \u001b[38;5;241m=\u001b[39m non_cone_area_vertices\n\u001b[0;32m--> 111\u001b[0m Y \u001b[38;5;241m=\u001b[39m v_ct[known]\n\u001b[1;32m    112\u001b[0m unknown \u001b[38;5;241m=\u001b[39m cone_area_vertices\n\u001b[1;32m    114\u001b[0m Aeq \u001b[38;5;241m=\u001b[39m scipy\u001b[38;5;241m.\u001b[39msparse\u001b[38;5;241m.\u001b[39mcsr_matrix(np\u001b[38;5;241m.\u001b[39mzeros((\u001b[38;5;241m0\u001b[39m, \u001b[38;5;241m0\u001b[39m)))\n",
      "\u001b[0;31mIndexError\u001b[0m: arrays used as indices must be of integer (or boolean) type"
     ]
    }
   ],
   "source": [
    "upsample_and_smooth_cones(cone_area_v_file, cone_area_f_file, init_mesh_file, sample_factor, k_ring_factor)"
   ]
  },
  {
   "cell_type": "code",
   "execution_count": 4,
   "metadata": {},
   "outputs": [],
   "source": [
    "import igl\n",
    "import numpy as np\n",
    "import scipy"
   ]
  },
  {
   "cell_type": "code",
   "execution_count": 10,
   "metadata": {},
   "outputs": [],
   "source": [
    "f_ct = np.array([\n",
    "    [0,1,2],\n",
    "    [1,0,3]\n",
    "])"
   ]
  },
  {
   "cell_type": "code",
   "execution_count": 11,
   "metadata": {},
   "outputs": [],
   "source": [
    "adj_mat = igl.adjacency_matrix(f_ct)"
   ]
  },
  {
   "cell_type": "code",
   "execution_count": 13,
   "metadata": {},
   "outputs": [
    {
     "name": "stdout",
     "output_type": "stream",
     "text": [
      "  (1, 0)\t1\n",
      "  (2, 0)\t1\n",
      "  (3, 0)\t1\n",
      "  (0, 1)\t1\n",
      "  (2, 1)\t1\n",
      "  (3, 1)\t1\n",
      "  (0, 2)\t1\n",
      "  (1, 2)\t1\n",
      "  (0, 3)\t1\n",
      "  (1, 3)\t1\n"
     ]
    }
   ],
   "source": [
    "print(adj_mat)"
   ]
  },
  {
   "cell_type": "code",
   "execution_count": null,
   "metadata": {},
   "outputs": [],
   "source": [
    "adj_mat_sum = np.sum(adj_mat, axis=1)\n"
   ]
  },
  {
   "cell_type": "code",
   "execution_count": 19,
   "metadata": {},
   "outputs": [
    {
     "data": {
      "text/plain": [
       "matrix([[3]])"
      ]
     },
     "execution_count": 19,
     "metadata": {},
     "output_type": "execute_result"
    }
   ],
   "source": [
    "adj_mat_sum[0][0][0]"
   ]
  },
  {
   "cell_type": "code",
   "execution_count": null,
   "metadata": {},
   "outputs": [],
   "source": []
  }
 ],
 "metadata": {
  "kernelspec": {
   "display_name": "base",
   "language": "python",
   "name": "python3"
  },
  "language_info": {
   "codemirror_mode": {
    "name": "ipython",
    "version": 3
   },
   "file_extension": ".py",
   "mimetype": "text/x-python",
   "name": "python",
   "nbconvert_exporter": "python",
   "pygments_lexer": "ipython3",
   "version": "3.11.5"
  }
 },
 "nbformat": 4,
 "nbformat_minor": 2
}
