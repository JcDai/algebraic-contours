{
 "cells": [
  {
   "cell_type": "code",
   "execution_count": 1,
   "metadata": {},
   "outputs": [],
   "source": [
    "from step_2_cone_arrangement_and_parametrization import *"
   ]
  },
  {
   "cell_type": "code",
   "execution_count": null,
   "metadata": {},
   "outputs": [],
   "source": [
    "v_before = np.array([\n",
    "    [0,0,0],\n",
    "    [0,1,0],\n",
    "    [1,1,0],\n",
    "    [1,0,0],\n",
    "    [1,1,1],\n",
    "    [1,1,1]\n",
    "])\n",
    "f_before = np.array([\n",
    "    [0,1,2],\n",
    "    [0,3,1],\n",
    "    [2,1,4],\n",
    "    [2,4,5]\n",
    "])\n",
    "v_after = np.array([\n",
    "    [0,0,0],\n",
    "    [0,1,0],\n",
    "    [1,1,0],\n",
    "    [1,0,0],\n",
    "    [0.5,0.5,0],\n",
    "    [0.25,0.25,0],\n",
    "    [1,1,1],\n",
    "    [1,1,1],\n",
    "    [1,1,1]\n",
    "])\n",
    "f_after = np.array([\n",
    "    [0,3,6],\n",
    "    [6,3,1],\n",
    "    [0,6,2],\n",
    "    [6,7,2],\n",
    "    [6,1,7],\n",
    "    [7,8,2],\n",
    "    [7,4,8],\n",
    "    [7,1,4],\n",
    "    [2,8,5],\n",
    "    [8,4,5]\n",
    "])"
   ]
  },
  {
   "cell_type": "code",
   "execution_count": 3,
   "metadata": {},
   "outputs": [
    {
     "name": "stdout",
     "output_type": "stream",
     "text": [
      "v_process:  [5, 6, 7]\n",
      "5\n",
      "cannot be processed this round outer\n",
      "6\n"
     ]
    }
   ],
   "source": [
    "edges_to_split = compute_edges_to_split(v_before, f_before, v_after, f_after)"
   ]
  },
  {
   "cell_type": "code",
   "execution_count": 4,
   "metadata": {},
   "outputs": [
    {
     "data": {
      "text/plain": [
       "[[1, 3, 4], [0, 4, 5]]"
      ]
     },
     "execution_count": 4,
     "metadata": {},
     "output_type": "execute_result"
    }
   ],
   "source": [
    "edges_to_split"
   ]
  },
  {
   "cell_type": "code",
   "execution_count": null,
   "metadata": {},
   "outputs": [],
   "source": []
  }
 ],
 "metadata": {
  "kernelspec": {
   "display_name": "base",
   "language": "python",
   "name": "python3"
  },
  "language_info": {
   "codemirror_mode": {
    "name": "ipython",
    "version": 3
   },
   "file_extension": ".py",
   "mimetype": "text/x-python",
   "name": "python",
   "nbconvert_exporter": "python",
   "pygments_lexer": "ipython3",
   "version": "3.11.5"
  }
 },
 "nbformat": 4,
 "nbformat_minor": 2
}
