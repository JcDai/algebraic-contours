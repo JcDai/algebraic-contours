{
 "cells": [
  {
   "cell_type": "code",
   "execution_count": 1,
   "metadata": {},
   "outputs": [],
   "source": [
    "from step_2_cone_arrangement_and_parametrization import *"
   ]
  },
  {
   "cell_type": "code",
   "execution_count": 2,
   "metadata": {},
   "outputs": [],
   "source": [
    "v_before = np.array([\n",
    "    [0,0,0],\n",
    "    [0,1,0],\n",
    "    [1,1,0],\n",
    "    [1,0,0]\n",
    "])\n",
    "f_before = np.array([\n",
    "    [0,1,3],\n",
    "    [1,2,3]\n",
    "])\n",
    "v_after = np.array([\n",
    "    [0,0,0],\n",
    "    [0,1,0],\n",
    "    [1,1,0],\n",
    "    [1,0,0],\n",
    "    [0.5,0.5,0],\n",
    "    [0.25,0.25,0]\n",
    "])\n",
    "f_after = np.array([\n",
    "    [0,1,5],\n",
    "    [0,5,3],\n",
    "    [1,4,5],\n",
    "    [4,3,5],\n",
    "    [1,2,4],\n",
    "    [2,3,4]\n",
    "])"
   ]
  },
  {
   "cell_type": "code",
   "execution_count": 3,
   "metadata": {},
   "outputs": [],
   "source": [
    "edges_to_split = compute_edges_to_split(v_before, f_before, v_after, f_after)"
   ]
  },
  {
   "cell_type": "code",
   "execution_count": 4,
   "metadata": {},
   "outputs": [
    {
     "data": {
      "text/plain": [
       "[[1, 3, 4], [0, 4, 5]]"
      ]
     },
     "execution_count": 4,
     "metadata": {},
     "output_type": "execute_result"
    }
   ],
   "source": [
    "edges_to_split"
   ]
  },
  {
   "cell_type": "code",
   "execution_count": null,
   "metadata": {},
   "outputs": [],
   "source": []
  }
 ],
 "metadata": {
  "kernelspec": {
   "display_name": "base",
   "language": "python",
   "name": "python3"
  },
  "language_info": {
   "codemirror_mode": {
    "name": "ipython",
    "version": 3
   },
   "file_extension": ".py",
   "mimetype": "text/x-python",
   "name": "python",
   "nbconvert_exporter": "python",
   "pygments_lexer": "ipython3",
   "version": "3.11.5"
  }
 },
 "nbformat": 4,
 "nbformat_minor": 2
}
