{
 "cells": [
  {
   "cell_type": "code",
   "execution_count": 1,
   "metadata": {},
   "outputs": [],
   "source": [
    "from edge_constraint_bezier import *"
   ]
  },
  {
   "cell_type": "code",
   "execution_count": 2,
   "metadata": {},
   "outputs": [],
   "source": [
    "Ttest = list(map(lambda x: Matrix(x),[[0,0],[0,1],[-1,0]]))\n",
    "Tptest =list(map(lambda x: Matrix(x),[[0,1],[0,0],[1,0]]))"
   ]
  },
  {
   "cell_type": "code",
   "execution_count": 3,
   "metadata": {},
   "outputs": [
    {
     "data": {
      "text/plain": [
       "[-1, -2/3, -1/3, 0, -2/3, -1/3, 0, -1/3, 0, 0]"
      ]
     },
     "execution_count": 3,
     "metadata": {},
     "output_type": "execute_result"
    }
   ],
   "source": [
    "testpoly = u\n",
    "get_bezier_pts(testpoly, Ttest)"
   ]
  },
  {
   "cell_type": "code",
   "execution_count": 4,
   "metadata": {},
   "outputs": [
    {
     "name": "stdout",
     "output_type": "stream",
     "text": [
      "Matrix([[-3/4, 0, -3/2, -3/4, 3/4, 3/4, 3/2]])\n",
      "Matrix([[0, -3/4, -3/4, -3/2, 3/4, 3/4, 3/2]])\n"
     ]
    },
    {
     "data": {
      "text/latex": [
       "$\\displaystyle \\left[\\begin{matrix}1 & 0 & 2 & 1 & - \\frac{1}{2} & - \\frac{1}{2} & - \\frac{1}{2} & - \\frac{1}{2} & -1\\end{matrix}\\right]$"
      ],
      "text/plain": [
       "Matrix([[1, 0, 2, 1, -1/2, -1/2, -1/2, -1/2, -1]])"
      ]
     },
     "execution_count": 4,
     "metadata": {},
     "output_type": "execute_result"
    }
   ],
   "source": [
    "get_pijm_coeffs(Ttest, Tptest)"
   ]
  },
  {
   "cell_type": "code",
   "execution_count": null,
   "metadata": {},
   "outputs": [],
   "source": []
  }
 ],
 "metadata": {
  "kernelspec": {
   "display_name": "base",
   "language": "python",
   "name": "python3"
  },
  "language_info": {
   "codemirror_mode": {
    "name": "ipython",
    "version": 3
   },
   "file_extension": ".py",
   "mimetype": "text/x-python",
   "name": "python",
   "nbconvert_exporter": "python",
   "pygments_lexer": "ipython3",
   "version": "3.11.5"
  }
 },
 "nbformat": 4,
 "nbformat_minor": 2
}
