{
 "cells": [
  {
   "cell_type": "code",
   "execution_count": 51,
   "metadata": {},
   "outputs": [],
   "source": [
    "import numpy as np\n",
    "import igl\n",
    "from scipy import sparse \n",
    "import h5py\n",
    "import meshio as mio\n",
    "import scipy"
   ]
  },
  {
   "cell_type": "code",
   "execution_count": 52,
   "metadata": {},
   "outputs": [],
   "source": [
    "bilap_file = \"../../build/icosphere_bilaplacian_nodes.obj\"\n",
    "v, _, _, f, _, _ = igl.read_obj(bilap_file)"
   ]
  },
  {
   "cell_type": "code",
   "execution_count": 66,
   "metadata": {},
   "outputs": [
    {
     "ename": "TypeError",
     "evalue": "cotmatrix(): incompatible function arguments. The following argument types are supported:\n    1. (v: numpy.ndarray, f: numpy.ndarray) -> object\n\nInvoked with: array([[-1.12148427, -1.17042627, -1.17042627],\n       [-1.12148427, -1.17042627, -0.83601876],\n       [-1.12148427, -1.17042627, -0.50161126],\n       ...,\n       [-0.5857096 ,  0.59181543,  0.45837439],\n       [-0.45920594,  0.67214076,  0.46946989],\n       [-0.43508849,  0.73501765,  0.41761272]]), <Closed HDF5 file>",
     "output_type": "error",
     "traceback": [
      "\u001b[0;31m---------------------------------------------------------------------------\u001b[0m",
      "\u001b[0;31mTypeError\u001b[0m                                 Traceback (most recent call last)",
      "Cell \u001b[0;32mIn[66], line 1\u001b[0m\n\u001b[0;32m----> 1\u001b[0m L \u001b[38;5;241m=\u001b[39m igl\u001b[38;5;241m.\u001b[39mcotmatrix(v, f)\n\u001b[1;32m      2\u001b[0m M \u001b[38;5;241m=\u001b[39m igl\u001b[38;5;241m.\u001b[39mmassmatrix(v, f)\n\u001b[1;32m      4\u001b[0m \u001b[38;5;66;03m# assemble M_inv\u001b[39;00m\n",
      "\u001b[0;31mTypeError\u001b[0m: cotmatrix(): incompatible function arguments. The following argument types are supported:\n    1. (v: numpy.ndarray, f: numpy.ndarray) -> object\n\nInvoked with: array([[-1.12148427, -1.17042627, -1.17042627],\n       [-1.12148427, -1.17042627, -0.83601876],\n       [-1.12148427, -1.17042627, -0.50161126],\n       ...,\n       [-0.5857096 ,  0.59181543,  0.45837439],\n       [-0.45920594,  0.67214076,  0.46946989],\n       [-0.43508849,  0.73501765,  0.41761272]]), <Closed HDF5 file>"
     ]
    }
   ],
   "source": [
    "L = igl.cotmatrix(v, f)\n",
    "M = igl.massmatrix(v, f)\n",
    "\n",
    "# assemble M_inv\n",
    "M_inv_rows = np.array([i for i in range(M.shape[0])])\n",
    "M_inv_cols = np.array([i for i in range(M.shape[1])])\n",
    "M_inv_data = np.array([1.0/M[i,i] for i in M_inv_rows])\n",
    "size = len(M_inv_cols)\n",
    "M_inv = sparse.csc_matrix((M_inv_data, (M_inv_rows, M_inv_cols)), shape=(size, size))\n",
    "\n",
    "A = (-L) @ M_inv @ (-L)"
   ]
  },
  {
   "cell_type": "code",
   "execution_count": null,
   "metadata": {},
   "outputs": [],
   "source": [
    "L = igl.cotmatrix(v, f)\n",
    "# M = igl.massmatrix(v, f)\n",
    "M = np.identity(L.shape[1])\n",
    "\n",
    "# # assemble M_inv\n",
    "# M_inv_rows = np.array([i for i in range(M.shape[0])])\n",
    "# M_inv_cols = np.array([i for i in range(M.shape[1])])\n",
    "# M_inv_data = np.array([1.0/M[i,i] for i in M_inv_rows])\n",
    "# size = len(M_inv_cols)\n",
    "# M_inv = sparse.csc_matrix((M_inv_data, (M_inv_rows, M_inv_cols)), shape=(size, size))\n",
    "\n",
    "A = (-L) @ M_inv @ (-L)"
   ]
  },
  {
   "cell_type": "code",
   "execution_count": 63,
   "metadata": {},
   "outputs": [
    {
     "name": "stdout",
     "output_type": "stream",
     "text": [
      "\n"
     ]
    }
   ],
   "source": [
    "\n",
    "\n",
    "local2global = np.loadtxt(\"../../build/icosphere_surface_correct_tri_to_tet_v_map.txt\").astype(np.int32)\n",
    "m = mio.read(\"../../build/test_linear_high_order_tetmesh.msh\")\n",
    "v = m.points\n",
    "b = -(A @ v[local2global, :])\n",
    "\n",
    "A_rows, A_cols, A_values = scipy.sparse.find(A)\n",
    "\n",
    "\n",
    "with h5py.File(\"softj.hdf5\", 'w') as f:\n",
    "    f.create_dataset(\"b\", data=b)\n",
    "    f.create_dataset(\"A_triplets/values\", data=A_values)\n",
    "    f.create_dataset(\"A_triplets/cols\", data=A_cols)\n",
    "    f.create_dataset(\"A_triplets/rows\", data=A_rows)\n",
    "\n",
    "    f.create_dataset(\"weight\", data=1e9)"
   ]
  },
  {
   "cell_type": "code",
   "execution_count": 59,
   "metadata": {},
   "outputs": [
    {
     "data": {
      "text/plain": [
       "array([ 2.24138661e+04,  1.83449172e+03,  1.02408583e+01, ...,\n",
       "        2.44864355e+02, -1.95889651e+03,  3.67292774e+03])"
      ]
     },
     "execution_count": 59,
     "metadata": {},
     "output_type": "execute_result"
    }
   ],
   "source": [
    "A_"
   ]
  },
  {
   "cell_type": "code",
   "execution_count": 44,
   "metadata": {},
   "outputs": [],
   "source": []
  },
  {
   "cell_type": "code",
   "execution_count": 135,
   "metadata": {},
   "outputs": [],
   "source": [
    "bilap_file = \"../../build/icosphere_bilaplacian_nodes.obj\"\n",
    "v, _, _, f, _, _ = igl.read_obj(bilap_file)"
   ]
  },
  {
   "cell_type": "code",
   "execution_count": 136,
   "metadata": {},
   "outputs": [],
   "source": [
    "def lap(v, f):\n",
    "    a = igl.adjacency_matrix(f)\n",
    "    # print(a)\n",
    "    # Sum each row\n",
    "    a_sum = np.sum(a, axis=1)\n",
    "    a_sum = np.array(a_sum)[:,0]\n",
    "    # print(a_sum.shape)\n",
    "    # print(a_sum.shape)\n",
    "    # a_sum_p = np.array([l[0] for l in a_sum])\n",
    "    # Convert row sums into diagonal of sparse matrix\n",
    "    a_diag = sparse.diags(a_sum)\n",
    "    # print(a_diag)\n",
    "    # a_diag = sparse.diags(a_sum_p)\n",
    "    # Build uniform laplacian\n",
    "    u = a - a_diag\n",
    "\n",
    "    u = u / a_sum\n",
    "    # print(u)\n",
    "\n",
    "    return u\n",
    "\n",
    "u = lap(v, f)\n",
    "# print(u)"
   ]
  },
  {
   "cell_type": "code",
   "execution_count": 141,
   "metadata": {},
   "outputs": [
    {
     "name": "stdout",
     "output_type": "stream",
     "text": [
      "\n",
      "[-1.          0.1         0.1        ...  0.33333333  0.33333333\n",
      " -1.        ]\n"
     ]
    }
   ],
   "source": [
    "local2global = np.loadtxt(\"../../build/icosphere_surface_correct_tri_to_tet_v_map.txt\").astype(np.int32)\n",
    "m = mio.read(\"../../build/test_linear_high_order_tetmesh.msh\")\n",
    "v = m.points\n",
    "A = u.copy()\n",
    "b = -(A @ v[local2global, :])\n",
    "\n",
    "A_p = A.tocoo(True)\n",
    "print(A_p.data)\n",
    "\n",
    "# A_rows, A_cols, A_values = scipy.sparse.find(A)\n",
    "# print(A_values)\n",
    "# print(A)\n",
    "\n",
    "with h5py.File(\"softj.hdf5\", 'w') as file:\n",
    "    file.create_dataset(\"b\", data=b)\n",
    "    file.create_dataset(\"A_triplets/values\", data=A_p.data)\n",
    "    file.create_dataset(\"A_triplets/cols\", data=A_p.col)\n",
    "    file.create_dataset(\"A_triplets/rows\", data=A_p.row)\n",
    "    \n",
    "    file.create_dataset(\"weight\", data=1e9)"
   ]
  },
  {
   "cell_type": "code",
   "execution_count": 190,
   "metadata": {},
   "outputs": [
    {
     "name": "stdout",
     "output_type": "stream",
     "text": [
      "\n"
     ]
    }
   ],
   "source": [
    "def bilap(v, f):\n",
    "    L = igl.cotmatrix(v, f)\n",
    "    M = igl.massmatrix(v, f)\n",
    "\n",
    "    # assemble M_inv\n",
    "    M_inv_rows = np.array([i for i in range(M.shape[0])])\n",
    "    M_inv_cols = np.array([i for i in range(M.shape[1])])\n",
    "    M_inv_data = np.array([1.0/M[i,i] for i in M_inv_rows])\n",
    "    size = len(M_inv_cols)\n",
    "    M_inv = sparse.csc_matrix((M_inv_data, (M_inv_rows, M_inv_cols)), shape=(size, size))\n",
    "\n",
    "    return M_inv @ L\n",
    "\n",
    "\n",
    "bilap_file = \"../../build/icosphere_bilaplacian_nodes.obj\"\n",
    "vvv, _, _, f, _, _ = igl.read_obj(bilap_file)\n",
    "xx = bilap(vvv, f)\n",
    "\n",
    "local2global = np.loadtxt(\"../../build/icosphere_surface_correct_tri_to_tet_v_map.txt\").astype(np.int32)\n",
    "m = mio.read(\"../../build/test_linear_high_order_tetmesh.msh\")\n",
    "v = m.points\n",
    "\n",
    "lamb = 1e-3\n",
    "\n",
    "A = sparse.identity(xx.shape[0]) - lamb * xx.copy()\n",
    "b = lamb * xx.copy() * v[local2global, :]\n",
    "# b = -(A @ v[local2global, :])\n",
    "d_r = scipy.sparse.linalg.spsolve(A, b)\n",
    "\n",
    "V_r =  v[local2global, :] + d_r\n",
    "igl.write_obj(\"test_lap.obj\", V_r, f)\n",
    "\n",
    "A_p = A.tocoo(True)\n",
    "# print(A_p.data)\n",
    "\n",
    "A_rows, A_cols, A_values = scipy.sparse.find(A)\n",
    "# print(A_values)\n",
    "# print(A)\n",
    "\n",
    "with h5py.File(\"soft_i_1e_3.hdf5\", 'w') as file:\n",
    "    file.create_dataset(\"b\", data=b)\n",
    "    file.create_dataset(\"A_triplets/values\", data=A_p.data)\n",
    "    file.create_dataset(\"A_triplets/cols\", data=A_p.col)\n",
    "    file.create_dataset(\"A_triplets/rows\", data=A_p.row)\n",
    "    file.create_dataset(\"local2global\", data=local2global.astype(np.int32))\n",
    "    \n",
    "    # file.create_dataset(\"weight\", data=1e9)"
   ]
  },
  {
   "cell_type": "code",
   "execution_count": 181,
   "metadata": {},
   "outputs": [],
   "source": [
    "V = vvv.copy()\n",
    "\n",
    "for i in range(1000):\n",
    "    V = V + 1e-4 * xx @ V "
   ]
  },
  {
   "cell_type": "code",
   "execution_count": 182,
   "metadata": {},
   "outputs": [
    {
     "data": {
      "text/plain": [
       "True"
      ]
     },
     "execution_count": 182,
     "metadata": {},
     "output_type": "execute_result"
    }
   ],
   "source": [
    "igl.write_obj(\"test_lap.obj\", V, f)"
   ]
  },
  {
   "cell_type": "code",
   "execution_count": null,
   "metadata": {},
   "outputs": [],
   "source": []
  }
 ],
 "metadata": {
  "kernelspec": {
   "display_name": "base",
   "language": "python",
   "name": "python3"
  },
  "language_info": {
   "codemirror_mode": {
    "name": "ipython",
    "version": 3
   },
   "file_extension": ".py",
   "mimetype": "text/x-python",
   "name": "python",
   "nbconvert_exporter": "python",
   "pygments_lexer": "ipython3",
   "version": "3.11.5"
  }
 },
 "nbformat": 4,
 "nbformat_minor": 2
}
