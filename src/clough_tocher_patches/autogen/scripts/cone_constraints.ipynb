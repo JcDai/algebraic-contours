{
 "cells": [
  {
   "cell_type": "code",
   "execution_count": 1,
   "metadata": {},
   "outputs": [],
   "source": [
    "from sympy import symbols, Eq, solve, collect, expand\n",
    "from sympy.printing import ccode"
   ]
  },
  {
   "cell_type": "code",
   "execution_count": 4,
   "metadata": {},
   "outputs": [],
   "source": [
    "p_i, p_j, p_ij, p_ji, p_ic, p_jc, p_ijm, p_ci, p_cj = symbols('p_i p_j p_ij p_ji p_ic p_jc p_ijm p_ci p_cj')\n",
    "h_01 = symbols('h_01')\n",
    "\n",
    "C_em = [-3./8. , -3./8., -9./8., -9./8., 3./4., 3./4., 3./2.]"
   ]
  },
  {
   "cell_type": "code",
   "execution_count": 11,
   "metadata": {},
   "outputs": [],
   "source": [
    "constraints = [\n",
    "    Eq(h_01, C_em[0]*p_i + C_em[1]*p_j + C_em[2]*p_ij + C_em[3]*p_ji + C_em[4]*p_ic + C_em[5]* p_jc + C_em[6]* p_ijm),\n",
    "    Eq(p_ic, (p_i + p_ij + p_ci)/3.),\n",
    "    Eq(p_jc, (p_j + p_ji + p_cj)/3.)\n",
    "]\n",
    "\n",
    "dep_vars = [h_01, p_ic, p_jc]\n",
    "vars_list = [p_i, p_j, p_ij, p_ji, p_ci, p_cj, p_ijm]"
   ]
  },
  {
   "cell_type": "code",
   "execution_count": 12,
   "metadata": {},
   "outputs": [],
   "source": [
    "solution = solve(constraints, dep_vars, dict=True)[0]"
   ]
  },
  {
   "cell_type": "code",
   "execution_count": 13,
   "metadata": {},
   "outputs": [
    {
     "data": {
      "text/plain": [
       "{h_01: 0.25*p_ci + 0.25*p_cj - 0.125*p_i - 0.875*p_ij + 1.5*p_ijm - 0.125*p_j - 0.875*p_ji,\n",
       " p_ic: 0.333333333333333*p_ci + 0.333333333333333*p_i + 0.333333333333333*p_ij,\n",
       " p_jc: 0.333333333333333*p_cj + 0.333333333333333*p_j + 0.333333333333333*p_ji}"
      ]
     },
     "execution_count": 13,
     "metadata": {},
     "output_type": "execute_result"
    }
   ],
   "source": [
    "solution"
   ]
  },
  {
   "cell_type": "code",
   "execution_count": 14,
   "metadata": {},
   "outputs": [
    {
     "name": "stdout",
     "output_type": "stream",
     "text": [
      "double h_01[] = { -0.125, -0.125, -0.875, -0.875, 0.25, 0.25, 1.5 };\n",
      "double p_ic[] = { 0.33333333333333331, 0, 0.33333333333333331, 0, 0.33333333333333331, 0, 0 };\n",
      "double p_jc[] = { 0, 0.33333333333333331, 0, 0.33333333333333331, 0, 0.33333333333333331, 0 };\n"
     ]
    }
   ],
   "source": [
    "for var in dep_vars:\n",
    "        expr = expand(solution[var])\n",
    "        coeffs = [collect(expr, v, evaluate=False).get(v, 0) for v in vars_list]\n",
    "        coeffs_str = \", \".join(ccode(c) for c in coeffs)\n",
    "        print(f\"double {str(var)}[] = {{ {coeffs_str} }};\")"
   ]
  },
  {
   "cell_type": "code",
   "execution_count": 1,
   "metadata": {},
   "outputs": [],
   "source": [
    "from cone_constraints import *"
   ]
  },
  {
   "cell_type": "code",
   "execution_count": 2,
   "metadata": {},
   "outputs": [
    {
     "name": "stdout",
     "output_type": "stream",
     "text": [
      "// xji\n",
      "res[0] = {{  1, niy/nix, niz/nix, 0, 0, 0, -niy/nix, -niz/nix, 0, 0, 0, 0, 0 }};\n",
      "// xmij\n",
      "res[1] = {{  1, niy/nix, niz/nix, 0, 0, 0, 0, 0, 0, 0, 0, -niy/nix, -niz/nix }};\n",
      "// xmij_p\n",
      "res[2] = {{  a1c*a5m + a1m + a3m + a6m, a1c*a5m*niy/nix + a3m*niy/nix + a6m*niy/nix, a1c*a5m*niz/nix + a3m*niz/nix + a6m*niz/nix, a2c*a5m + a2m, 0, 0, -a1c*a5m*niy/nix - a3m*niy/nix, -a1c*a5m*niz/nix - a3m*niz/nix, a3c*a5m + a4m, 0, 0, -a6m*niy/nix, -a6m*niz/nix }};\n",
      "// ymij_p\n",
      "res[3] = {{  0, a1m, 0, 0, a2c*a5m + a2m, 0, a1c*a5m + a3m, 0, 0, a3c*a5m + a4m, 0, a6m, 0 }};\n",
      "// zmij_p\n",
      "res[4] = {{  0, 0, a1m, 0, 0, a2c*a5m + a2m, 0, a1c*a5m + a3m, 0, 0, a3c*a5m + a4m, 0, a6m }};\n",
      "// xcj_p\n",
      "res[5] = {{  a1c, a1c*niy/nix, a1c*niz/nix, a2c, 0, 0, -a1c*niy/nix, -a1c*niz/nix, a3c, 0, 0, 0, 0 }};\n",
      "// ycj_p\n",
      "res[6] = {{  0, 0, 0, 0, a2c, 0, a1c, 0, 0, a3c, 0, 0, 0 }};\n",
      "// zcj_p\n",
      "res[7] = {{  0, 0, 0, 0, 0, a2c, 0, a1c, 0, 0, a3c, 0, 0 }};\n"
     ]
    }
   ],
   "source": [
    "generate_cone_constraint_coeffs_x()"
   ]
  },
  {
   "cell_type": "code",
   "execution_count": 3,
   "metadata": {},
   "outputs": [
    {
     "name": "stdout",
     "output_type": "stream",
     "text": [
      "// yji\n",
      "res[0] = {{  nix/niy, 1, niz/niy, 0, 0, 0, -nix/niy, -niz/niy, 0, 0, 0, 0, 0 }};\n",
      "// ymij\n",
      "res[1] = {{  nix/niy, 1, niz/niy, 0, 0, 0, 0, 0, 0, 0, 0, -nix/niy, -niz/niy }};\n",
      "// xmij_p\n",
      "res[2] = {{  a1m, 0, 0, a2c*a5m + a2m, 0, 0, a1c*a5m + a3m, 0, a3c*a5m + a4m, 0, 0, a6m, 0 }};\n",
      "// ymij_p\n",
      "res[3] = {{  a1c*a5m*nix/niy + a3m*nix/niy + a6m*nix/niy, a1c*a5m + a1m + a3m + a6m, a1c*a5m*niz/niy + a3m*niz/niy + a6m*niz/niy, 0, a2c*a5m + a2m, 0, -a1c*a5m*nix/niy - a3m*nix/niy, -a1c*a5m*niz/niy - a3m*niz/niy, 0, a3c*a5m + a4m, 0, -a6m*nix/niy, -a6m*niz/niy }};\n",
      "// zmij_p\n",
      "res[4] = {{  0, 0, a1m, 0, 0, a2c*a5m + a2m, 0, a1c*a5m + a3m, 0, 0, a3c*a5m + a4m, 0, a6m }};\n",
      "// xcj_p\n",
      "res[5] = {{  0, 0, 0, a2c, 0, 0, a1c, 0, a3c, 0, 0, 0, 0 }};\n",
      "// ycj_p\n",
      "res[6] = {{  a1c*nix/niy, a1c, a1c*niz/niy, 0, a2c, 0, -a1c*nix/niy, -a1c*niz/niy, 0, a3c, 0, 0, 0 }};\n",
      "// zcj_p\n",
      "res[7] = {{  0, 0, 0, 0, 0, a2c, 0, a1c, 0, 0, a3c, 0, 0 }};\n"
     ]
    }
   ],
   "source": [
    "generate_cone_constraint_coeffs_y()"
   ]
  },
  {
   "cell_type": "code",
   "execution_count": 4,
   "metadata": {},
   "outputs": [
    {
     "name": "stdout",
     "output_type": "stream",
     "text": [
      "// zji\n",
      "res[0] = {{  nix/niz, niy/niz, 1, 0, 0, 0, -nix/niz, -niy/niz, 0, 0, 0, 0, 0 }};\n",
      "// zmij\n",
      "res[1] = {{  nix/niz, niy/niz, 1, 0, 0, 0, 0, 0, 0, 0, 0, -nix/niz, -niy/niz }};\n",
      "// xmij_p\n",
      "res[2] = {{  a1m, 0, 0, a2c*a5m + a2m, 0, 0, a1c*a5m + a3m, 0, a3c*a5m + a4m, 0, 0, a6m, 0 }};\n",
      "// ymij_p\n",
      "res[3] = {{  0, a1m, 0, 0, a2c*a5m + a2m, 0, 0, a1c*a5m + a3m, 0, a3c*a5m + a4m, 0, 0, a6m }};\n",
      "// zmij_p\n",
      "res[4] = {{  a1c*a5m*nix/niz + a3m*nix/niz + a6m*nix/niz, a1c*a5m*niy/niz + a3m*niy/niz + a6m*niy/niz, a1c*a5m + a1m + a3m + a6m, 0, 0, a2c*a5m + a2m, -a1c*a5m*nix/niz - a3m*nix/niz, -a1c*a5m*niy/niz - a3m*niy/niz, 0, 0, a3c*a5m + a4m, -a6m*nix/niz, -a6m*niy/niz }};\n",
      "// xcj_p\n",
      "res[5] = {{  0, 0, 0, a2c, 0, 0, a1c, 0, a3c, 0, 0, 0, 0 }};\n",
      "// ycj_p\n",
      "res[6] = {{  0, 0, 0, 0, a2c, 0, 0, a1c, 0, a3c, 0, 0, 0 }};\n",
      "// zcj_p\n",
      "res[7] = {{  a1c*nix/niz, a1c*niy/niz, a1c, 0, 0, a2c, -a1c*nix/niz, -a1c*niy/niz, 0, 0, a3c, 0, 0 }};\n"
     ]
    }
   ],
   "source": [
    "generate_cone_constraint_coeffs_z()"
   ]
  },
  {
   "cell_type": "code",
   "execution_count": 5,
   "metadata": {},
   "outputs": [
    {
     "name": "stdout",
     "output_type": "stream",
     "text": [
      "// xij\n",
      "res[0] = {{  0, 0, 0, 1, niy/nix, niz/nix, -niy/nix, -niz/nix, 0, 0, 0, 0, 0 }};\n",
      "// xmij\n",
      "res[1] = {{  0, 0, 0, 1, niy/nix, niz/nix, 0, 0, 0, 0, 0, -niy/nix, -niz/nix }};\n",
      "// xmij_p\n",
      "res[2] = {{  a1m + a2c*a5m, 0, 0, a1c*a5m + a2m + a3m + a6m, a1c*a5m*niy/nix + a3m*niy/nix + a6m*niy/nix, a1c*a5m*niz/nix + a3m*niz/nix + a6m*niz/nix, -a1c*a5m*niy/nix - a3m*niy/nix, -a1c*a5m*niz/nix - a3m*niz/nix, a3c*a5m + a4m, 0, 0, -a6m*niy/nix, -a6m*niz/nix }};\n",
      "// ymij_p\n",
      "res[3] = {{  0, a1m + a2c*a5m, 0, 0, a2m, 0, a1c*a5m + a3m, 0, 0, a3c*a5m + a4m, 0, a6m, 0 }};\n",
      "// zmij_p\n",
      "res[4] = {{  0, 0, a1m + a2c*a5m, 0, 0, a2m, 0, a1c*a5m + a3m, 0, 0, a3c*a5m + a4m, 0, a6m }};\n",
      "// xci_p\n",
      "res[5] = {{  a2c, 0, 0, a1c, a1c*niy/nix, a1c*niz/nix, -a1c*niy/nix, -a1c*niz/nix, a3c, 0, 0, 0, 0 }};\n",
      "// yci_p\n",
      "res[6] = {{  0, a2c, 0, 0, 0, 0, a1c, 0, 0, a3c, 0, 0, 0 }};\n",
      "// zci_p\n",
      "res[7] = {{  0, 0, a2c, 0, 0, 0, 0, a1c, 0, 0, a3c, 0, 0 }};\n"
     ]
    }
   ],
   "source": [
    "generate_cone_constraint_coeffs_x_rev()"
   ]
  },
  {
   "cell_type": "code",
   "execution_count": 6,
   "metadata": {},
   "outputs": [
    {
     "name": "stdout",
     "output_type": "stream",
     "text": [
      "// yij\n",
      "res[0] = {{  0, 0, 0, nix/niy, 1, niz/niy, -nix/niy, -niz/niy, 0, 0, 0, 0, 0 }};\n",
      "// ymij\n",
      "res[1] = {{  0, 0, 0, nix/niy, 1, niz/niy, 0, 0, 0, 0, 0, -nix/niy, -niz/niy }};\n",
      "// xmij_p\n",
      "res[2] = {{  a1m + a2c*a5m, 0, 0, a2m, 0, 0, a1c*a5m + a3m, 0, a3c*a5m + a4m, 0, 0, a6m, 0 }};\n",
      "// ymij_p\n",
      "res[3] = {{  0, a1m + a2c*a5m, 0, a1c*a5m*nix/niy + a3m*nix/niy + a6m*nix/niy, a1c*a5m + a2m + a3m + a6m, a1c*a5m*niz/niy + a3m*niz/niy + a6m*niz/niy, -a1c*a5m*nix/niy - a3m*nix/niy, -a1c*a5m*niz/niy - a3m*niz/niy, 0, a3c*a5m + a4m, 0, -a6m*nix/niy, -a6m*niz/niy }};\n",
      "// zmij_p\n",
      "res[4] = {{  0, 0, a1m + a2c*a5m, 0, 0, a2m, 0, a1c*a5m + a3m, 0, 0, a3c*a5m + a4m, 0, a6m }};\n",
      "// xci_p\n",
      "res[5] = {{  a2c, 0, 0, 0, 0, 0, a1c, 0, a3c, 0, 0, 0, 0 }};\n",
      "// yci_p\n",
      "res[6] = {{  0, a2c, 0, a1c*nix/niy, a1c, a1c*niz/niy, -a1c*nix/niy, -a1c*niz/niy, 0, a3c, 0, 0, 0 }};\n",
      "// zci_p\n",
      "res[7] = {{  0, 0, a2c, 0, 0, 0, 0, a1c, 0, 0, a3c, 0, 0 }};\n"
     ]
    }
   ],
   "source": [
    "generate_cone_constraint_coeffs_y_rev()"
   ]
  },
  {
   "cell_type": "code",
   "execution_count": 7,
   "metadata": {},
   "outputs": [
    {
     "name": "stdout",
     "output_type": "stream",
     "text": [
      "// zij\n",
      "res[0] = {{  0, 0, 0, nix/niz, niy/niz, 1, -nix/niz, -niy/niz, 0, 0, 0, 0, 0 }};\n",
      "// zmij\n",
      "res[1] = {{  0, 0, 0, nix/niz, niy/niz, 1, 0, 0, 0, 0, 0, -nix/niz, -niy/niz }};\n",
      "// xmij_p\n",
      "res[2] = {{  a1m + a2c*a5m, 0, 0, a2m, 0, 0, a1c*a5m + a3m, 0, a3c*a5m + a4m, 0, 0, a6m, 0 }};\n",
      "// ymij_p\n",
      "res[3] = {{  0, a1m + a2c*a5m, 0, 0, a2m, 0, 0, a1c*a5m + a3m, 0, a3c*a5m + a4m, 0, 0, a6m }};\n",
      "// zmij_p\n",
      "res[4] = {{  0, 0, a1m + a2c*a5m, a1c*a5m*nix/niz + a3m*nix/niz + a6m*nix/niz, a1c*a5m*niy/niz + a3m*niy/niz + a6m*niy/niz, a1c*a5m + a2m + a3m + a6m, -a1c*a5m*nix/niz - a3m*nix/niz, -a1c*a5m*niy/niz - a3m*niy/niz, 0, 0, a3c*a5m + a4m, -a6m*nix/niz, -a6m*niy/niz }};\n",
      "// xci_p\n",
      "res[5] = {{  a2c, 0, 0, 0, 0, 0, a1c, 0, a3c, 0, 0, 0, 0 }};\n",
      "// yci_p\n",
      "res[6] = {{  0, a2c, 0, 0, 0, 0, 0, a1c, 0, a3c, 0, 0, 0 }};\n",
      "// zci_p\n",
      "res[7] = {{  0, 0, a2c, a1c*nix/niz, a1c*niy/niz, a1c, -a1c*nix/niz, -a1c*niy/niz, 0, 0, a3c, 0, 0 }};\n"
     ]
    }
   ],
   "source": [
    "generate_cone_constraint_coeffs_z_rev()"
   ]
  },
  {
   "cell_type": "code",
   "execution_count": 1,
   "metadata": {},
   "outputs": [],
   "source": [
    "from sympy import symbols, Eq, solve, collect, expand\n",
    "from sympy.printing import ccode"
   ]
  },
  {
   "cell_type": "code",
   "execution_count": 20,
   "metadata": {},
   "outputs": [
    {
     "name": "stdout",
     "output_type": "stream",
     "text": [
      "// yji\n",
      "res[0] = {{  nix/niy, 1, niz/niy, 0, 0, 0, -nix/niy, -niz/niy, 0, 0, 0, 0, 0 }};\n",
      "// ymij\n",
      "res[1] = {{  nix/niy, 1, niz/niy, 0, 0, 0, 0, 0, 0, 0, -nix/niy, -niz/niy, 0 }};\n",
      "// xmij_p\n",
      "res[2] = {{  a1m, 0, 0, a2c*a5m + a2m, 0, 0, a1c*a5m + a3m, 0, a3c*a5m + a4m, 0, a6m, 0, 0 }};\n",
      "// ymij_p\n",
      "res[3] = {{  a1c*a5m*nix/niy + a3m*nix/niy + a6m*nix/niy, a1c*a5m + a1m + a3m + a6m, a1c*a5m*niz/niy + a3m*niz/niy + a6m*niz/niy, 0, a2c*a5m + a2m, 0, -a1c*a5m*nix/niy - a3m*nix/niy, -a1c*a5m*niz/niy - a3m*niz/niy, 0, 0, -a6m*nix/niy, -a6m*niz/niy, a3c*a5m + a4m }};\n",
      "// zmij_p\n",
      "res[4] = {{  0, 0, a1m, 0, 0, a2c*a5m + a2m, 0, a1c*a5m + a3m, 0, a3c*a5m + a4m, 0, a6m, 0 }};\n",
      "// xcj_p\n",
      "res[5] = {{  0, 0, 0, a2c, 0, 0, a1c, 0, a3c, 0, 0, 0, 0 }};\n",
      "// ycj_p\n",
      "res[6] = {{  a1c*nix/niy, a1c, a1c*niz/niy, 0, a2c, 0, -a1c*nix/niy, -a1c*niz/niy, 0, 0, 0, 0, a3c }};\n",
      "// zcj_p\n",
      "res[7] = {{  0, 0, 0, 0, 0, a2c, 0, a1c, 0, a3c, 0, 0, 0 }};\n"
     ]
    }
   ],
   "source": [
    "\n",
    "x_i, y_i, z_i, xj, yj, zj, xji, yji, zji = symbols(\n",
    "    'x_i y_i z_i xj yj zj xji yji zji')\n",
    "xcj, xcj_p, ycj, ycj_p, zcj, zcj_p = symbols(\n",
    "    'xcj xcj_p ycj ycj_p zcj zcj_p')\n",
    "xmij, xmij_p, ymij, ymij_p, zmij, zmij_p = symbols(\n",
    "    'xmij xmij_p ymij ymij_p zmij zmij_p')\n",
    "a1c, a2c, a3c, a1m, a2m, a3m, a4m, a5m, a6m = symbols(\n",
    "    'a1c a2c a3c a1m a2m a3m a4m a5m a6m')\n",
    "nix, niy, niz = symbols('nix niy niz')\n",
    "dep_vars = [yji, ymij, xmij_p, ymij_p, zmij_p, xcj_p, ycj_p, zcj_p]\n",
    "vars_list = [x_i, y_i, z_i, xj, yj, zj, xji, zji, xcj, zcj, xmij, zmij, ycj]\n",
    "constraints = [\n",
    "    Eq(xcj_p, a1c*xji + a2c*xj + a3c*xcj),\n",
    "    Eq(ycj_p, a1c*yji + a2c*yj + a3c*ycj),\n",
    "    Eq(zcj_p, a1c*zji + a2c*zj + a3c*zcj),\n",
    "    Eq(xmij_p, a1m*x_i + a2m*xj + a3m*xji + a4m*xcj + a5m*xcj_p + a6m*xmij),\n",
    "    Eq(ymij_p, a1m*y_i + a2m*yj + a3m*yji + a4m*ycj + a5m*ycj_p + a6m*ymij),\n",
    "    Eq(zmij_p, a1m*z_i + a2m*zj + a3m*zji + a4m*zcj + a5m*zcj_p + a6m*zmij),\n",
    "    Eq(nix*(xji - x_i) + niy*(yji-y_i) + niz*(zji-z_i), 0),\n",
    "    Eq(nix*(xmij - x_i) + niy*(ymij-y_i) + niz*(zmij-z_i), 0),\n",
    "    # Eq(nix*(xmij_p - x_i) + niy*(ymij_p-y_i) + niz*(zmij_p-z_i), 0)\n",
    "]\n",
    "solution = solve(constraints, dep_vars, dict=True)[0]\n",
    "for i, var in enumerate(dep_vars):\n",
    "    expr = expand(solution[var])\n",
    "    coeffs = [collect(expr, v, evaluate=False).get(v, 0)\n",
    "              for v in vars_list]\n",
    "    coeffs_str = \", \".join(ccode(c) for c in coeffs)\n",
    "    print(f\"// {str(var)}\")\n",
    "    print(f\"res[{i}] = {{{{  {coeffs_str} }}}};\")"
   ]
  },
  {
   "cell_type": "code",
   "execution_count": 11,
   "metadata": {},
   "outputs": [],
   "source": [
    "sub_vars = [nix, niy, niz, a1c, a2c, a3c, a1m, a2m, a3m, a4m, a5m, a6m]\n",
    "# sub_values = [0.99315969940670223, 1, 0.092121386735560348,0.96266386483706823, 1.5687905460019993, -1.5314544108390675, 1.1647060918920447, 0.26146509100033311, 1.5271922964198665, -0.25524240180651103, -0.16666666666666666, -1.5314544108390664 ]\n",
    "# sub_values = [1,1,1,1,1,1,1,1,1,1,1,1]\n",
    "sub_values = [0.65890314337292333, -0.73992015822978896, -0.13551681481825401,-0.87254408049436938, 3.0278120691974753, -1.1552679887031059,0.42757463606957835, 0.50463534486624617, 1.5822693392177987, -0.19254466478385093, -0.16666666666666666, -1.1552679887031057 ]\n",
    "replacements = [(sub_vars[i], sub_values[i]) for i in range(12)]"
   ]
  },
  {
   "cell_type": "code",
   "execution_count": null,
   "metadata": {},
   "outputs": [],
   "source": [
    "# expr = a3c * a5m * niy + a4m * niy\n",
    "# expr = -a1c*a5m - a1m - a3m - a6m + 1\n",
    "# expr = -a2c*a5m - a2m\n",
    "# expr = a1c - (-a1m-a3m-a6m +1/a5m)\n",
    "expr = -a1m*nix/(a5m*niy) - a3m*nix/(a5m*niy) - a6m*nix/(a5m*niy) + nix/(a5m*niy)\n",
    "expr = a1c*nix/niy\n"
   ]
  },
  {
   "cell_type": "code",
   "execution_count": 22,
   "metadata": {},
   "outputs": [
    {
     "data": {
      "text/latex": [
       "$\\displaystyle 0.777005506573359$"
      ],
      "text/plain": [
       "0.777005506573359"
      ]
     },
     "execution_count": 22,
     "metadata": {},
     "output_type": "execute_result"
    }
   ],
   "source": [
    "expr.subs(replacements)"
   ]
  },
  {
   "cell_type": "code",
   "execution_count": null,
   "metadata": {},
   "outputs": [],
   "source": [
    "replacements"
   ]
  },
  {
   "cell_type": "code",
   "execution_count": 92,
   "metadata": {},
   "outputs": [
    {
     "data": {
      "text/latex": [
       "$\\displaystyle - 8.0 x_{i} + 1.0 xcj + 8.0 xj + 8.0 y_{i} - 8.0 yj + 3.0 z_{i} - 0.25 zcj - 1.5 zj$"
      ],
      "text/plain": [
       "-8.0*x_i + 1.0*xcj + 8.0*xj + 8.0*y_i - 8.0*yj + 3.0*z_i - 0.25*zcj - 1.5*zj"
      ]
     },
     "execution_count": 92,
     "metadata": {},
     "output_type": "execute_result"
    }
   ],
   "source": [
    "solution[ycj].subs(replacements)"
   ]
  },
  {
   "cell_type": "code",
   "execution_count": 63,
   "metadata": {},
   "outputs": [],
   "source": [
    "expr =  -a1c*a5m*nix/(a3c*a5m*niy + a4m*niy) - a1m*nix/(a3c*a5m*niy + a4m*niy) - a3m*nix/(a3c*a5m*niy + a4m*niy) - a6m*nix/(a3c*a5m*niy + a4m*niy) + nix/(a3c*a5m*niy + a4m*niy)"
   ]
  },
  {
   "cell_type": "code",
   "execution_count": 64,
   "metadata": {},
   "outputs": [
    {
     "data": {
      "text/latex": [
       "$\\displaystyle 0$"
      ],
      "text/plain": [
       "0"
      ]
     },
     "execution_count": 64,
     "metadata": {},
     "output_type": "execute_result"
    }
   ],
   "source": [
    "expr.subs(replacements)"
   ]
  },
  {
   "cell_type": "code",
   "execution_count": 58,
   "metadata": {},
   "outputs": [
    {
     "name": "stdout",
     "output_type": "stream",
     "text": [
      "// yji\n",
      "res[0] = {{  0.99315969940670223, 1.0, 0.092121386735560348, 0, 0, 0, -0.99315969940670223, -0.092121386735560348, 0, 0, 0, 0 }};\n",
      "// ymij\n",
      "res[1] = {{  0.99315969940670223, 1.0, 0.092121386735560348, 0, 0, 0, 0, 0, 0, 0, -0.99315969940670223, -0.092121386735560348 }};\n",
      "// xmij_p\n",
      "res[2] = {{  1.1647060918920447, 0, 0, -1.1102230246251565e-16, 0, 0, 1.3667483189470218, 0, 2.2204460492503131e-16, 0, -1.5314544108390664, 0 }};\n",
      "// ymij_p\n",
      "res[3] = {{  -0.1635794527139558, 1.0, -0.015172953588889787, 5.5511151231257827e-17, 0, 1.0408340855860843e-17, -1.3573993496100398, -0.12590675045989558, -2.2204460492503131e-16, -2.0816681711721685e-17, 1.5209788023239954, 0.14107970404878536 }};\n",
      "// zmij_p\n",
      "res[4] = {{  0, 0, 1.1647060918920447, 0, 0, -1.1102230246251565e-16, 0, 1.3667483189470218, 0, 2.2204460492503131e-16, 0, -1.5314544108390664 }};\n",
      "// ycj\n",
      "res[5] = {{  -1.0, 1.0, 0, 0.60000000000000009, 0.40000000000000002, 0.025000000000000001, 0, 0, -1.0, -0.075000000000000011, 0, 0 }};\n",
      "// xcj_p\n",
      "res[6] = {{  0, 0, 0, 1.5687905460019993, 0, 0, 0.96266386483706823, 0, -1.5314544108390675, 0, 0, 0 }};\n",
      "// ycj_p\n",
      "res[7] = {{  2.0, 0, 0, -1.2000000000000002, 0.80000000000000004, -0.075000000000000011, -1.0, -0.10000000000000001, 2.0, 0.17500000000000002, 0, 0 }};\n",
      "// zcj_p\n",
      "res[8] = {{  0, 0, 0, 0, 0, 1.5687905460019993, 0, 0.96266386483706823, 0, -1.5314544108390675, 0, 0 }};\n"
     ]
    }
   ],
   "source": [
    "sub_solution = {}\n",
    "for var in dep_vars:\n",
    "    sub_solution[var] = solution[var].subs(replacements)\n",
    "\n",
    "for i, var in enumerate(dep_vars):\n",
    "    expr = expand(sub_solution[var])\n",
    "    coeffs = [collect(expr, v, evaluate=False).get(v, 0)\n",
    "              for v in vars_list]\n",
    "    coeffs_str = \", \".join(ccode(c) for c in coeffs)\n",
    "    print(f\"// {str(var)}\")\n",
    "    print(f\"res[{i}] = {{{{  {coeffs_str} }}}};\")"
   ]
  },
  {
   "cell_type": "code",
   "execution_count": null,
   "metadata": {},
   "outputs": [
    {
     "data": {
      "text/plain": [
       "{yji: x_i - xji + y_i + z_i - zji,\n",
       " ymij: x_i - xmij + y_i + z_i - zmij,\n",
       " xmij_p: x_i + 2*xcj + 2*xj + 2*xji + xmij,\n",
       " ymij_p: -2*xcj - 2*xj - 2*xji - xmij + y_i - 2*zcj - 2*zj - 2*zji - zmij,\n",
       " zmij_p: z_i + 2*zcj + 2*zj + 2*zji + zmij,\n",
       " ycj: -3*x_i/2 - xcj - xj - 3*y_i/2 - yj - 3*z_i/2 - zcj - zj,\n",
       " xcj_p: xcj + xj + xji,\n",
       " ycj_p: -x_i/2 - xcj - xj - xji - y_i/2 - z_i/2 - zcj - zj - zji,\n",
       " zcj_p: zcj + zj + zji}"
      ]
     },
     "execution_count": 15,
     "metadata": {},
     "output_type": "execute_result"
    }
   ],
   "source": [
    "dep coeff 0 :0.99316, 1, 0.0921214, 0, 0, 0, -0.99316, -0.0921214, 0, 0, 0, 0, \n",
    "dep coeff 1 :0.99316, 1, 0.0921214, 0, 0, 0, 0, 0, 0, 0, -0.99316, -0.0921214, \n",
    "dep coeff 2 :1.16471, 0, 0, -9.65081e-17, 0, 0, 1.36675, 0, 2.07876e-16, 0, -1.53145, 0, \n",
    "dep coeff 3 :-0.163579, 1, -0.015173, 1.66533e-16, 0, 1.04083e-17, -1.3574, -0.125907, -2.22045e-16, -2.08167e-17, 1.52098, 0.14108, \n",
    "dep coeff 4 :0, 0, 1.16471, 0, 0, -9.65081e-17, 0, 1.36675, 0, 2.07876e-16, 0, -1.53145, \n",
    "dep coeff 5 :-1, 2, -0.0625, 0.5, 0.75, 0.046875, 0, 0, -1, -0.09375, 0, 0, \n",
    "dep coeff 6 :0, 0, 0, 1.56879, 0, 0, 0.962664, 0, -1.53145, 0, 0, 0, \n",
    "dep coeff 7 :0, -3, 0, -0.75, 0.75, -0.0625, -1, -0.09375, 1.75, 0.15625, 0, 0, \n",
    "dep coeff 8 :0, 0, 0, 0, 0, 1.56879, 0, 0.962664, 0, -1.53145, 0, 0, "
   ]
  },
  {
   "cell_type": "code",
   "execution_count": 28,
   "metadata": {},
   "outputs": [
    {
     "name": "stdout",
     "output_type": "stream",
     "text": [
      "// yji\n",
      "res[0] = {{  nix/niy, 1, niz/niy, 0, 0, 0, -nix/niy, -niz/niy, 0, 0, 0, 0 }};\n",
      "// ymij\n",
      "res[1] = {{  nix/niy, 1, niz/niy, 0, 0, 0, 0, 0, 0, 0, -nix/niy, -niz/niy }};\n",
      "// xmij_p\n",
      "res[2] = {{  a1m, 0, 0, a2c*a5m + a2m, 0, 0, a1c*a5m + a3m, 0, a3c*a5m + a4m, 0, a6m, 0 }};\n",
      "// ymij_p\n",
      "res[3] = {{  -a1m*nix/niy + nix/niy, 1, -a1m*niz/niy + niz/niy, -a2c*a5m*nix/niy - a2m*nix/niy, 0, -a2c*a5m*niz/niy - a2m*niz/niy, -a1c*a5m*nix/niy - a3m*nix/niy, -a1c*a5m*niz/niy - a3m*niz/niy, -a3c*a5m*nix/niy - a4m*nix/niy, -a3c*a5m*niz/niy - a4m*niz/niy, -a6m*nix/niy, -a6m*niz/niy }};\n",
      "// zmij_p\n",
      "res[4] = {{  0, 0, a1m, 0, 0, a2c*a5m + a2m, 0, a1c*a5m + a3m, 0, a3c*a5m + a4m, 0, a6m }};\n",
      "// ycj\n",
      "res[5] = {{  -a1c*a5m*nix/(a3c*a5m*niy + a4m*niy) - a1m*nix/(a3c*a5m*niy + a4m*niy) - a3m*nix/(a3c*a5m*niy + a4m*niy) - a6m*nix/(a3c*a5m*niy + a4m*niy) + nix/(a3c*a5m*niy + a4m*niy), -a1c*a5m*niy/(a3c*a5m*niy + a4m*niy) - a1m*niy/(a3c*a5m*niy + a4m*niy) - a3m*niy/(a3c*a5m*niy + a4m*niy) - a6m*niy/(a3c*a5m*niy + a4m*niy) + niy/(a3c*a5m*niy + a4m*niy), -a1c*a5m*niz/(a3c*a5m*niy + a4m*niy) - a1m*niz/(a3c*a5m*niy + a4m*niy) - a3m*niz/(a3c*a5m*niy + a4m*niy) - a6m*niz/(a3c*a5m*niy + a4m*niy) + niz/(a3c*a5m*niy + a4m*niy), -a2c*a5m*nix/(a3c*a5m*niy + a4m*niy) - a2m*nix/(a3c*a5m*niy + a4m*niy), -a2c*a5m*niy/(a3c*a5m*niy + a4m*niy) - a2m*niy/(a3c*a5m*niy + a4m*niy), -a2c*a5m*niz/(a3c*a5m*niy + a4m*niy) - a2m*niz/(a3c*a5m*niy + a4m*niy), 0, 0, -a3c*a5m*nix/(a3c*a5m*niy + a4m*niy) - a4m*nix/(a3c*a5m*niy + a4m*niy), -a3c*a5m*niz/(a3c*a5m*niy + a4m*niy) - a4m*niz/(a3c*a5m*niy + a4m*niy), 0, 0 }};\n",
      "// xcj_p\n",
      "res[6] = {{  0, 0, 0, a2c, 0, 0, a1c, 0, a3c, 0, 0, 0 }};\n",
      "// ycj_p\n",
      "res[7] = {{  a1c*a4m*nix/(a3c*a5m*niy + a4m*niy) - a1m*a3c*nix/(a3c*a5m*niy + a4m*niy) - a3c*a3m*nix/(a3c*a5m*niy + a4m*niy) - a3c*a6m*nix/(a3c*a5m*niy + a4m*niy) + a3c*nix/(a3c*a5m*niy + a4m*niy), a1c*a4m*niy/(a3c*a5m*niy + a4m*niy) - a1m*a3c*niy/(a3c*a5m*niy + a4m*niy) - a3c*a3m*niy/(a3c*a5m*niy + a4m*niy) - a3c*a6m*niy/(a3c*a5m*niy + a4m*niy) + a3c*niy/(a3c*a5m*niy + a4m*niy), a1c*a4m*niz/(a3c*a5m*niy + a4m*niy) - a1m*a3c*niz/(a3c*a5m*niy + a4m*niy) - a3c*a3m*niz/(a3c*a5m*niy + a4m*niy) - a3c*a6m*niz/(a3c*a5m*niy + a4m*niy) + a3c*niz/(a3c*a5m*niy + a4m*niy), -a2c*a3c*a5m*nix/(a3c*a5m*niy + a4m*niy) - a2m*a3c*nix/(a3c*a5m*niy + a4m*niy), a2c*a4m*niy/(a3c*a5m*niy + a4m*niy) - a2m*a3c*niy/(a3c*a5m*niy + a4m*niy), -a2c*a3c*a5m*niz/(a3c*a5m*niy + a4m*niy) - a2m*a3c*niz/(a3c*a5m*niy + a4m*niy), -a1c*a3c*a5m*nix/(a3c*a5m*niy + a4m*niy) - a1c*a4m*nix/(a3c*a5m*niy + a4m*niy), -a1c*a3c*a5m*niz/(a3c*a5m*niy + a4m*niy) - a1c*a4m*niz/(a3c*a5m*niy + a4m*niy), -pow(a3c, 2)*a5m*nix/(a3c*a5m*niy + a4m*niy) - a3c*a4m*nix/(a3c*a5m*niy + a4m*niy), -pow(a3c, 2)*a5m*niz/(a3c*a5m*niy + a4m*niy) - a3c*a4m*niz/(a3c*a5m*niy + a4m*niy), 0, 0 }};\n",
      "// zcj_p\n",
      "res[8] = {{  0, 0, 0, 0, 0, a2c, 0, a1c, 0, a3c, 0, 0 }};\n"
     ]
    }
   ],
   "source": [
    "for i, var in enumerate(dep_vars):\n",
    "    expr = expand(solution[var])\n",
    "    coeffs = [collect(expr, v, evaluate=False).get(v, 0)\n",
    "              for v in vars_list]\n",
    "    coeffs_str = \", \".join(ccode(c) for c in coeffs)\n",
    "    print(f\"// {str(var)}\")\n",
    "    print(f\"res[{i}] = {{{{  {coeffs_str} }}}};\")"
   ]
  },
  {
   "cell_type": "code",
   "execution_count": 42,
   "metadata": {},
   "outputs": [],
   "source": [
    "expr = -a1c * a5m * nix - a1m * nix - a3m * nix - a6m * nix + nix"
   ]
  },
  {
   "cell_type": "code",
   "execution_count": 43,
   "metadata": {},
   "outputs": [
    {
     "data": {
      "text/latex": [
       "$\\displaystyle 0$"
      ],
      "text/plain": [
       "0"
      ]
     },
     "execution_count": 43,
     "metadata": {},
     "output_type": "execute_result"
    }
   ],
   "source": [
    "expr.subs(replacements)"
   ]
  },
  {
   "cell_type": "code",
   "execution_count": 53,
   "metadata": {},
   "outputs": [],
   "source": [
    "expr = -a1c*a5m*nix/(a3c*a5m*niy + a4m*niy) - a1m*nix/(a3c*a5m*niy + a4m*niy) - a3m*nix/(a3c*a5m*niy + a4m*niy) - a6m*nix/(a3c*a5m*niy + a4m*niy) + nix/(a3c*a5m*niy + a4m*niy)"
   ]
  },
  {
   "cell_type": "code",
   "execution_count": 54,
   "metadata": {},
   "outputs": [
    {
     "data": {
      "text/latex": [
       "$\\displaystyle 0$"
      ],
      "text/plain": [
       "0"
      ]
     },
     "execution_count": 54,
     "metadata": {},
     "output_type": "execute_result"
    }
   ],
   "source": [
    "expr.subs(replacements)"
   ]
  },
  {
   "cell_type": "code",
   "execution_count": 85,
   "metadata": {},
   "outputs": [],
   "source": [
    "def aa(nix, niy, niz, a1c, a2c, a3c, a1m, a2m, a3m, a4m, a5m, a6m):\n",
    "    return (-a1c*a5m- a1m - a3m - a6m + 1)*nix/(a3c*a5m*niy + a4m*niy)"
   ]
  },
  {
   "cell_type": "code",
   "execution_count": 86,
   "metadata": {},
   "outputs": [
    {
     "data": {
      "text/plain": [
       "0.0"
      ]
     },
     "execution_count": 86,
     "metadata": {},
     "output_type": "execute_result"
    }
   ],
   "source": [
    "aa(0.70317543337119925, 0.70801849268679051, 0.065223645380728335,0.96266386483706823, 1.5687905460019993, -1.5314544108390675, 1.1647060918920447, 0.26146509100033311, 1.5271922964198665, -0.25524240180651103, -0.16666666666666666, -1.5314544108390664)"
   ]
  },
  {
   "cell_type": "code",
   "execution_count": 71,
   "metadata": {},
   "outputs": [
    {
     "data": {
      "text/plain": [
       "-1.5"
      ]
     },
     "execution_count": 71,
     "metadata": {},
     "output_type": "execute_result"
    }
   ],
   "source": [
    "aa(1,1,1,1,1,1,1,1,1,1,1,1)"
   ]
  },
  {
   "cell_type": "code",
   "execution_count": 73,
   "metadata": {},
   "outputs": [
    {
     "data": {
      "text/latex": [
       "$\\displaystyle - 1.0 x_{i} - 1.0 xcj + 0.6 xj + 1.0 y_{i} + 0.4 yj - 0.075 zcj + 0.025 zj$"
      ],
      "text/plain": [
       "-1.0*x_i - 1.0*xcj + 0.6*xj + 1.0*y_i + 0.4*yj - 0.075*zcj + 0.025*zj"
      ]
     },
     "execution_count": 73,
     "metadata": {},
     "output_type": "execute_result"
    }
   ],
   "source": [
    "solution[ycj].subs(replacements)"
   ]
  },
  {
   "cell_type": "code",
   "execution_count": 87,
   "metadata": {},
   "outputs": [],
   "source": [
    "expr = expand(solution[ycj])"
   ]
  },
  {
   "cell_type": "code",
   "execution_count": 90,
   "metadata": {},
   "outputs": [
    {
     "data": {
      "text/latex": [
       "$\\displaystyle \\frac{- a1c a5m nix x_{i} - a1c a5m niy y_{i} - a1c a5m niz z_{i} - a1m nix x_{i} - a1m niy y_{i} - a1m niz z_{i} - a2c a5m nix xj - a2c a5m niy yj - a2c a5m niz zj - a2m nix xj - a2m niy yj - a2m niz zj - a3c a5m nix xcj - a3c a5m niz zcj - a3m nix x_{i} - a3m niy y_{i} - a3m niz z_{i} - a4m nix xcj - a4m niz zcj - a6m nix x_{i} - a6m niy y_{i} - a6m niz z_{i} + nix x_{i} + niy y_{i} + niz z_{i}}{a3c a5m niy + a4m niy}$"
      ],
      "text/plain": [
       "(-a1c*a5m*nix*x_i - a1c*a5m*niy*y_i - a1c*a5m*niz*z_i - a1m*nix*x_i - a1m*niy*y_i - a1m*niz*z_i - a2c*a5m*nix*xj - a2c*a5m*niy*yj - a2c*a5m*niz*zj - a2m*nix*xj - a2m*niy*yj - a2m*niz*zj - a3c*a5m*nix*xcj - a3c*a5m*niz*zcj - a3m*nix*x_i - a3m*niy*y_i - a3m*niz*z_i - a4m*nix*xcj - a4m*niz*zcj - a6m*nix*x_i - a6m*niy*y_i - a6m*niz*z_i + nix*x_i + niy*y_i + niz*z_i)/(a3c*a5m*niy + a4m*niy)"
      ]
     },
     "execution_count": 90,
     "metadata": {},
     "output_type": "execute_result"
    }
   ],
   "source": [
    "solution[ycj]"
   ]
  },
  {
   "cell_type": "code",
   "execution_count": 102,
   "metadata": {},
   "outputs": [
    {
     "name": "stdout",
     "output_type": "stream",
     "text": [
      "// zji\n",
      "res[0] = {{  nix/niz, niy/niz, 1, 0, 0, 0, -nix/niz, -niy/niz, 0, 0, 0, 0 }};\n",
      "// zmij\n",
      "res[1] = {{  nix/niz, niy/niz, 1, 0, 0, 0, 0, 0, 0, 0, -nix/niz, -niy/niz }};\n",
      "// xmij_p\n",
      "res[2] = {{  a1m, 0, 0, a2c*a5m + a2m, 0, 0, a1c*a5m + a3m, 0, a3c*a5m + a4m, 0, a6m, 0 }};\n",
      "// ymij_p\n",
      "res[3] = {{  0, a1m, 0, 0, a2c*a5m + a2m, 0, 0, a1c*a5m + a3m, 0, a3c*a5m + a4m, 0, a6m }};\n",
      "// zmij_p\n",
      "res[4] = {{  -a1m*nix/niz + nix/niz, -a1m*niy/niz + niy/niz, 1, -a2c*a5m*nix/niz - a2m*nix/niz, -a2c*a5m*niy/niz - a2m*niy/niz, 0, -a1c*a5m*nix/niz - a3m*nix/niz, -a1c*a5m*niy/niz - a3m*niy/niz, -a3c*a5m*nix/niz - a4m*nix/niz, -a3c*a5m*niy/niz - a4m*niy/niz, -a6m*nix/niz, -a6m*niy/niz }};\n",
      "// zcj\n",
      "res[5] = {{  -a1c*a5m*nix/(a3c*a5m*niz + a4m*niz) - a1m*nix/(a3c*a5m*niz + a4m*niz) - a3m*nix/(a3c*a5m*niz + a4m*niz) - a6m*nix/(a3c*a5m*niz + a4m*niz) + nix/(a3c*a5m*niz + a4m*niz), -a1c*a5m*niy/(a3c*a5m*niz + a4m*niz) - a1m*niy/(a3c*a5m*niz + a4m*niz) - a3m*niy/(a3c*a5m*niz + a4m*niz) - a6m*niy/(a3c*a5m*niz + a4m*niz) + niy/(a3c*a5m*niz + a4m*niz), -a1c*a5m*niz/(a3c*a5m*niz + a4m*niz) - a1m*niz/(a3c*a5m*niz + a4m*niz) - a3m*niz/(a3c*a5m*niz + a4m*niz) - a6m*niz/(a3c*a5m*niz + a4m*niz) + niz/(a3c*a5m*niz + a4m*niz), -a2c*a5m*nix/(a3c*a5m*niz + a4m*niz) - a2m*nix/(a3c*a5m*niz + a4m*niz), -a2c*a5m*niy/(a3c*a5m*niz + a4m*niz) - a2m*niy/(a3c*a5m*niz + a4m*niz), -a2c*a5m*niz/(a3c*a5m*niz + a4m*niz) - a2m*niz/(a3c*a5m*niz + a4m*niz), 0, 0, -a3c*a5m*nix/(a3c*a5m*niz + a4m*niz) - a4m*nix/(a3c*a5m*niz + a4m*niz), -a3c*a5m*niy/(a3c*a5m*niz + a4m*niz) - a4m*niy/(a3c*a5m*niz + a4m*niz), 0, 0 }};\n",
      "// xcj_p\n",
      "res[6] = {{  0, 0, 0, a2c, 0, 0, a1c, 0, a3c, 0, 0, 0 }};\n",
      "// ycj_p\n",
      "res[7] = {{  0, 0, 0, 0, a2c, 0, 0, a1c, 0, a3c, 0, 0 }};\n",
      "// zcj_p\n",
      "res[8] = {{  a1c*a4m*nix/(a3c*a5m*niz + a4m*niz) - a1m*a3c*nix/(a3c*a5m*niz + a4m*niz) - a3c*a3m*nix/(a3c*a5m*niz + a4m*niz) - a3c*a6m*nix/(a3c*a5m*niz + a4m*niz) + a3c*nix/(a3c*a5m*niz + a4m*niz), a1c*a4m*niy/(a3c*a5m*niz + a4m*niz) - a1m*a3c*niy/(a3c*a5m*niz + a4m*niz) - a3c*a3m*niy/(a3c*a5m*niz + a4m*niz) - a3c*a6m*niy/(a3c*a5m*niz + a4m*niz) + a3c*niy/(a3c*a5m*niz + a4m*niz), a1c*a4m*niz/(a3c*a5m*niz + a4m*niz) - a1m*a3c*niz/(a3c*a5m*niz + a4m*niz) - a3c*a3m*niz/(a3c*a5m*niz + a4m*niz) - a3c*a6m*niz/(a3c*a5m*niz + a4m*niz) + a3c*niz/(a3c*a5m*niz + a4m*niz), -a2c*a3c*a5m*nix/(a3c*a5m*niz + a4m*niz) - a2m*a3c*nix/(a3c*a5m*niz + a4m*niz), -a2c*a3c*a5m*niy/(a3c*a5m*niz + a4m*niz) - a2m*a3c*niy/(a3c*a5m*niz + a4m*niz), a2c*a4m*niz/(a3c*a5m*niz + a4m*niz) - a2m*a3c*niz/(a3c*a5m*niz + a4m*niz), -a1c*a3c*a5m*nix/(a3c*a5m*niz + a4m*niz) - a1c*a4m*nix/(a3c*a5m*niz + a4m*niz), -a1c*a3c*a5m*niy/(a3c*a5m*niz + a4m*niz) - a1c*a4m*niy/(a3c*a5m*niz + a4m*niz), -pow(a3c, 2)*a5m*nix/(a3c*a5m*niz + a4m*niz) - a3c*a4m*nix/(a3c*a5m*niz + a4m*niz), -pow(a3c, 2)*a5m*niy/(a3c*a5m*niz + a4m*niz) - a3c*a4m*niy/(a3c*a5m*niz + a4m*niz), 0, 0 }};\n"
     ]
    }
   ],
   "source": [
    "\n",
    "x_i, y_i, z_i, xj, yj, zj, xji, yji, zji = symbols(\n",
    "    'x_i y_i z_i xj yj zj xji yji zji')\n",
    "xcj, xcj_p, ycj, ycj_p, zcj, zcj_p = symbols(\n",
    "    'xcj xcj_p ycj ycj_p zcj zcj_p')\n",
    "xmij, xmij_p, ymij, ymij_p, zmij, zmij_p = symbols(\n",
    "    'xmij xmij_p ymij ymij_p zmij zmij_p')\n",
    "a1c, a2c, a3c, a1m, a2m, a3m, a4m, a5m, a6m = symbols(\n",
    "    'a1c a2c a3c a1m a2m a3m a4m a5m a6m')\n",
    "nix, niy, niz = symbols('nix niy niz')\n",
    "dep_vars = [zji, zmij, xmij_p, ymij_p, zmij_p, zcj, xcj_p, ycj_p, zcj_p]\n",
    "vars_list = [x_i, y_i, z_i, xj, yj, zj, xji, yji, xcj, ycj, xmij, ymij]\n",
    "constraints = [\n",
    "    Eq(xcj_p, a1c*xji + a2c*xj + a3c*xcj),\n",
    "    Eq(ycj_p, a1c*yji + a2c*yj + a3c*ycj),\n",
    "    Eq(zcj_p, a1c*zji + a2c*zj + a3c*zcj),\n",
    "    Eq(xmij_p, a1m*x_i + a2m*xj + a3m*xji + a4m*xcj + a5m*xcj_p + a6m*xmij),\n",
    "    Eq(ymij_p, a1m*y_i + a2m*yj + a3m*yji + a4m*ycj + a5m*ycj_p + a6m*ymij),\n",
    "    Eq(zmij_p, a1m*z_i + a2m*zj + a3m*zji + a4m*zcj + a5m*zcj_p + a6m*zmij),\n",
    "    Eq(nix*(xji - x_i) + niy*(yji-y_i) + niz*(zji-z_i), 0),\n",
    "    Eq(nix*(xmij - x_i) + niy*(ymij-y_i) + niz*(zmij-z_i), 0),\n",
    "    Eq(nix*(xmij_p - x_i) + niy*(ymij_p-y_i) + niz*(zmij_p-z_i), 0)\n",
    "]\n",
    "solution = solve(constraints, dep_vars, dict=True)[0]\n",
    "for i, var in enumerate(dep_vars):\n",
    "    expr = expand(solution[var])\n",
    "    coeffs = [collect(expr, v, evaluate=False).get(v, 0)\n",
    "              for v in vars_list]\n",
    "    coeffs_str = \", \".join(ccode(c) for c in coeffs)\n",
    "    print(f\"// {str(var)}\")\n",
    "    print(f\"res[{i}] = {{{{  {coeffs_str} }}}};\")"
   ]
  },
  {
   "cell_type": "code",
   "execution_count": 103,
   "metadata": {},
   "outputs": [],
   "source": [
    "sub_vars = [nix, niy, niz, a1c, a2c, a3c, a1m, a2m, a3m, a4m, a5m, a6m]\n",
    "sub_values = [-0.50309133907895298, -0.45449919820024265, 1, 0.66908693674976272, 1.2200226499806925, -0.88910958673045515, 0.85273217449340666, 0.2033371083301157, 1.1478919016953444, -0.14818493112174289, -0.16666666666666669, -0.88910958673045737]\n",
    "replacements = [(sub_vars[i], sub_values[i]) for i in range(12)]"
   ]
  },
  {
   "cell_type": "code",
   "execution_count": 104,
   "metadata": {},
   "outputs": [],
   "source": [
    "expr = a3c*a5m*niz + a4m*niz"
   ]
  },
  {
   "cell_type": "code",
   "execution_count": 105,
   "metadata": {},
   "outputs": [
    {
     "data": {
      "text/latex": [
       "$\\displaystyle -3.33066907387547 \\cdot 10^{-16}$"
      ],
      "text/plain": [
       "-3.33066907387547e-16"
      ]
     },
     "execution_count": 105,
     "metadata": {},
     "output_type": "execute_result"
    }
   ],
   "source": [
    "expr.subs(replacements)"
   ]
  },
  {
   "cell_type": "code",
   "execution_count": 1,
   "metadata": {},
   "outputs": [],
   "source": [
    "from sympy import symbols, Eq, solve, collect, expand\n",
    "from sympy.printing import ccode"
   ]
  },
  {
   "cell_type": "code",
   "execution_count": 2,
   "metadata": {},
   "outputs": [],
   "source": [
    "ui, uj, uk, ukp, vi, vj, vk, vkp = symbols('ui uj uk ukp vi vj vk vkp')"
   ]
  },
  {
   "cell_type": "code",
   "execution_count": 3,
   "metadata": {},
   "outputs": [],
   "source": [
    "a3c = (-(vi-vj)*(ukp-uj)+(ui-uj)*(vkp-vj))/((ui-uj)*(vk-vj)-(uk-uj)*(vi-vj))"
   ]
  },
  {
   "cell_type": "code",
   "execution_count": null,
   "metadata": {},
   "outputs": [],
   "source": []
  },
  {
   "cell_type": "code",
   "execution_count": null,
   "metadata": {},
   "outputs": [
    {
     "data": {
      "text/latex": [
       "$\\displaystyle 0$"
      ],
      "text/plain": [
       "0"
      ]
     },
     "execution_count": 8,
     "metadata": {},
     "output_type": "execute_result"
    }
   ],
   "source": []
  },
  {
   "cell_type": "code",
   "execution_count": null,
   "metadata": {},
   "outputs": [],
   "source": []
  }
 ],
 "metadata": {
  "kernelspec": {
   "display_name": "base",
   "language": "python",
   "name": "python3"
  },
  "language_info": {
   "codemirror_mode": {
    "name": "ipython",
    "version": 3
   },
   "file_extension": ".py",
   "mimetype": "text/x-python",
   "name": "python",
   "nbconvert_exporter": "python",
   "pygments_lexer": "ipython3",
   "version": "3.11.5"
  }
 },
 "nbformat": 4,
 "nbformat_minor": 2
}
