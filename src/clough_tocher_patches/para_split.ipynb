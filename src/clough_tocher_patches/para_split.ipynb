{
 "cells": [
  {
   "cell_type": "code",
   "execution_count": 11,
   "metadata": {},
   "outputs": [],
   "source": [
    "import meshio as mio\n",
    "import igl\n",
    "import numpy as np\n",
    "import copy"
   ]
  },
  {
   "cell_type": "code",
   "execution_count": 3,
   "metadata": {},
   "outputs": [],
   "source": [
    "v_before, _, _, f_before, _, _ = igl.read_obj(\"../../build/test_101636/embedded_surface.obj\")\n",
    "v_after, _, _, f_after, _, _ = igl.read_obj(\"../../build/test_101636/parameterized_mesh.obj\")"
   ]
  },
  {
   "cell_type": "code",
   "execution_count": 4,
   "metadata": {},
   "outputs": [],
   "source": [
    "adj_before = igl.adjacency_list(f_before)\n",
    "adj_after = igl.adjacency_list(f_after)"
   ]
  },
  {
   "cell_type": "code",
   "execution_count": 8,
   "metadata": {},
   "outputs": [],
   "source": [
    "v_new = list(range(v_before.shape[0], v_after.shape[0]))"
   ]
  },
  {
   "cell_type": "code",
   "execution_count": 13,
   "metadata": {},
   "outputs": [
    {
     "name": "stdout",
     "output_type": "stream",
     "text": [
      "[]\n"
     ]
    }
   ],
   "source": [
    "v_process = copy.deepcopy(v_new)\n",
    "v_rest = copy.deepcopy(v_process)\n",
    "\n",
    "edges = {}\n",
    "for v in range(len(adj_before)):\n",
    "    for v_adj in adj_before[v]:\n",
    "        edges[str(v) + \"+\" + str(v_adj)] = True\n",
    "\n",
    "edges_to_split = []\n",
    "while v_rest:\n",
    "    v_process = v_rest\n",
    "    v_rest = []\n",
    "    for v in v_process:\n",
    "        assert len(adj_after[v]) == 4\n",
    "        old_cnt = 0\n",
    "        for v_adj in adj_after[v]:\n",
    "            if v_adj not in v_process:\n",
    "                old_cnt += 1\n",
    "        if old_cnt > 0:\n",
    "            assert old_cnt == 2 or old_cnt == 4\n",
    "            # find old edges\n",
    "            old_endpoints = []\n",
    "            for v_adj in adj_after[v]:\n",
    "                if str(v) + \"+\" + str(v_adj) in edges:\n",
    "                    old_endpoints.append(v_adj)\n",
    "            assert len(old_endpoints) == 2\n",
    "            edges_to_split.append(old_endpoints)\n",
    "            # add new edges to edges dict\n",
    "            for v_adj in adj_after[v]:\n",
    "                edges[str(v) + \"+\" + str(v_adj)] = True\n",
    "                edges[str(v_adj) + \"+\" + str(v)] = True\n",
    "        else:\n",
    "            v_rest.append(v)\n",
    "\n",
    "print(edges_to_split)\n",
    "        \n",
    "            \n"
   ]
  },
  {
   "cell_type": "code",
   "execution_count": null,
   "metadata": {},
   "outputs": [],
   "source": []
  }
 ],
 "metadata": {
  "kernelspec": {
   "display_name": "base",
   "language": "python",
   "name": "python3"
  },
  "language_info": {
   "codemirror_mode": {
    "name": "ipython",
    "version": 3
   },
   "file_extension": ".py",
   "mimetype": "text/x-python",
   "name": "python",
   "nbconvert_exporter": "python",
   "pygments_lexer": "ipython3",
   "version": "3.11.5"
  }
 },
 "nbformat": 4,
 "nbformat_minor": 2
}
