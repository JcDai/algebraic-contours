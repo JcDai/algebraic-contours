{
 "cells": [
  {
   "cell_type": "code",
   "execution_count": 1,
   "metadata": {},
   "outputs": [],
   "source": [
    "\n",
    "import igl\n",
    "import meshio as mio\n",
    "import numpy as np\n",
    "import matplotlib.pyplot as plt\n",
    "from mpl_toolkits import mplot3d\n",
    "import subprocess\n",
    "import scipy\n",
    "import h5py\n"
   ]
  },
  {
   "cell_type": "code",
   "execution_count": 64,
   "metadata": {},
   "outputs": [
    {
     "name": "stdout",
     "output_type": "stream",
     "text": [
      "\n"
     ]
    }
   ],
   "source": [
    "workspace_path = \"/Users/jiachengdai/Desktop/algebraic-contours/build/test_pipeline_icosphere/\"\n",
    "\n",
    "interior_matix = scipy.io.mmread(workspace_path+'CT_interior_constraint_matrix.txt') \n",
    "edge_end_point_matrix = scipy.io.mmread(workspace_path+'CT_edge_endpoint_constraint_matrix_eliminated.txt') \n",
    "edge_mid_point_matrix = scipy.io.mmread(workspace_path+'CT_edge_midpoint_constraint_matrix.txt')\n",
    "\n",
    "full_matrix = scipy.sparse.vstack((interior_matix, edge_end_point_matrix, edge_mid_point_matrix))\n",
    "\n",
    "local2global = np.loadtxt(workspace_path + \"icosphere_tri_to_tet_v_map.txt\").astype(np.int32)\n",
    "\n",
    "m = mio.read(workspace_path + \"icosphere_initial_tetmesh.msh\")\n"
   ]
  },
  {
   "cell_type": "code",
   "execution_count": 65,
   "metadata": {},
   "outputs": [],
   "source": [
    "v = m.points\n",
    "cells_ho = m.cells_dict['tetra20']\n",
    "cells = cells_ho[:,:4]\n",
    "bd_f = igl.boundary_facets(cells)\n",
    "bd_v = np.unique(bd_f)\n",
    "l2g_r = np.flip(local2global)"
   ]
  },
  {
   "cell_type": "code",
   "execution_count": 66,
   "metadata": {},
   "outputs": [],
   "source": [
    "# build P_T, left mul x  i.e. P_T x\n",
    "# P right mul C i.e. C P\n",
    "constrained = [False for i in range(v.shape[0])]\n",
    "for i in range(l2g_r.shape[0]):\n",
    "    constrained[l2g_r[i]] = True\n",
    "for i in range(bd_v.shape[0]):\n",
    "    constrained[bd_v[i]] = True\n",
    "unconstrained_v = []\n",
    "for i in range(len(constrained)):\n",
    "    if not constrained[i]:\n",
    "        unconstrained_v.append(i)\n",
    "\n",
    "P_T = [-1 for i in range(v.shape[0])]\n",
    "for i in range(l2g_r.shape[0]):\n",
    "    P_T[i] = l2g_r[i]\n",
    "for i in range(bd_v.shape[0]):\n",
    "    P_T[l2g_r.shape[0] + i] = bd_v[i]\n",
    "for i in range(len(unconstrained_v)):\n",
    "    P_T[l2g_r.shape[0] + bd_v.shape[0] + i] = unconstrained_v[i]\n",
    "\n",
    "assert all(P_T[i]>-1 for i in range(len(P_T)))\n",
    "\n",
    "P_T_trip_row = []\n",
    "P_T_trip_col = []\n",
    "P_T_trip_value = [1 for i in range(len(P_T) * 3)]\n",
    "\n",
    "for i in range(len(P_T)):\n",
    "    P_T_trip_row.append(i*3+0)\n",
    "    P_T_trip_row.append(i*3+1)\n",
    "    P_T_trip_row.append(i*3+2)\n",
    "for i in range(len(P_T)):\n",
    "    P_T_trip_col.append(P_T[i]*3+0)\n",
    "    P_T_trip_col.append(P_T[i]*3+1)\n",
    "    P_T_trip_col.append(P_T[i]*3+2)\n",
    "\n"
   ]
  },
  {
   "cell_type": "code",
   "execution_count": 67,
   "metadata": {},
   "outputs": [],
   "source": [
    "# add direchlet constraints\n",
    "di_row = [i for i in range(bd_v.shape[0])]\n",
    "di_col = [bd_v[i] for i in range(bd_v.shape[0])]\n",
    "di_value = [1.0 for i in range(bd_v.shape[0])]\n",
    "\n",
    "di_matrix = scipy.sparse.coo_array((di_value, (di_row,di_col)), shape=(bd_v.shape[0], v.shape[0]))\n",
    "\n",
    "# expand constraint on tetmesh\n",
    "full_matrix_coo = full_matrix.tocoo(True)\n",
    "full_matrix_row = full_matrix_coo.row\n",
    "full_matrix_col = full_matrix_coo.col\n",
    "full_matrix_data = full_matrix_coo.data\n",
    "\n",
    "full_matrix_tet_row = full_matrix_row\n",
    "full_matrix_tet_col = np.array([local2global[full_matrix_col[i]] for i in range(full_matrix_col.shape[0])])\n",
    "full_matrix_tet_data = full_matrix_data\n",
    "\n",
    "full_matrix_tet = scipy.sparse.coo_array((full_matrix_tet_data, (full_matrix_tet_row, full_matrix_tet_col)), shape=(full_matrix.shape[0], v.shape[0]))\n",
    "\n",
    "C_matrix = scipy.sparse.vstack((full_matrix_tet, di_matrix))"
   ]
  },
  {
   "cell_type": "code",
   "execution_count": 80,
   "metadata": {},
   "outputs": [
    {
     "data": {
      "text/plain": [
       "24855"
      ]
     },
     "execution_count": 80,
     "metadata": {},
     "output_type": "execute_result"
    }
   ],
   "source": [
    "len(P_T_trip_row)"
   ]
  },
  {
   "cell_type": "code",
   "execution_count": 83,
   "metadata": {},
   "outputs": [
    {
     "data": {
      "text/plain": [
       "(1599, 8285)"
      ]
     },
     "execution_count": 83,
     "metadata": {},
     "output_type": "execute_result"
    }
   ],
   "source": [
    "C_matrix.shape"
   ]
  },
  {
   "cell_type": "code",
   "execution_count": 84,
   "metadata": {},
   "outputs": [
    {
     "data": {
      "text/plain": [
       "(8285, 3)"
      ]
     },
     "execution_count": 84,
     "metadata": {},
     "output_type": "execute_result"
    }
   ],
   "source": [
    "v.shape"
   ]
  },
  {
   "cell_type": "code",
   "execution_count": 89,
   "metadata": {},
   "outputs": [],
   "source": [
    "xxx = np.unique(np.array(P_T_trip_col))\n",
    "xxxx = np.unique(np.array(P_T_trip_row))"
   ]
  },
  {
   "cell_type": "code",
   "execution_count": 90,
   "metadata": {},
   "outputs": [
    {
     "data": {
      "text/plain": [
       "(24855,)"
      ]
     },
     "execution_count": 90,
     "metadata": {},
     "output_type": "execute_result"
    }
   ],
   "source": [
    "xxxx.shape"
   ]
  },
  {
   "cell_type": "code",
   "execution_count": null,
   "metadata": {},
   "outputs": [],
   "source": [
    "M = scipy.io.mmread(\"test_M.\")"
   ]
  },
  {
   "cell_type": "code",
   "execution_count": 3,
   "metadata": {},
   "outputs": [
    {
     "data": {
      "text/plain": [
       "array([[1, 2],\n",
       "       [3, 2]])"
      ]
     },
     "execution_count": 3,
     "metadata": {},
     "output_type": "execute_result"
    }
   ],
   "source": [
    "a = np.array([[1, 2], [1, 2], [3, 2]])\n",
    "np.unique(a, axis=0)"
   ]
  },
  {
   "cell_type": "code",
   "execution_count": null,
   "metadata": {},
   "outputs": [],
   "source": []
  }
 ],
 "metadata": {
  "kernelspec": {
   "display_name": "base",
   "language": "python",
   "name": "python3"
  },
  "language_info": {
   "codemirror_mode": {
    "name": "ipython",
    "version": 3
   },
   "file_extension": ".py",
   "mimetype": "text/x-python",
   "name": "python",
   "nbconvert_exporter": "python",
   "pygments_lexer": "ipython3",
   "version": "3.11.5"
  }
 },
 "nbformat": 4,
 "nbformat_minor": 2
}
