{
 "cells": [
  {
   "cell_type": "code",
   "execution_count": 1,
   "metadata": {},
   "outputs": [],
   "source": [
    "from sympy import symbols, Eq, solve, collect, expand\n",
    "from sympy.printing import ccode\n",
    "from sympy import *"
   ]
  },
  {
   "cell_type": "code",
   "execution_count": 2,
   "metadata": {},
   "outputs": [],
   "source": [
    "ui, uj, uk, ukp, vi, vj, vk, vkp = symbols('ui uj uk ukp vi vj vk vkp')\n",
    "Uik = Matrix([[ui-uj, uk-uj], [vi-vj, vk-vj]])\n",
    "Uik_inv = Uik.inv()\n",
    "u_jk_p = Matrix([[ukp-uj], [vkp-vj]])\n",
    "U_ijk = Uik_inv * u_jk_p\n",
    "a1c = U_ijk[0]\n",
    "a2c = 1-U_ijk[0]-U_ijk[1]\n",
    "a3c = U_ijk[1]"
   ]
  },
  {
   "cell_type": "code",
   "execution_count": 3,
   "metadata": {},
   "outputs": [],
   "source": [
    "a1c = simplify(a1c)\n",
    "a2c = simplify(a2c)\n",
    "a3c = simplify(a3c)"
   ]
  },
  {
   "cell_type": "code",
   "execution_count": 4,
   "metadata": {},
   "outputs": [],
   "source": [
    "v0_pos = Matrix([ui, vi])\n",
    "v1_pos = Matrix([uj, vj])\n",
    "v2_pos_macro = Matrix([uk, vk])\n",
    "v2_pos = (v0_pos + v1_pos + v2_pos_macro) / 3\n",
    "\n",
    "v0_pos_prime = Matrix([uj, vj])\n",
    "v1_pos_prime = Matrix([ui, vi])\n",
    "v2_pos_macro_prime = Matrix([ukp, vkp])\n",
    "v2_pos_prime = (v0_pos_prime + v1_pos_prime + v2_pos_macro_prime) / 3\n",
    "\n",
    "u_01 = v1_pos - v0_pos\n",
    "u_02 = v2_pos - v0_pos\n",
    "u_12 = v2_pos - v1_pos"
   ]
  },
  {
   "cell_type": "code",
   "execution_count": 5,
   "metadata": {},
   "outputs": [],
   "source": [
    "u_01_prime = v1_pos_prime - v0_pos_prime\n",
    "u_02_prime = v2_pos_prime - v0_pos_prime\n",
    "u_12_prime = v2_pos_prime - v1_pos_prime"
   ]
  },
  {
   "cell_type": "code",
   "execution_count": 6,
   "metadata": {},
   "outputs": [],
   "source": [
    "m_01 = (u_02 + u_12) / 2\n",
    "m_01_prime = (u_02_prime + u_12_prime) / 2"
   ]
  },
  {
   "cell_type": "code",
   "execution_count": 7,
   "metadata": {},
   "outputs": [],
   "source": [
    "u_01_prep = Matrix([-u_01[1], u_01[0]])\n",
    "u_01_prep_prime = Matrix([-u_01_prime[1], u_01_prime[0]])"
   ]
  },
  {
   "cell_type": "code",
   "execution_count": 8,
   "metadata": {},
   "outputs": [],
   "source": [
    "K_N_p = Matrix([\n",
    "    [1,0,0,0,0,0,0],\n",
    "    [0,1,0,0,0,0,0],\n",
    "    [-3,0,3,0,0,0,0],\n",
    "    [0,-3,0,3,0,0,0],\n",
    "    [-1 / 8, -1 / 8, -7 / 8, -7 / 8, 1 / 4, 1 / 4,\n",
    "      3 / 2]\n",
    "])\n",
    "\n",
    "c_hij_p = Matrix([-1. / 8., -1. / 8., -7. / 8., -7. / 8., 1. / 4., 1. / 4., 3. / 2.])\n",
    "c_e_m = Matrix([  -3. / 2.,\n",
    "  3. / 2.,\n",
    "  -1. / 4.,\n",
    "  1. / 4.,\n",
    "  0.,])"
   ]
  },
  {
   "cell_type": "code",
   "execution_count": 9,
   "metadata": {},
   "outputs": [],
   "source": [
    "def dot(a, b):\n",
    "    return a[0]*b[0] + a[1]*b[1]"
   ]
  },
  {
   "cell_type": "code",
   "execution_count": 10,
   "metadata": {},
   "outputs": [],
   "source": [
    "u_01_normalized = u_01/u_01.norm()\n",
    "u_01_prime_normalized = u_01_prime/u_01_prime.norm()\n",
    "\n",
    "u_01_prep_normalized = u_01_prep/ u_01_prep.norm()\n",
    "u_01_prep_prime_normalized = u_01_prep_prime/ u_01_prep_prime.norm()"
   ]
  },
  {
   "cell_type": "code",
   "execution_count": 11,
   "metadata": {},
   "outputs": [],
   "source": [
    "M_N = dot(m_01, u_01_normalized)/ u_01.norm() * c_e_m.transpose() * K_N_p\n",
    "k_N = dot(m_01, u_01_prep_normalized)\n",
    "M_N_prime = dot(m_01_prime, u_01_prime_normalized)/ u_01_prime.norm() * c_e_m.transpose() * K_N_p\n",
    "k_N_prime = dot(m_01_prime, u_01_prep_prime_normalized)"
   ]
  },
  {
   "cell_type": "code",
   "execution_count": 12,
   "metadata": {},
   "outputs": [],
   "source": [
    "M_N = simplify(M_N)\n",
    "k_N = simplify(k_N)\n",
    "M_N_prime = simplify(M_N_prime)\n",
    "k_N_prime = simplify(k_N_prime)"
   ]
  },
  {
   "cell_type": "code",
   "execution_count": 13,
   "metadata": {},
   "outputs": [
    {
     "data": {
      "text/latex": [
       "$\\displaystyle \\frac{\\left(ui - uj\\right) \\left(vi + vj - 2 vk\\right) - \\left(vi - vj\\right) \\left(ui + uj - 2 uk\\right)}{6 \\sqrt{\\left|{ui - uj}\\right|^{2} + \\left|{vi - vj}\\right|^{2}}}$"
      ],
      "text/plain": [
       "((ui - uj)*(vi + vj - 2*vk) - (vi - vj)*(ui + uj - 2*uk))/(6*sqrt(Abs(ui - uj)**2 + Abs(vi - vj)**2))"
      ]
     },
     "execution_count": 13,
     "metadata": {},
     "output_type": "execute_result"
    }
   ],
   "source": [
    "k_N"
   ]
  },
  {
   "cell_type": "code",
   "execution_count": 14,
   "metadata": {},
   "outputs": [],
   "source": [
    "CM =(c_hij_p - M_N.transpose())/k_N\n",
    "CM_prime = (c_hij_p - M_N_prime.transpose())/k_N_prime"
   ]
  },
  {
   "cell_type": "code",
   "execution_count": 15,
   "metadata": {},
   "outputs": [],
   "source": [
    "CM = simplify(CM)\n",
    "CM_prime = simplify(CM_prime)"
   ]
  },
  {
   "cell_type": "code",
   "execution_count": 16,
   "metadata": {},
   "outputs": [],
   "source": [
    "ag = Matrix([CM[0] + CM_prime[1],\n",
    "              CM[1] + CM_prime[0],   \n",
    "              CM[2] + CM_prime[3],   \n",
    "              CM[3] + CM_prime[2],   \n",
    "              CM[4],                \n",
    "              CM[5],                 \n",
    "              CM_prime[5],           \n",
    "              CM_prime[4],           \n",
    "              CM[6] ])    \n",
    "ag = -ag/CM_prime[6]       "
   ]
  },
  {
   "cell_type": "code",
   "execution_count": 17,
   "metadata": {},
   "outputs": [],
   "source": [
    "ag = simplify(ag)"
   ]
  },
  {
   "cell_type": "code",
   "execution_count": 18,
   "metadata": {},
   "outputs": [],
   "source": [
    "a1m = ag[0] + ag[2] + ag[4] + ag[6]\n",
    "a2m = ag[1]\n",
    "a3m = ag[3]\n",
    "a4m = ag[5]\n",
    "a5m = ag[7]\n",
    "a6m = ag[8]"
   ]
  },
  {
   "cell_type": "code",
   "execution_count": 25,
   "metadata": {},
   "outputs": [],
   "source": [
    "ss1 = -a1c * a5m\n",
    "ss2 = -a1m\n",
    "ss3 = -a3m\n",
    "ss4 = -a6m"
   ]
  },
  {
   "cell_type": "code",
   "execution_count": 27,
   "metadata": {},
   "outputs": [],
   "source": [
    "ss1 = simplify(ss1)\n",
    "ss2 = simplify(ss2)\n",
    "ss3 = simplify(ss3)\n",
    "ss4 = simplify(ss4)"
   ]
  },
  {
   "cell_type": "code",
   "execution_count": null,
   "metadata": {},
   "outputs": [
    {
     "data": {
      "text/latex": [
       "$\\displaystyle \\frac{1.0 \\left(- \\left(ui - uj\\right) \\left(vi + vj - 2 vkp\\right) + \\left(vi - vj\\right) \\left(ui + uj - 2 ukp\\right)\\right)}{\\left(ui - uj\\right) \\left(vi + vj - 2 vk\\right) - \\left(vi - vj\\right) \\left(ui + uj - 2 uk\\right)}$"
      ],
      "text/plain": [
       "1.0*(-(ui - uj)*(vi + vj - 2*vkp) + (vi - vj)*(ui + uj - 2*ukp))/((ui - uj)*(vi + vj - 2*vk) - (vi - vj)*(ui + uj - 2*uk))"
      ]
     },
     "execution_count": 30,
     "metadata": {},
     "output_type": "execute_result"
    }
   ],
   "source": []
  },
  {
   "cell_type": "code",
   "execution_count": null,
   "metadata": {},
   "outputs": [],
   "source": [
    "sth = a3c * a5m + a4m\n",
    "sth2 = -a1c*a5m - a1m - a3m - a6m + 1\n",
    "sth3 = a2c*a5m + a2m"
   ]
  },
  {
   "cell_type": "code",
   "execution_count": null,
   "metadata": {},
   "outputs": [],
   "source": [
    "sth = simplify(sth)\n",
    "sth2 = simplify(sth2)\n",
    "sth3 = simplify(sth3)"
   ]
  },
  {
   "cell_type": "code",
   "execution_count": null,
   "metadata": {},
   "outputs": [],
   "source": [
    "import random"
   ]
  },
  {
   "cell_type": "code",
   "execution_count": null,
   "metadata": {},
   "outputs": [],
   "source": [
    "vars = [ui, uj, uk, ukp, vi, vj, vk, vkp]\n",
    "zero_cnt = 0\n",
    "for i in range(100):\n",
    "    replacement = [(var, random.random()) for var in vars]\n",
    "    err = sth.subs(replacement)\n",
    "    if abs(err)> 1e-13:\n",
    "        print(\"not zero: \", err)\n",
    "    else:\n",
    "        zero_cnt += 1\n",
    "print(\"zero cnt: \", zero_cnt)"
   ]
  },
  {
   "cell_type": "code",
   "execution_count": null,
   "metadata": {},
   "outputs": [],
   "source": [
    "zero_cnt = 0\n",
    "for i in range(100):\n",
    "    replacement = [(var, random.random()) for var in vars]\n",
    "    err = sth2.subs(replacement)\n",
    "    if abs(err)> 1e-13:\n",
    "        print(\"not zero: \", err)\n",
    "    else:\n",
    "        zero_cnt += 1\n",
    "print(\"zero cnt: \", zero_cnt)"
   ]
  },
  {
   "cell_type": "code",
   "execution_count": null,
   "metadata": {},
   "outputs": [],
   "source": [
    "zero_cnt = 0\n",
    "for i in range(100):\n",
    "    replacement = [(var, random.random()) for var in vars]\n",
    "    err = sth3.subs(replacement)\n",
    "    if abs(err)> 1e-13:\n",
    "        print(\"not zero: \", err)\n",
    "    else:\n",
    "        zero_cnt += 1\n",
    "print(\"zero cnt: \", zero_cnt)"
   ]
  },
  {
   "cell_type": "code",
   "execution_count": null,
   "metadata": {},
   "outputs": [],
   "source": [
    "sth.subs(replacement)"
   ]
  },
  {
   "cell_type": "code",
   "execution_count": null,
   "metadata": {},
   "outputs": [
    {
     "data": {
      "text/latex": [
       "$\\displaystyle \\frac{\\left(uj - uk\\right) \\left(vj - vkp\\right) - \\left(uj - ukp\\right) \\left(vj - vk\\right)}{ui vj - ui vk - uj vi + uj vk + uk vi - uk vj}$"
      ],
      "text/plain": [
       "((uj - uk)*(vj - vkp) - (uj - ukp)*(vj - vk))/(ui*vj - ui*vk - uj*vi + uj*vk + uk*vi - uk*vj)"
      ]
     },
     "execution_count": 31,
     "metadata": {},
     "output_type": "execute_result"
    }
   ],
   "source": []
  },
  {
   "cell_type": "markdown",
   "metadata": {},
   "source": []
  }
 ],
 "metadata": {
  "kernelspec": {
   "display_name": "base",
   "language": "python",
   "name": "python3"
  },
  "language_info": {
   "codemirror_mode": {
    "name": "ipython",
    "version": 3
   },
   "file_extension": ".py",
   "mimetype": "text/x-python",
   "name": "python",
   "nbconvert_exporter": "python",
   "pygments_lexer": "ipython3",
   "version": "3.11.5"
  }
 },
 "nbformat": 4,
 "nbformat_minor": 2
}
