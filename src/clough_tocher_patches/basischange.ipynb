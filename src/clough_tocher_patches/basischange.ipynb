{
 "cells": [
  {
   "cell_type": "code",
   "execution_count": 1,
   "metadata": {},
   "outputs": [],
   "source": [
    "import numpy as np\n",
    "import math"
   ]
  },
  {
   "cell_type": "code",
   "execution_count": 2,
   "metadata": {},
   "outputs": [],
   "source": [
    "def berstein_coeff_cubic(i,j,k):\n",
    "    return math.factorial(3)/(math.factorial(i) * math.factorial(j) * math.factorial(k))\n",
    "\n",
    "def berstein_monomial(ijk,uv):\n",
    "    i,j,k = ijk\n",
    "    u,v = uv\n",
    "    w = 1.0 - u - v\n",
    "    return pow(u, i) * pow(v, j) * pow(w, k)"
   ]
  },
  {
   "cell_type": "code",
   "execution_count": 3,
   "metadata": {},
   "outputs": [],
   "source": [
    "barycoords = np.array([\n",
    "    [0,0],\n",
    "    [1,0],\n",
    "    [0,1],\n",
    "\n",
    "    [1/3,0],\n",
    "    [2/3,0],\n",
    "\n",
    "    [2/3,1/3],\n",
    "    [1/3,2/3],\n",
    "\n",
    "    [0,2/3],\n",
    "    [0,1/3],\n",
    "\n",
    "    [1/3,1/3]\n",
    "])\n",
    "\n",
    "ijk = np.array([\n",
    "    [0,0,3],\n",
    "    [3,0,0],\n",
    "    [0,3,0],\n",
    "    [1,0,2],\n",
    "    [2,0,1],\n",
    "    [2,1,0],\n",
    "    [1,2,0],\n",
    "    [0,2,1],\n",
    "    [0,1,2],\n",
    "    [1,1,1]\n",
    "])"
   ]
  },
  {
   "cell_type": "code",
   "execution_count": 4,
   "metadata": {},
   "outputs": [],
   "source": [
    "b2l_mat = np.zeros((10,10))"
   ]
  },
  {
   "cell_type": "code",
   "execution_count": 5,
   "metadata": {},
   "outputs": [],
   "source": [
    "for row in range(10):\n",
    "    for col in range(10):\n",
    "        b2l_mat[row][col] = berstein_coeff_cubic(ijk[col][0], ijk[col][1], ijk[col][2]) * berstein_monomial(ijk[col], barycoords[row])"
   ]
  },
  {
   "cell_type": "code",
   "execution_count": 7,
   "metadata": {},
   "outputs": [
    {
     "name": "stdout",
     "output_type": "stream",
     "text": [
      "[[1.                 0.                 0.\n",
      "  0.                 0.                 0.\n",
      "  0.                 0.                 0.\n",
      "  0.                ]\n",
      " [0.                 1.                 0.\n",
      "  0.                 0.                 0.\n",
      "  0.                 0.                 0.\n",
      "  0.                ]\n",
      " [0.                 0.                 1.\n",
      "  0.                 0.                 0.\n",
      "  0.                 0.                 0.\n",
      "  0.                ]\n",
      " [0.2962962962962964 0.037037037037037  0.\n",
      "  0.4444444444444445 0.2222222222222223 0.\n",
      "  0.                 0.                 0.\n",
      "  0.                ]\n",
      " [0.037037037037037  0.2962962962962962 0.\n",
      "  0.2222222222222223 0.4444444444444445 0.\n",
      "  0.                 0.                 0.\n",
      "  0.                ]\n",
      " [0.                 0.2962962962962962 0.037037037037037\n",
      "  0.                 0.0000000000000001 0.4444444444444444\n",
      "  0.2222222222222222 0.                 0.\n",
      "  0.0000000000000001]\n",
      " [0.                 0.037037037037037  0.2962962962962962\n",
      "  0.                 0.                 0.2222222222222222\n",
      "  0.4444444444444444 0.0000000000000001 0.\n",
      "  0.0000000000000001]\n",
      " [0.037037037037037  0.                 0.2962962962962962\n",
      "  0.                 0.                 0.\n",
      "  0.                 0.4444444444444445 0.2222222222222223\n",
      "  0.                ]\n",
      " [0.2962962962962964 0.                 0.037037037037037\n",
      "  0.                 0.                 0.\n",
      "  0.                 0.2222222222222223 0.4444444444444445\n",
      "  0.                ]\n",
      " [0.0370370370370371 0.037037037037037  0.037037037037037\n",
      "  0.1111111111111112 0.1111111111111111 0.1111111111111111\n",
      "  0.1111111111111111 0.1111111111111111 0.1111111111111112\n",
      "  0.2222222222222223]]\n"
     ]
    }
   ],
   "source": [
    "np.set_printoptions(16)\n",
    "np.set_printoptions(suppress=True)\n",
    "print(b2l_mat)"
   ]
  },
  {
   "cell_type": "code",
   "execution_count": 30,
   "metadata": {},
   "outputs": [],
   "source": [
    "l2b_mat = np.linalg.inv(b2l_mat)"
   ]
  },
  {
   "cell_type": "code",
   "execution_count": 35,
   "metadata": {},
   "outputs": [],
   "source": [
    "# test\n",
    "lag_nodes = np.array([\n",
    "    [0,0,1],\n",
    "    [1,0,1],\n",
    "    [0,1,1],\n",
    "    [1/3,0,1],\n",
    "    [2/3,0,1],\n",
    "    [2/3,1/3,1],\n",
    "    [1/3,2/3,1],\n",
    "    [0,2/3,1],\n",
    "    [0,1/3,1],\n",
    "    [1/3,1/3,1]\n",
    "])"
   ]
  },
  {
   "cell_type": "code",
   "execution_count": 57,
   "metadata": {},
   "outputs": [
    {
     "name": "stdout",
     "output_type": "stream",
     "text": [
      "[ 0.3333333333333336  0.3333333333333332  0.3333333333333331\n",
      " -0.7500000000000004 -0.7499999999999996 -0.7500000000000001\n",
      " -0.75               -0.7499999999999994 -0.7500000000000006\n",
      "  4.5               ]\n"
     ]
    }
   ],
   "source": [
    "np.set_printoptions(16)\n",
    "np.set_printoptions(suppress=True)\n",
    "# print(l2b_mat)\n",
    "print(l2b_mat[9])"
   ]
  },
  {
   "cell_type": "code",
   "execution_count": 58,
   "metadata": {},
   "outputs": [],
   "source": [
    "l2b_mat_frac = np.array([\n",
    "    [1., 0., 0., 0., 0., 0., 0., 0., 0., 0.],\n",
    "    [0., 1., 0., 0., 0., 0., 0., 0., 0., 0.],\n",
    "    [0., 0., 1., 0., 0., 0., 0., 0., 0., 0.],\n",
    "    [-5/6, 1/3, 0., 3., -3/2, 0., 0., 0., 0., 0.],\n",
    "    [1/3, -5/6, 0., -3/2, 3., 0., 0., 0., 0., 0.],\n",
    "    [0., -5/6, 1/3, 0., 0., 3., -3/2, 0., 0., 0.],\n",
    "    [0., 1/3, -5/6, 0., 0., -3/2, 3., 0., 0., 0.],\n",
    "    [1/3, 0., -5/6, 0., 0., 0., 0., 3., -3/2, 0.],\n",
    "    [-5/6, 0., 1/3, 0., 0., 0., 0., -3/2, 3., 0.],\n",
    "    [1/3, 1/3, 1/3, -3/4, -3/4, -3/4, -3/4, -3/4, -3/4, 9/2]\n",
    "])"
   ]
  },
  {
   "cell_type": "code",
   "execution_count": 60,
   "metadata": {},
   "outputs": [
    {
     "data": {
      "text/plain": [
       "2.8219723115308524e-15"
      ]
     },
     "execution_count": 60,
     "metadata": {},
     "output_type": "execute_result"
    }
   ],
   "source": [
    "np.linalg.norm(l2b_mat - l2b_mat_frac)"
   ]
  },
  {
   "cell_type": "code",
   "execution_count": 61,
   "metadata": {},
   "outputs": [
    {
     "data": {
      "text/plain": [
       "array([[0.                , 0.                , 1.                ],\n",
       "       [1.                , 0.                , 1.                ],\n",
       "       [0.                , 1.                , 1.                ],\n",
       "       [0.3333333333333333, 0.                , 1.                ],\n",
       "       [0.6666666666666666, 0.                , 1.                ],\n",
       "       [0.6666666666666665, 0.3333333333333333, 1.                ],\n",
       "       [0.3333333333333333, 0.6666666666666666, 1.                ],\n",
       "       [0.                , 0.6666666666666665, 1.                ],\n",
       "       [0.                , 0.3333333333333333, 1.                ],\n",
       "       [0.3333333333333334, 0.3333333333333334, 1.                ]])"
      ]
     },
     "execution_count": 61,
     "metadata": {},
     "output_type": "execute_result"
    }
   ],
   "source": [
    "l2b_mat_frac @ lag_nodes"
   ]
  },
  {
   "cell_type": "code",
   "execution_count": 9,
   "metadata": {},
   "outputs": [
    {
     "name": "stdout",
     "output_type": "stream",
     "text": [
      "2/3\n"
     ]
    }
   ],
   "source": [
    "\n",
    "from fractions import Fraction\n",
    "res = Fraction(0.66666666666).limit_denominator()\n",
    "print(res)"
   ]
  },
  {
   "cell_type": "code",
   "execution_count": 11,
   "metadata": {},
   "outputs": [
    {
     "name": "stdout",
     "output_type": "stream",
     "text": [
      "c[0][0] = 1;\n",
      "c[0][1] = 0;\n",
      "c[0][2] = 0;\n",
      "c[0][3] = 0;\n",
      "c[0][4] = 0;\n",
      "c[0][5] = 0;\n",
      "c[0][6] = 0;\n",
      "c[0][7] = 0;\n",
      "c[0][8] = 0;\n",
      "c[0][9] = 0;\n",
      "c[1][0] = 0;\n",
      "c[1][1] = 1;\n",
      "c[1][2] = 0;\n",
      "c[1][3] = 0;\n",
      "c[1][4] = 0;\n",
      "c[1][5] = 0;\n",
      "c[1][6] = 0;\n",
      "c[1][7] = 0;\n",
      "c[1][8] = 0;\n",
      "c[1][9] = 0;\n",
      "c[2][0] = 0;\n",
      "c[2][1] = 0;\n",
      "c[2][2] = 1;\n",
      "c[2][3] = 0;\n",
      "c[2][4] = 0;\n",
      "c[2][5] = 0;\n",
      "c[2][6] = 0;\n",
      "c[2][7] = 0;\n",
      "c[2][8] = 0;\n",
      "c[2][9] = 0;\n",
      "c[3][0] = 8/27;\n",
      "c[3][1] = 1/27;\n",
      "c[3][2] = 0;\n",
      "c[3][3] = 4/9;\n",
      "c[3][4] = 2/9;\n",
      "c[3][5] = 0;\n",
      "c[3][6] = 0;\n",
      "c[3][7] = 0;\n",
      "c[3][8] = 0;\n",
      "c[3][9] = 0;\n",
      "c[4][0] = 1/27;\n",
      "c[4][1] = 8/27;\n",
      "c[4][2] = 0;\n",
      "c[4][3] = 2/9;\n",
      "c[4][4] = 4/9;\n",
      "c[4][5] = 0;\n",
      "c[4][6] = 0;\n",
      "c[4][7] = 0;\n",
      "c[4][8] = 0;\n",
      "c[4][9] = 0;\n",
      "c[5][0] = 0;\n",
      "c[5][1] = 8/27;\n",
      "c[5][2] = 1/27;\n",
      "c[5][3] = 0;\n",
      "c[5][4] = 0;\n",
      "c[5][5] = 4/9;\n",
      "c[5][6] = 2/9;\n",
      "c[5][7] = 0;\n",
      "c[5][8] = 0;\n",
      "c[5][9] = 0;\n",
      "c[6][0] = 0;\n",
      "c[6][1] = 1/27;\n",
      "c[6][2] = 8/27;\n",
      "c[6][3] = 0;\n",
      "c[6][4] = 0;\n",
      "c[6][5] = 2/9;\n",
      "c[6][6] = 4/9;\n",
      "c[6][7] = 0;\n",
      "c[6][8] = 0;\n",
      "c[6][9] = 0;\n",
      "c[7][0] = 1/27;\n",
      "c[7][1] = 0;\n",
      "c[7][2] = 8/27;\n",
      "c[7][3] = 0;\n",
      "c[7][4] = 0;\n",
      "c[7][5] = 0;\n",
      "c[7][6] = 0;\n",
      "c[7][7] = 4/9;\n",
      "c[7][8] = 2/9;\n",
      "c[7][9] = 0;\n",
      "c[8][0] = 8/27;\n",
      "c[8][1] = 0;\n",
      "c[8][2] = 1/27;\n",
      "c[8][3] = 0;\n",
      "c[8][4] = 0;\n",
      "c[8][5] = 0;\n",
      "c[8][6] = 0;\n",
      "c[8][7] = 2/9;\n",
      "c[8][8] = 4/9;\n",
      "c[8][9] = 0;\n",
      "c[9][0] = 1/27;\n",
      "c[9][1] = 1/27;\n",
      "c[9][2] = 1/27;\n",
      "c[9][3] = 1/9;\n",
      "c[9][4] = 1/9;\n",
      "c[9][5] = 1/9;\n",
      "c[9][6] = 1/9;\n",
      "c[9][7] = 1/9;\n",
      "c[9][8] = 1/9;\n",
      "c[9][9] = 2/9;\n"
     ]
    }
   ],
   "source": [
    "for i in range(b2l_mat.shape[0]):\n",
    "    for j in range(b2l_mat.shape[1]):\n",
    "        print(\"c[{}][{}] = {};\".format(i,j,Fraction(b2l_mat[i][j]).limit_denominator()))"
   ]
  },
  {
   "cell_type": "code",
   "execution_count": null,
   "metadata": {},
   "outputs": [],
   "source": []
  }
 ],
 "metadata": {
  "kernelspec": {
   "display_name": "base",
   "language": "python",
   "name": "python3"
  },
  "language_info": {
   "codemirror_mode": {
    "name": "ipython",
    "version": 3
   },
   "file_extension": ".py",
   "mimetype": "text/x-python",
   "name": "python",
   "nbconvert_exporter": "python",
   "pygments_lexer": "ipython3",
   "version": "3.11.5"
  }
 },
 "nbformat": 4,
 "nbformat_minor": 2
}
