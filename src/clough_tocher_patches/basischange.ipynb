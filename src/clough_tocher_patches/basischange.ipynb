{
 "cells": [
  {
   "cell_type": "code",
   "execution_count": 4,
   "metadata": {},
   "outputs": [],
   "source": [
    "import numpy as np\n",
    "import math"
   ]
  },
  {
   "cell_type": "code",
   "execution_count": 27,
   "metadata": {},
   "outputs": [],
   "source": [
    "def berstein_coeff_cubic(i,j,k):\n",
    "    return math.factorial(3)/(math.factorial(i) * math.factorial(j) * math.factorial(k))\n",
    "\n",
    "def berstein_monomial(ijk,uv):\n",
    "    i,j,k = ijk\n",
    "    u,v = uv\n",
    "    w = 1.0 - u - v\n",
    "    return pow(u, i) * pow(v, j) * pow(w, k)"
   ]
  },
  {
   "cell_type": "code",
   "execution_count": 17,
   "metadata": {},
   "outputs": [],
   "source": [
    "barycoords = np.array([\n",
    "    [0,0],\n",
    "    [1,0],\n",
    "    [0,1],\n",
    "\n",
    "    [1/3,0],\n",
    "    [2/3,0],\n",
    "\n",
    "    [2/3,1/3],\n",
    "    [1/3,2/3],\n",
    "\n",
    "    [0,2/3],\n",
    "    [0,1/3],\n",
    "\n",
    "    [1/3,1/3]\n",
    "])\n",
    "\n",
    "ijk = np.array([\n",
    "    [0,0,3],\n",
    "    [3,0,0],\n",
    "    [0,3,0],\n",
    "    [1,0,2],\n",
    "    [2,0,1],\n",
    "    [2,1,0],\n",
    "    [1,2,0],\n",
    "    [0,2,1],\n",
    "    [0,1,2],\n",
    "    [1,1,1]\n",
    "])"
   ]
  },
  {
   "cell_type": "code",
   "execution_count": 16,
   "metadata": {},
   "outputs": [],
   "source": [
    "b2l_mat = np.zeros((10,10))"
   ]
  },
  {
   "cell_type": "code",
   "execution_count": 28,
   "metadata": {},
   "outputs": [],
   "source": [
    "for row in range(10):\n",
    "    for col in range(10):\n",
    "        b2l_mat[row][col] = berstein_coeff_cubic(ijk[col][0], ijk[col][1], ijk[col][2]) * berstein_monomial(ijk[col], barycoords[row])"
   ]
  },
  {
   "cell_type": "code",
   "execution_count": 30,
   "metadata": {},
   "outputs": [],
   "source": [
    "l2b_mat = np.linalg.inv(b2l_mat)"
   ]
  },
  {
   "cell_type": "code",
   "execution_count": 35,
   "metadata": {},
   "outputs": [],
   "source": [
    "# test\n",
    "lag_nodes = np.array([\n",
    "    [0,0,1],\n",
    "    [1,0,1],\n",
    "    [0,1,1],\n",
    "    [1/3,0,1],\n",
    "    [2/3,0,1],\n",
    "    [2/3,1/3,1],\n",
    "    [1/3,2/3,1],\n",
    "    [0,2/3,1],\n",
    "    [0,1/3,1],\n",
    "    [1/3,1/3,1]\n",
    "])"
   ]
  },
  {
   "cell_type": "code",
   "execution_count": 57,
   "metadata": {},
   "outputs": [
    {
     "name": "stdout",
     "output_type": "stream",
     "text": [
      "[ 0.3333333333333336  0.3333333333333332  0.3333333333333331\n",
      " -0.7500000000000004 -0.7499999999999996 -0.7500000000000001\n",
      " -0.75               -0.7499999999999994 -0.7500000000000006\n",
      "  4.5               ]\n"
     ]
    }
   ],
   "source": [
    "np.set_printoptions(16)\n",
    "np.set_printoptions(suppress=True)\n",
    "# print(l2b_mat)\n",
    "print(l2b_mat[9])"
   ]
  },
  {
   "cell_type": "code",
   "execution_count": 58,
   "metadata": {},
   "outputs": [],
   "source": [
    "l2b_mat_frac = np.array([\n",
    "    [1., 0., 0., 0., 0., 0., 0., 0., 0., 0.],\n",
    "    [0., 1., 0., 0., 0., 0., 0., 0., 0., 0.],\n",
    "    [0., 0., 1., 0., 0., 0., 0., 0., 0., 0.],\n",
    "    [-5/6, 1/3, 0., 3., -3/2, 0., 0., 0., 0., 0.],\n",
    "    [1/3, -5/6, 0., -3/2, 3., 0., 0., 0., 0., 0.],\n",
    "    [0., -5/6, 1/3, 0., 0., 3., -3/2, 0., 0., 0.],\n",
    "    [0., 1/3, -5/6, 0., 0., -3/2, 3., 0., 0., 0.],\n",
    "    [1/3, 0., -5/6, 0., 0., 0., 0., 3., -3/2, 0.],\n",
    "    [-5/6, 0., 1/3, 0., 0., 0., 0., -3/2, 3., 0.],\n",
    "    [1/3, 1/3, 1/3, -3/4, -3/4, -3/4, -3/4, -3/4, -3/4, 9/2]\n",
    "])"
   ]
  },
  {
   "cell_type": "code",
   "execution_count": 60,
   "metadata": {},
   "outputs": [
    {
     "data": {
      "text/plain": [
       "2.8219723115308524e-15"
      ]
     },
     "execution_count": 60,
     "metadata": {},
     "output_type": "execute_result"
    }
   ],
   "source": [
    "np.linalg.norm(l2b_mat - l2b_mat_frac)"
   ]
  },
  {
   "cell_type": "code",
   "execution_count": 61,
   "metadata": {},
   "outputs": [
    {
     "data": {
      "text/plain": [
       "array([[0.                , 0.                , 1.                ],\n",
       "       [1.                , 0.                , 1.                ],\n",
       "       [0.                , 1.                , 1.                ],\n",
       "       [0.3333333333333333, 0.                , 1.                ],\n",
       "       [0.6666666666666666, 0.                , 1.                ],\n",
       "       [0.6666666666666665, 0.3333333333333333, 1.                ],\n",
       "       [0.3333333333333333, 0.6666666666666666, 1.                ],\n",
       "       [0.                , 0.6666666666666665, 1.                ],\n",
       "       [0.                , 0.3333333333333333, 1.                ],\n",
       "       [0.3333333333333334, 0.3333333333333334, 1.                ]])"
      ]
     },
     "execution_count": 61,
     "metadata": {},
     "output_type": "execute_result"
    }
   ],
   "source": [
    "l2b_mat_frac @ lag_nodes"
   ]
  },
  {
   "cell_type": "code",
   "execution_count": null,
   "metadata": {},
   "outputs": [],
   "source": []
  }
 ],
 "metadata": {
  "kernelspec": {
   "display_name": "base",
   "language": "python",
   "name": "python3"
  },
  "language_info": {
   "codemirror_mode": {
    "name": "ipython",
    "version": 3
   },
   "file_extension": ".py",
   "mimetype": "text/x-python",
   "name": "python",
   "nbconvert_exporter": "python",
   "pygments_lexer": "ipython3",
   "version": "3.11.5"
  }
 },
 "nbformat": 4,
 "nbformat_minor": 2
}
